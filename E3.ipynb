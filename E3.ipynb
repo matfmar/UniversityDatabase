{
    "metadata": {
        "kernelspec": {
            "name": "SQL",
            "display_name": "SQL",
            "language": "sql"
        },
        "language_info": {
            "name": "sql",
            "version": ""
        }
    },
    "nbformat_minor": 2,
    "nbformat": 4,
    "cells": [
        {
            "cell_type": "code",
            "source": [
                "--pierwsza tabela. (test, czy w ogóle działa)\r\n",
                "CREATE TABLE Studenci ( id_student char(10) NOT NULL PRIMARY KEY, imie varchar(20) NOT NULL, nazwisko varchar(20) NOT NULL, hash_haslo varchar(256));"
            ],
            "metadata": {
                "azdata_cell_guid": "2ae59447-09fb-474a-bdd3-156003af4fc2",
                "tags": []
            },
            "outputs": [
                {
                    "output_type": "display_data",
                    "data": {
                        "text/html": "Commands completed successfully."
                    },
                    "metadata": {}
                },
                {
                    "output_type": "display_data",
                    "data": {
                        "text/html": "Total execution time: 00:00:00.047"
                    },
                    "metadata": {}
                }
            ],
            "execution_count": 5
        },
        {
            "cell_type": "code",
            "source": [
                "--tworzenie pozostałych tabel;\r\n",
                "CREATE TABLE Wydzialy (wydzial varchar(100) NOT NULL PRIMARY KEY);\r\n",
                "CREATE TABLE Rodzaje (rodzaj varchar(50) NOT NULL PRIMARY KEY);\r\n",
                "CREATE TABLE Stopnie (stopien varchar(30) NOT NULL PRIMARY KEY);\r\n",
                "CREATE TABLE Studia ( id_studia int NOT NULL IDENTITY(1,1) PRIMARY KEY, wydzial varchar(100) NOT NULL FOREIGN KEY REFERENCES Wydzialy(wydzial), kierunek varchar(100) NOT NULL, rodzaj varchar(50) NOT NULL FOREIGN KEY REFERENCES Rodzaje(rodzaj) );\r\n",
                "CREATE TABLE Pracownicy ( id_pracownik int NOT NULL IDENTITY(1,1) PRIMARY KEY, imie varchar(20) NOT NULL, nazwisko varchar(20) NOT NULL, stopien varchar(30) FOREIGN KEY REFERENCES Stopnie(stopien), czyPodgladacz bit DEFAULT 0, czyHistoryk bit DEFAULT 0, czyWprowadzaczSystemu bit DEFAULT 0, czyAktualizator bit DEFAULT 0, czyZarzadzajacy bit DEFAULT 0, hash_haslo varchar(256));\r\n",
                "CREATE TABLE Prace ( id_praca int NOT NULL IDENTITY(1,1) PRIMARY KEY, tytul varchar(100) NOT NULL UNIQUE, dataDodania datetime DEFAULT GETDATE(), id_promotor int DEFAULT 1 FOREIGN KEY REFERENCES Pracownicy(id_pracownik), ocenaPromotora decimal(2,1) CHECK (ocenaPromotora >= 2.0 AND ocenaPromotora <= 5.0), ocenaKoncowa decimal(2,1) CHECK (ocenaKoncowa >= 2.0 AND ocenaKoncowa <= 5.0),  dataObrony datetime, liczbaRobotnikow tinyint DEFAULT 1 CHECK (liczbaRobotnikow >= 1 AND liczbaRobotnikow <= 3), wydzial varchar(100) NOT NULL FOREIGN KEY REFERENCES Wydzialy(wydzial), id_szefObrony int DEFAULT 1 FOREIGN KEY REFERENCES Pracownicy(id_pracownik), grupaRodzaj varchar(50) NOT NULL FOREIGN KEY REFERENCES Rodzaje(rodzaj));\r\n",
                "CREATE TABLE StudenciStudia ( id_student char(10) NOT NULL FOREIGN KEY REFERENCES Studenci(id_student), id_studia int NOT NULL FOREIGN KEY REFERENCES Studia(id_studia), id_student_studia int NOT NULL IDENTITY(2,1) PRIMARY KEY );\r\n",
                "CREATE TABLE StudenciPrace ( id_student char(10) NOT NULL FOREIGN KEY REFERENCES Studenci(id_student), id_praca int NOT NULL FOREIGN KEY REFERENCES Prace(id_praca), ocena decimal(2,1) CHECK (ocena >= 2.0 AND ocena <= 5.0), id_student_studia int NOT NULL FOREIGN KEY REFERENCES StudenciStudia(id_student_studia), PRIMARY KEY (id_student, id_praca));\r\n",
                "CREATE TABLE Slowa ( slowo varchar(100) NOT NULL PRIMARY KEY);\r\n",
                "CREATE TABLE PraceSlowa ( id_praca int NOT NULL FOREIGN KEY REFERENCES Prace(id_praca), slowo varchar(100) NOT NULL FOREIGN KEY REFERENCES Slowa(slowo), PRIMARY KEY (id_praca, slowo));\r\n",
                "CREATE TABLE PraceRecenzenci ( id_praca int NOT NULL FOREIGN KEY REFERENCES Prace(id_praca), id_recenzent int NOT NULL FOREIGN KEY REFERENCES Pracownicy(id_pracownik), ocena decimal(2,1) CHECK (ocena >= 2.0 AND ocena <= 5.0), PRIMARY KEY (id_praca, id_recenzent));"
            ],
            "metadata": {
                "azdata_cell_guid": "ddaf2bc1-2bf2-4c5a-8362-eb111ed0654e",
                "tags": []
            },
            "outputs": [
                {
                    "output_type": "display_data",
                    "data": {
                        "text/html": "Commands completed successfully."
                    },
                    "metadata": {}
                },
                {
                    "output_type": "display_data",
                    "data": {
                        "text/html": "Total execution time: 00:00:00.125"
                    },
                    "metadata": {}
                }
            ],
            "execution_count": 6
        },
        {
            "cell_type": "code",
            "source": [
                "--Wyzwalacze.\r\n",
                "--wyzwalacz wymuszający konkretny format danych tabeli Wydzialy.\r\n",
                "CREATE TRIGGER trig_ai_Wydzialy ON Wydzialy AFTER INSERT AS BEGIN UPDATE Wydzialy SET Wydzialy.wydzial = UPPER(TRIM(Wydzialy.wydzial)) FROM inserted WHERE Wydzialy.wydzial = inserted.wydzial; END;"
            ],
            "metadata": {
                "azdata_cell_guid": "7ef3e094-0c15-4e5b-ba97-2ad89f688a4a",
                "tags": []
            },
            "outputs": [
                {
                    "output_type": "display_data",
                    "data": {
                        "text/html": "Commands completed successfully."
                    },
                    "metadata": {}
                },
                {
                    "output_type": "display_data",
                    "data": {
                        "text/html": "Total execution time: 00:00:00.047"
                    },
                    "metadata": {}
                }
            ],
            "execution_count": 7
        },
        {
            "cell_type": "code",
            "source": [
                "--podobne wyzwalacze dla innych tabel\r\n",
                "CREATE TRIGGER trig_ai_Studia ON Studia AFTER INSERT AS BEGIN UPDATE Studia SET Studia.kierunek = UPPER(TRIM(Studia.kierunek)) FROM inserted WHERE Studia.kierunek = inserted.kierunek; END;"
            ],
            "metadata": {
                "azdata_cell_guid": "34e02913-de4d-42a6-8bb5-4dc5828c49fe",
                "tags": []
            },
            "outputs": [
                {
                    "output_type": "display_data",
                    "data": {
                        "text/html": "Commands completed successfully."
                    },
                    "metadata": {}
                },
                {
                    "output_type": "display_data",
                    "data": {
                        "text/html": "Total execution time: 00:00:00.067"
                    },
                    "metadata": {}
                }
            ],
            "execution_count": 8
        },
        {
            "cell_type": "code",
            "source": [
                "CREATE TRIGGER trig_ai_Rodzaje ON Rodzaje AFTER INSERT AS BEGIN UPDATE Rodzaje SET Rodzaje.rodzaj = UPPER(TRIM(Rodzaje.rodzaj)) FROM inserted WHERE Rodzaje.rodzaj = inserted.rodzaj; END;"
            ],
            "metadata": {
                "azdata_cell_guid": "a7cc5393-aeee-400f-98f2-1fefc63156d0",
                "tags": []
            },
            "outputs": [
                {
                    "output_type": "display_data",
                    "data": {
                        "text/html": "Commands completed successfully."
                    },
                    "metadata": {}
                },
                {
                    "output_type": "display_data",
                    "data": {
                        "text/html": "Total execution time: 00:00:00.045"
                    },
                    "metadata": {}
                }
            ],
            "execution_count": 9
        },
        {
            "cell_type": "code",
            "source": [
                "CREATE TRIGGER trig_ai_Studenci ON Studenci AFTER INSERT AS BEGIN UPDATE Studenci SET Studenci.id_student = TRIM(Studenci.id_student) FROM inserted WHERE Studenci.id_student = inserted.id_student; END;"
            ],
            "metadata": {
                "azdata_cell_guid": "96393ccd-6f9d-4739-a318-ce5427295da2",
                "tags": []
            },
            "outputs": [
                {
                    "output_type": "display_data",
                    "data": {
                        "text/html": "Commands completed successfully."
                    },
                    "metadata": {}
                },
                {
                    "output_type": "display_data",
                    "data": {
                        "text/html": "Total execution time: 00:00:00.048"
                    },
                    "metadata": {}
                }
            ],
            "execution_count": 10
        },
        {
            "cell_type": "code",
            "source": [
                "CREATE TRIGGER trig_ai_Stopnie ON Stopnie AFTER INSERT AS BEGIN UPDATE Stopnie SET Stopnie.stopien = UPPER(TRIM(Stopnie.stopien)) FROM inserted WHERE Stopnie.stopien = inserted.stopien; END;"
            ],
            "metadata": {
                "azdata_cell_guid": "ce5ac3a9-0059-4f54-9e4e-65af40aa547a",
                "tags": []
            },
            "outputs": [
                {
                    "output_type": "display_data",
                    "data": {
                        "text/html": "Commands completed successfully."
                    },
                    "metadata": {}
                },
                {
                    "output_type": "display_data",
                    "data": {
                        "text/html": "Total execution time: 00:00:00.044"
                    },
                    "metadata": {}
                }
            ],
            "execution_count": 11
        },
        {
            "cell_type": "code",
            "source": [
                "--analogiczne wyzwalacze dla aktualizacji danych w tych tabelach\r\n",
                "CREATE TRIGGER trig_au_Wydzialy ON Wydzialy AFTER UPDATE AS BEGIN UPDATE Wydzialy SET Wydzialy.wydzial = UPPER(TRIM(Wydzialy.wydzial)) FROM inserted WHERE Wydzialy.wydzial = inserted.wydzial; END\r\n",
                "GO\r\n",
                "CREATE TRIGGER trig_au_Studia ON Studia AFTER UPDATE AS BEGIN UPDATE Studia SET Studia.kierunek = UPPER(TRIM(Studia.kierunek)) FROM inserted WHERE Studia.kierunek = inserted.kierunek; END\r\n",
                "GO\r\n",
                "CREATE TRIGGER trig_au_Rodzaje ON Rodzaje AFTER UPDATE AS BEGIN UPDATE Rodzaje SET Rodzaje.rodzaj = UPPER(TRIM(Rodzaje.rodzaj)) FROM inserted WHERE Rodzaje.rodzaj = inserted.rodzaj; END\r\n",
                "GO\r\n",
                "CREATE TRIGGER trig_au_Studenci ON Studenci AFTER UPDATE AS BEGIN UPDATE Studenci SET Studenci.id_student = TRIM(Studenci.id_student) FROM inserted WHERE Studenci.id_student = inserted.id_student; END\r\n",
                "GO\r\n",
                "CREATE TRIGGER trig_au_Stopnie ON Stopnie AFTER UPDATE AS BEGIN UPDATE Stopnie SET Stopnie.stopien = UPPER(TRIM(Stopnie.stopien)) FROM inserted WHERE Stopnie.stopien = inserted.stopien; END"
            ],
            "metadata": {
                "azdata_cell_guid": "ca514954-4754-4bb5-a4ea-1fe5b3ccb6b3",
                "tags": []
            },
            "outputs": [
                {
                    "output_type": "display_data",
                    "data": {
                        "text/html": "Commands completed successfully."
                    },
                    "metadata": {}
                },
                {
                    "output_type": "display_data",
                    "data": {
                        "text/html": "Commands completed successfully."
                    },
                    "metadata": {}
                },
                {
                    "output_type": "display_data",
                    "data": {
                        "text/html": "Commands completed successfully."
                    },
                    "metadata": {}
                },
                {
                    "output_type": "display_data",
                    "data": {
                        "text/html": "Commands completed successfully."
                    },
                    "metadata": {}
                },
                {
                    "output_type": "display_data",
                    "data": {
                        "text/html": "Commands completed successfully."
                    },
                    "metadata": {}
                },
                {
                    "output_type": "display_data",
                    "data": {
                        "text/html": "Total execution time: 00:00:00.228"
                    },
                    "metadata": {}
                }
            ],
            "execution_count": 12
        },
        {
            "cell_type": "code",
            "source": [
                "--wyzwlacz zapewniający odpowiedniego promotora\r\n",
                "CREATE TRIGGER trig_biu_Prace ON Prace AFTER INSERT, UPDATE AS \r\n",
                "BEGIN\r\n",
                "DECLARE @stopref varchar(30);\r\n",
                "DECLARE @insertedidpromotor int;\r\n",
                "SELECT @insertedidpromotor = id_promotor FROM inserted;\r\n",
                "SELECT @stopref = stopien FROM Pracownicy WHERE Pracownicy.id_pracownik = @insertedidpromotor;\r\n",
                "IF ((@stopref NOT LIKE '%DR%') AND (@stopref NOT LIKE '%PROF%')) \r\n",
                "ROLLBACK TRANSACTION;\r\n",
                "END"
            ],
            "metadata": {
                "azdata_cell_guid": "88d1250c-8f55-48d7-842b-a8f27c410f75",
                "tags": []
            },
            "outputs": [
                {
                    "output_type": "display_data",
                    "data": {
                        "text/html": "Commands completed successfully."
                    },
                    "metadata": {}
                },
                {
                    "output_type": "display_data",
                    "data": {
                        "text/html": "Total execution time: 00:00:00.045"
                    },
                    "metadata": {}
                }
            ],
            "execution_count": 13
        },
        {
            "cell_type": "code",
            "source": [
                "--wyzwalacz zapewniający, że recenzent nie będzie promotorem tej samej pracy\r\n",
                "CREATE TRIGGER trig_biu_PraceRecenzenci ON PraceRecenzenci AFTER INSERT, UPDATE AS\r\n",
                "BEGIN\r\n",
                "DECLARE @refprom int;\r\n",
                "DECLARE @insertedpraca int;\r\n",
                "DECLARE @insertedrecenzent int;\r\n",
                "SELECT @insertedpraca = id_praca, @insertedrecenzent = id_recenzent FROM inserted;\r\n",
                "SELECT @refprom = id_promotor FROM Prace WHERE id_praca = @insertedpraca;\r\n",
                "IF @insertedrecenzent = @refprom\r\n",
                "ROLLBACK TRANSACTION;\r\n",
                "END"
            ],
            "metadata": {
                "azdata_cell_guid": "93b915a1-9369-4887-bc44-97c6d0a68578",
                "tags": []
            },
            "outputs": [
                {
                    "output_type": "display_data",
                    "data": {
                        "text/html": "Commands completed successfully."
                    },
                    "metadata": {}
                },
                {
                    "output_type": "display_data",
                    "data": {
                        "text/html": "Total execution time: 00:00:00.053"
                    },
                    "metadata": {}
                }
            ],
            "execution_count": 14
        },
        {
            "cell_type": "code",
            "source": [
                "--wyzwalacz zapewniający, że każda praca ma przynajmniej jedno słowo kluczowe\r\n",
                "CREATE TRIGGER trig_ai_Prace ON Prace AFTER INSERT AS\r\n",
                "BEGIN\r\n",
                "DECLARE @insertedidpraca int;\r\n",
                "SELECT @insertedidpraca = id_praca FROM inserted;\r\n",
                "INSERT INTO PraceSlowa (id_praca, slowo) VALUES (@insertedidpraca, 'PRACA DYPLOMOWA');\r\n",
                "END"
            ],
            "metadata": {
                "azdata_cell_guid": "963a24e9-a63d-4982-aae5-033a4703c681",
                "tags": []
            },
            "outputs": [
                {
                    "output_type": "display_data",
                    "data": {
                        "text/html": "Commands completed successfully."
                    },
                    "metadata": {}
                },
                {
                    "output_type": "display_data",
                    "data": {
                        "text/html": "Total execution time: 00:00:00.044"
                    },
                    "metadata": {}
                }
            ],
            "execution_count": 15
        },
        {
            "cell_type": "code",
            "source": [
                "--procedura do następnego wyzwalacza sprawdzającego czy podany student w ogóle może dodać odpowiednią pracę\r\n",
                "CREATE PROCEDURE sp_trig_ai_StudenciPrace @idstudent CHAR(10), @idpraca INT, @idstudentstudia INT, @info bit OUT\r\n",
                "AS\r\n",
                "BEGIN \r\n",
                "DECLARE @wydzialWprace VARCHAR(100); \r\n",
                "DECLARE @wydzialWstudia VARCHAR(100); \r\n",
                "DECLARE @rodzajWprace VARCHAR(50); \r\n",
                "DECLARE @rodzajWstudia VARCHAR(50); \r\n",
                "DECLARE @gotowe BIT; \r\n",
                "SET @info = 0;\r\n",
                "SELECT @wydzialWprace = Prace.wydzial, @rodzajWprace = Prace.grupaRodzaj FROM Prace WHERE Prace.id_praca = @idpraca; \r\n",
                "SELECT @wydzialWstudia = Studia.wydzial, @rodzajWstudia = Studia.rodzaj FROM StudenciStudia INNER JOIN Studia ON StudenciStudia.id_studia = Studia.id_studia WHERE (StudenciStudia.id_student_studia = @idstudentstudia AND StudenciStudia.id_student = @idstudent);\r\n",
                "IF ((@wydzialWstudia = @wydzialWprace) AND (@rodzajWstudia = @rodzajWprace))\r\n",
                "    SET @info = 1; \r\n",
                "END;"
            ],
            "metadata": {
                "azdata_cell_guid": "91c796b7-8def-46e8-9e35-a993ded22817",
                "tags": []
            },
            "outputs": [
                {
                    "output_type": "display_data",
                    "data": {
                        "text/html": "Commands completed successfully."
                    },
                    "metadata": {}
                },
                {
                    "output_type": "display_data",
                    "data": {
                        "text/html": "Total execution time: 00:00:00.044"
                    },
                    "metadata": {}
                }
            ],
            "execution_count": 16
        },
        {
            "cell_type": "code",
            "source": [
                "--wspomniany powyżej wyzwalacz czy podany student w ogóle może dodać odpowiednią pracę\r\n",
                "CREATE TRIGGER trig_aiu_StudenciPrace ON StudenciPrace AFTER INSERT, UPDATE AS \r\n",
                "BEGIN\r\n",
                "DECLARE @info bit;\r\n",
                "DECLARE @insertedidstudent int;\r\n",
                "DECLARE @insertedidpraca int;\r\n",
                "DECLARE @insertedidstudentstudia int;\r\n",
                "SET @info = 0; \r\n",
                "SELECT @insertedidstudent = id_student FROM inserted;\r\n",
                "SELECT @insertedidpraca = id_praca FROM inserted;\r\n",
                "SELECT @insertedidstudentstudia = id_student_studia FROM inserted;\r\n",
                "EXEC sp_trig_ai_StudenciPrace @insertedidstudent, @insertedidpraca, @insertedidstudentstudia, @info OUT;\r\n",
                "IF @info != 1 \r\n",
                "ROLLBACK TRANSACTION; \r\n",
                "END;"
            ],
            "metadata": {
                "azdata_cell_guid": "8ee8ac27-c610-47a4-bf80-a91bf0997ca4",
                "tags": []
            },
            "outputs": [
                {
                    "output_type": "display_data",
                    "data": {
                        "text/html": "Commands completed successfully."
                    },
                    "metadata": {}
                },
                {
                    "output_type": "display_data",
                    "data": {
                        "text/html": "Total execution time: 00:00:00.047"
                    },
                    "metadata": {}
                }
            ],
            "execution_count": 17
        },
        {
            "cell_type": "code",
            "source": [
                "--dodawanie danych, cz.I. \r\n",
                "INSERT INTO Wydzialy (wydzial) VALUES ('elektryczny');\r\n",
                "INSERT INTO Wydzialy (wydzial) VALUES ('matematyczno-przyrodniczy');\r\n",
                "INSERT INTO Wydzialy (wydzial) VALUES ('nauk o zdrowiu');\r\n",
                "INSERT INTO Wydzialy (wydzial) VALUES ('fizyki');\r\n",
                "INSERT INTO Wydzialy (wydzial) VALUES ('ekonomii i administracji');\r\n",
                "INSERT INTO Wydzialy (wydzial) VALUES ('chemii');\r\n",
                "INSERT INTO Rodzaje (rodzaj) VALUES ('inżynierskie');\r\n",
                "INSERT INTO Rodzaje (rodzaj) VALUES ('magisterskie');\r\n",
                "INSERT INTO Rodzaje (rodzaj) VALUES ('licencjackie');\r\n",
                "INSERT INTO Rodzaje (rodzaj) VALUES ('doktoranckie');\r\n",
                "INSERT INTO Studia (wydzial, kierunek, rodzaj) VALUES ('ELEKTRYCZNY','informatyka stosowana','INŻYNIERSKIE');\r\n",
                "INSERT INTO Studia (wydzial, kierunek, rodzaj) VALUES ('ELEKTRYCZNY','elektrotechnika i elektronika','INŻYNIERSKIE');\r\n",
                "INSERT INTO Studia (wydzial, kierunek, rodzaj) VALUES ('EKONOMII I ADMINISTRACJI','ekonomia stosowana','LICENCJACKIE');\r\n",
                "INSERT INTO Studia (wydzial, kierunek, rodzaj) VALUES ('EKONOMII I ADMINISTRACJI','zarządzanie','LICENCJACKIE');\r\n",
                "INSERT INTO Studia (wydzial, kierunek, rodzaj) VALUES ('FIZYKI','fizyka stosowana','LICENCJACKIE');\r\n",
                "INSERT INTO Studia (wydzial, kierunek, rodzaj) VALUES ('FIZYKI','fizyka kwantowa i relatywistyczna','DOKTORANCKIE');\r\n",
                "INSERT INTO Studia (wydzial, kierunek, rodzaj) VALUES ('CHEMII','chemia organiczna','MAGISTERSKIE');\r\n",
                "INSERT INTO Studia (wydzial, kierunek, rodzaj) VALUES ('CHEMII','chemia mistrzów','DOKTORANCKIE');\r\n",
                "INSERT INTO Studia (wydzial, kierunek, rodzaj) VALUES ('NAUK O ZDROWIU','pielęgniarstwo','LICENCJACKIE');\r\n",
                "INSERT INTO Studia (wydzial,kierunek,rodzaj) VALUES ('FIZYKI','Siła grawitacji przy budowie mostów','INŻYNIERSKIE');\r\n",
                "INSERT INTO Studenci (id_student,imie,nazwisko) VALUES ('135','Anna','Andrzejewska');\r\n",
                "INSERT INTO Studenci (id_student,imie,nazwisko) VALUES ('138','Bartosz','Benedyktyński');\r\n",
                "INSERT INTO Studenci (id_student,imie,nazwisko) VALUES ('256','Czesława','Cymbalińska');\r\n",
                "INSERT INTO Studenci (id_student,imie,nazwisko) VALUES ('413','Dionizy','Dogłębny');\r\n",
                "INSERT INTO Studenci (id_student,imie,nazwisko) VALUES ('1123','Eleonora','Elektryfikująca');\r\n",
                "INSERT INTO Studenci (id_student,imie,nazwisko) VALUES ('1563','Franciszek','Frankowski');\r\n",
                "INSERT INTO Studenci (id_student, imie, nazwisko) VALUES ('35672','Franciszek','Ferdynancki');\r\n",
                "INSERT INTO Studenci (id_student, imie, nazwisko) VALUES ('8747','Grzegorz','Gorycki');\r\n",
                "INSERT INTO Studenci (id_student, imie, nazwisko) VALUES ('11234','Henryk','Heniawski');\r\n",
                "INSERT INTO Studenci (id_student,imie,nazwisko) VALUES ('987','Ilona','Iłanicka');\r\n",
                "INSERT INTO Stopnie VALUES ('inż');\r\n",
                "INSERT INTO Stopnie VALUES ('lic');\r\n",
                "INSERT INTO Stopnie VALUES ('dr');\r\n",
                "INSERT INTO Stopnie VALUES ('dr inż');\r\n",
                "INSERT INTO Stopnie VALUES ('dr hab');\r\n",
                "INSERT INTO Stopnie VALUES ('prof');\r\n",
                "INSERT INTO Stopnie VALUES ('prof dr hab');\r\n",
                "INSERT INTO Stopnie VALUES ('mgr');\r\n",
                "INSERT INTO Pracownicy (imie, nazwisko, stopien) VALUES ('probny','probny','DR');\r\n",
                "INSERT INTO Pracownicy (imie, nazwisko, stopien) VALUES ('Rakoczy','Rondecki','PROF');\r\n",
                "INSERT INTO Pracownicy (imie, nazwisko, stopien) VALUES ('Zygfryd','Zebrzański','DR');\r\n",
                "INSERT INTO Pracownicy (imie, nazwisko, stopien) VALUES ('Paulina','Penderecka','DR HAB');\r\n",
                "INSERT INTO Pracownicy (imie, nazwisko, stopien) VALUES ('Tadeusz','Tokarski','MGR');\r\n",
                "INSERT INTO Pracownicy (imie, nazwisko, stopien) VALUES ('Sonia','Szarecka','LIC');\r\n",
                "INSERT INTO Pracownicy (imie, nazwisko, stopien) VALUES ('Ola','Oskarska','INŻ');\r\n",
                "INSERT INTO Pracownicy (imie, nazwisko, stopien) VALUES ('Marek','Moczydłowski','DR INŻ');\r\n",
                "INSERT INTO Pracownicy (imie,nazwisko,stopien) VALUES ('Marek', 'Moczydłowski', 'PROF');\r\n",
                "INSERT INTO Slowa VALUES ('potencjał błonowy');\r\n",
                "INSERT INTO Slowa VALUES ('nitrozaminy');\r\n",
                "INSERT INTO Slowa VALUES ('neuroleptyki');\r\n",
                "INSERT INTO Slowa VALUES ('prąd elektryczny');\r\n",
                "INSERT INTO Slowa VALUES ('konstrukcje żelbetowe');\r\n",
                "INSERT INTO Slowa VALUES ('nosorożce na sawannie');\r\n",
                "INSERT INTO Slowa VALUES ('praca dyplomowa');"
            ],
            "metadata": {
                "azdata_cell_guid": "fc60ce76-50cc-44ea-8f88-19fd86bfe772",
                "tags": []
            },
            "outputs": [
                {
                    "output_type": "display_data",
                    "data": {
                        "text/html": "(1 row affected)"
                    },
                    "metadata": {}
                },
                {
                    "output_type": "display_data",
                    "data": {
                        "text/html": "(1 row affected)"
                    },
                    "metadata": {}
                },
                {
                    "output_type": "display_data",
                    "data": {
                        "text/html": "(1 row affected)"
                    },
                    "metadata": {}
                },
                {
                    "output_type": "display_data",
                    "data": {
                        "text/html": "(1 row affected)"
                    },
                    "metadata": {}
                },
                {
                    "output_type": "display_data",
                    "data": {
                        "text/html": "(1 row affected)"
                    },
                    "metadata": {}
                },
                {
                    "output_type": "display_data",
                    "data": {
                        "text/html": "(1 row affected)"
                    },
                    "metadata": {}
                },
                {
                    "output_type": "display_data",
                    "data": {
                        "text/html": "(1 row affected)"
                    },
                    "metadata": {}
                },
                {
                    "output_type": "display_data",
                    "data": {
                        "text/html": "(1 row affected)"
                    },
                    "metadata": {}
                },
                {
                    "output_type": "display_data",
                    "data": {
                        "text/html": "(1 row affected)"
                    },
                    "metadata": {}
                },
                {
                    "output_type": "display_data",
                    "data": {
                        "text/html": "(1 row affected)"
                    },
                    "metadata": {}
                },
                {
                    "output_type": "display_data",
                    "data": {
                        "text/html": "(1 row affected)"
                    },
                    "metadata": {}
                },
                {
                    "output_type": "display_data",
                    "data": {
                        "text/html": "(1 row affected)"
                    },
                    "metadata": {}
                },
                {
                    "output_type": "display_data",
                    "data": {
                        "text/html": "(1 row affected)"
                    },
                    "metadata": {}
                },
                {
                    "output_type": "display_data",
                    "data": {
                        "text/html": "(1 row affected)"
                    },
                    "metadata": {}
                },
                {
                    "output_type": "display_data",
                    "data": {
                        "text/html": "(1 row affected)"
                    },
                    "metadata": {}
                },
                {
                    "output_type": "display_data",
                    "data": {
                        "text/html": "(1 row affected)"
                    },
                    "metadata": {}
                },
                {
                    "output_type": "display_data",
                    "data": {
                        "text/html": "(1 row affected)"
                    },
                    "metadata": {}
                },
                {
                    "output_type": "display_data",
                    "data": {
                        "text/html": "(1 row affected)"
                    },
                    "metadata": {}
                },
                {
                    "output_type": "display_data",
                    "data": {
                        "text/html": "(1 row affected)"
                    },
                    "metadata": {}
                },
                {
                    "output_type": "display_data",
                    "data": {
                        "text/html": "(1 row affected)"
                    },
                    "metadata": {}
                },
                {
                    "output_type": "display_data",
                    "data": {
                        "text/html": "(1 row affected)"
                    },
                    "metadata": {}
                },
                {
                    "output_type": "display_data",
                    "data": {
                        "text/html": "(1 row affected)"
                    },
                    "metadata": {}
                },
                {
                    "output_type": "display_data",
                    "data": {
                        "text/html": "(1 row affected)"
                    },
                    "metadata": {}
                },
                {
                    "output_type": "display_data",
                    "data": {
                        "text/html": "(1 row affected)"
                    },
                    "metadata": {}
                },
                {
                    "output_type": "display_data",
                    "data": {
                        "text/html": "(1 row affected)"
                    },
                    "metadata": {}
                },
                {
                    "output_type": "display_data",
                    "data": {
                        "text/html": "(1 row affected)"
                    },
                    "metadata": {}
                },
                {
                    "output_type": "display_data",
                    "data": {
                        "text/html": "(1 row affected)"
                    },
                    "metadata": {}
                },
                {
                    "output_type": "display_data",
                    "data": {
                        "text/html": "(1 row affected)"
                    },
                    "metadata": {}
                },
                {
                    "output_type": "display_data",
                    "data": {
                        "text/html": "(1 row affected)"
                    },
                    "metadata": {}
                },
                {
                    "output_type": "display_data",
                    "data": {
                        "text/html": "(1 row affected)"
                    },
                    "metadata": {}
                },
                {
                    "output_type": "display_data",
                    "data": {
                        "text/html": "(1 row affected)"
                    },
                    "metadata": {}
                },
                {
                    "output_type": "display_data",
                    "data": {
                        "text/html": "(1 row affected)"
                    },
                    "metadata": {}
                },
                {
                    "output_type": "display_data",
                    "data": {
                        "text/html": "(1 row affected)"
                    },
                    "metadata": {}
                },
                {
                    "output_type": "display_data",
                    "data": {
                        "text/html": "(1 row affected)"
                    },
                    "metadata": {}
                },
                {
                    "output_type": "display_data",
                    "data": {
                        "text/html": "(1 row affected)"
                    },
                    "metadata": {}
                },
                {
                    "output_type": "display_data",
                    "data": {
                        "text/html": "(1 row affected)"
                    },
                    "metadata": {}
                },
                {
                    "output_type": "display_data",
                    "data": {
                        "text/html": "(1 row affected)"
                    },
                    "metadata": {}
                },
                {
                    "output_type": "display_data",
                    "data": {
                        "text/html": "(1 row affected)"
                    },
                    "metadata": {}
                },
                {
                    "output_type": "display_data",
                    "data": {
                        "text/html": "(1 row affected)"
                    },
                    "metadata": {}
                },
                {
                    "output_type": "display_data",
                    "data": {
                        "text/html": "(1 row affected)"
                    },
                    "metadata": {}
                },
                {
                    "output_type": "display_data",
                    "data": {
                        "text/html": "(1 row affected)"
                    },
                    "metadata": {}
                },
                {
                    "output_type": "display_data",
                    "data": {
                        "text/html": "(1 row affected)"
                    },
                    "metadata": {}
                },
                {
                    "output_type": "display_data",
                    "data": {
                        "text/html": "(1 row affected)"
                    },
                    "metadata": {}
                },
                {
                    "output_type": "display_data",
                    "data": {
                        "text/html": "(1 row affected)"
                    },
                    "metadata": {}
                },
                {
                    "output_type": "display_data",
                    "data": {
                        "text/html": "(1 row affected)"
                    },
                    "metadata": {}
                },
                {
                    "output_type": "display_data",
                    "data": {
                        "text/html": "(1 row affected)"
                    },
                    "metadata": {}
                },
                {
                    "output_type": "display_data",
                    "data": {
                        "text/html": "(1 row affected)"
                    },
                    "metadata": {}
                },
                {
                    "output_type": "display_data",
                    "data": {
                        "text/html": "(1 row affected)"
                    },
                    "metadata": {}
                },
                {
                    "output_type": "display_data",
                    "data": {
                        "text/html": "(1 row affected)"
                    },
                    "metadata": {}
                },
                {
                    "output_type": "display_data",
                    "data": {
                        "text/html": "(1 row affected)"
                    },
                    "metadata": {}
                },
                {
                    "output_type": "display_data",
                    "data": {
                        "text/html": "(1 row affected)"
                    },
                    "metadata": {}
                },
                {
                    "output_type": "display_data",
                    "data": {
                        "text/html": "(1 row affected)"
                    },
                    "metadata": {}
                },
                {
                    "output_type": "display_data",
                    "data": {
                        "text/html": "(1 row affected)"
                    },
                    "metadata": {}
                },
                {
                    "output_type": "display_data",
                    "data": {
                        "text/html": "(1 row affected)"
                    },
                    "metadata": {}
                },
                {
                    "output_type": "display_data",
                    "data": {
                        "text/html": "(1 row affected)"
                    },
                    "metadata": {}
                },
                {
                    "output_type": "display_data",
                    "data": {
                        "text/html": "(1 row affected)"
                    },
                    "metadata": {}
                },
                {
                    "output_type": "display_data",
                    "data": {
                        "text/html": "(1 row affected)"
                    },
                    "metadata": {}
                },
                {
                    "output_type": "display_data",
                    "data": {
                        "text/html": "(1 row affected)"
                    },
                    "metadata": {}
                },
                {
                    "output_type": "display_data",
                    "data": {
                        "text/html": "(1 row affected)"
                    },
                    "metadata": {}
                },
                {
                    "output_type": "display_data",
                    "data": {
                        "text/html": "(1 row affected)"
                    },
                    "metadata": {}
                },
                {
                    "output_type": "display_data",
                    "data": {
                        "text/html": "(1 row affected)"
                    },
                    "metadata": {}
                },
                {
                    "output_type": "display_data",
                    "data": {
                        "text/html": "(1 row affected)"
                    },
                    "metadata": {}
                },
                {
                    "output_type": "display_data",
                    "data": {
                        "text/html": "(1 row affected)"
                    },
                    "metadata": {}
                },
                {
                    "output_type": "display_data",
                    "data": {
                        "text/html": "(1 row affected)"
                    },
                    "metadata": {}
                },
                {
                    "output_type": "display_data",
                    "data": {
                        "text/html": "(1 row affected)"
                    },
                    "metadata": {}
                },
                {
                    "output_type": "display_data",
                    "data": {
                        "text/html": "(1 row affected)"
                    },
                    "metadata": {}
                },
                {
                    "output_type": "display_data",
                    "data": {
                        "text/html": "(1 row affected)"
                    },
                    "metadata": {}
                },
                {
                    "output_type": "display_data",
                    "data": {
                        "text/html": "(1 row affected)"
                    },
                    "metadata": {}
                },
                {
                    "output_type": "display_data",
                    "data": {
                        "text/html": "(1 row affected)"
                    },
                    "metadata": {}
                },
                {
                    "output_type": "display_data",
                    "data": {
                        "text/html": "(1 row affected)"
                    },
                    "metadata": {}
                },
                {
                    "output_type": "display_data",
                    "data": {
                        "text/html": "(1 row affected)"
                    },
                    "metadata": {}
                },
                {
                    "output_type": "display_data",
                    "data": {
                        "text/html": "(1 row affected)"
                    },
                    "metadata": {}
                },
                {
                    "output_type": "display_data",
                    "data": {
                        "text/html": "(1 row affected)"
                    },
                    "metadata": {}
                },
                {
                    "output_type": "display_data",
                    "data": {
                        "text/html": "(1 row affected)"
                    },
                    "metadata": {}
                },
                {
                    "output_type": "display_data",
                    "data": {
                        "text/html": "(1 row affected)"
                    },
                    "metadata": {}
                },
                {
                    "output_type": "display_data",
                    "data": {
                        "text/html": "(1 row affected)"
                    },
                    "metadata": {}
                },
                {
                    "output_type": "display_data",
                    "data": {
                        "text/html": "(1 row affected)"
                    },
                    "metadata": {}
                },
                {
                    "output_type": "display_data",
                    "data": {
                        "text/html": "(1 row affected)"
                    },
                    "metadata": {}
                },
                {
                    "output_type": "display_data",
                    "data": {
                        "text/html": "(1 row affected)"
                    },
                    "metadata": {}
                },
                {
                    "output_type": "display_data",
                    "data": {
                        "text/html": "(1 row affected)"
                    },
                    "metadata": {}
                },
                {
                    "output_type": "display_data",
                    "data": {
                        "text/html": "(1 row affected)"
                    },
                    "metadata": {}
                },
                {
                    "output_type": "display_data",
                    "data": {
                        "text/html": "(1 row affected)"
                    },
                    "metadata": {}
                },
                {
                    "output_type": "display_data",
                    "data": {
                        "text/html": "(1 row affected)"
                    },
                    "metadata": {}
                },
                {
                    "output_type": "display_data",
                    "data": {
                        "text/html": "(1 row affected)"
                    },
                    "metadata": {}
                },
                {
                    "output_type": "display_data",
                    "data": {
                        "text/html": "(1 row affected)"
                    },
                    "metadata": {}
                },
                {
                    "output_type": "display_data",
                    "data": {
                        "text/html": "(1 row affected)"
                    },
                    "metadata": {}
                },
                {
                    "output_type": "display_data",
                    "data": {
                        "text/html": "(1 row affected)"
                    },
                    "metadata": {}
                },
                {
                    "output_type": "display_data",
                    "data": {
                        "text/html": "(1 row affected)"
                    },
                    "metadata": {}
                },
                {
                    "output_type": "display_data",
                    "data": {
                        "text/html": "(1 row affected)"
                    },
                    "metadata": {}
                },
                {
                    "output_type": "display_data",
                    "data": {
                        "text/html": "(1 row affected)"
                    },
                    "metadata": {}
                },
                {
                    "output_type": "display_data",
                    "data": {
                        "text/html": "(1 row affected)"
                    },
                    "metadata": {}
                },
                {
                    "output_type": "display_data",
                    "data": {
                        "text/html": "(1 row affected)"
                    },
                    "metadata": {}
                },
                {
                    "output_type": "display_data",
                    "data": {
                        "text/html": "(1 row affected)"
                    },
                    "metadata": {}
                },
                {
                    "output_type": "display_data",
                    "data": {
                        "text/html": "(1 row affected)"
                    },
                    "metadata": {}
                },
                {
                    "output_type": "display_data",
                    "data": {
                        "text/html": "(1 row affected)"
                    },
                    "metadata": {}
                },
                {
                    "output_type": "display_data",
                    "data": {
                        "text/html": "(1 row affected)"
                    },
                    "metadata": {}
                },
                {
                    "output_type": "display_data",
                    "data": {
                        "text/html": "(1 row affected)"
                    },
                    "metadata": {}
                },
                {
                    "output_type": "display_data",
                    "data": {
                        "text/html": "(1 row affected)"
                    },
                    "metadata": {}
                },
                {
                    "output_type": "display_data",
                    "data": {
                        "text/html": "(1 row affected)"
                    },
                    "metadata": {}
                },
                {
                    "output_type": "display_data",
                    "data": {
                        "text/html": "(1 row affected)"
                    },
                    "metadata": {}
                },
                {
                    "output_type": "display_data",
                    "data": {
                        "text/html": "(1 row affected)"
                    },
                    "metadata": {}
                },
                {
                    "output_type": "display_data",
                    "data": {
                        "text/html": "(1 row affected)"
                    },
                    "metadata": {}
                },
                {
                    "output_type": "display_data",
                    "data": {
                        "text/html": "(1 row affected)"
                    },
                    "metadata": {}
                },
                {
                    "output_type": "display_data",
                    "data": {
                        "text/html": "(1 row affected)"
                    },
                    "metadata": {}
                },
                {
                    "output_type": "display_data",
                    "data": {
                        "text/html": "(1 row affected)"
                    },
                    "metadata": {}
                },
                {
                    "output_type": "display_data",
                    "data": {
                        "text/html": "(1 row affected)"
                    },
                    "metadata": {}
                },
                {
                    "output_type": "display_data",
                    "data": {
                        "text/html": "(1 row affected)"
                    },
                    "metadata": {}
                },
                {
                    "output_type": "display_data",
                    "data": {
                        "text/html": "(1 row affected)"
                    },
                    "metadata": {}
                },
                {
                    "output_type": "display_data",
                    "data": {
                        "text/html": "(1 row affected)"
                    },
                    "metadata": {}
                },
                {
                    "output_type": "display_data",
                    "data": {
                        "text/html": "(1 row affected)"
                    },
                    "metadata": {}
                },
                {
                    "output_type": "display_data",
                    "data": {
                        "text/html": "(1 row affected)"
                    },
                    "metadata": {}
                },
                {
                    "output_type": "display_data",
                    "data": {
                        "text/html": "(1 row affected)"
                    },
                    "metadata": {}
                },
                {
                    "output_type": "display_data",
                    "data": {
                        "text/html": "(1 row affected)"
                    },
                    "metadata": {}
                },
                {
                    "output_type": "display_data",
                    "data": {
                        "text/html": "(1 row affected)"
                    },
                    "metadata": {}
                },
                {
                    "output_type": "display_data",
                    "data": {
                        "text/html": "(1 row affected)"
                    },
                    "metadata": {}
                },
                {
                    "output_type": "display_data",
                    "data": {
                        "text/html": "(1 row affected)"
                    },
                    "metadata": {}
                },
                {
                    "output_type": "display_data",
                    "data": {
                        "text/html": "(1 row affected)"
                    },
                    "metadata": {}
                },
                {
                    "output_type": "display_data",
                    "data": {
                        "text/html": "(1 row affected)"
                    },
                    "metadata": {}
                },
                {
                    "output_type": "display_data",
                    "data": {
                        "text/html": "(1 row affected)"
                    },
                    "metadata": {}
                },
                {
                    "output_type": "display_data",
                    "data": {
                        "text/html": "(1 row affected)"
                    },
                    "metadata": {}
                },
                {
                    "output_type": "display_data",
                    "data": {
                        "text/html": "(1 row affected)"
                    },
                    "metadata": {}
                },
                {
                    "output_type": "display_data",
                    "data": {
                        "text/html": "(1 row affected)"
                    },
                    "metadata": {}
                },
                {
                    "output_type": "display_data",
                    "data": {
                        "text/html": "(1 row affected)"
                    },
                    "metadata": {}
                },
                {
                    "output_type": "display_data",
                    "data": {
                        "text/html": "(1 row affected)"
                    },
                    "metadata": {}
                },
                {
                    "output_type": "display_data",
                    "data": {
                        "text/html": "(1 row affected)"
                    },
                    "metadata": {}
                },
                {
                    "output_type": "display_data",
                    "data": {
                        "text/html": "(1 row affected)"
                    },
                    "metadata": {}
                },
                {
                    "output_type": "display_data",
                    "data": {
                        "text/html": "(1 row affected)"
                    },
                    "metadata": {}
                },
                {
                    "output_type": "display_data",
                    "data": {
                        "text/html": "(1 row affected)"
                    },
                    "metadata": {}
                },
                {
                    "output_type": "display_data",
                    "data": {
                        "text/html": "(1 row affected)"
                    },
                    "metadata": {}
                },
                {
                    "output_type": "display_data",
                    "data": {
                        "text/html": "(1 row affected)"
                    },
                    "metadata": {}
                },
                {
                    "output_type": "display_data",
                    "data": {
                        "text/html": "Total execution time: 00:00:00.969"
                    },
                    "metadata": {}
                }
            ],
            "execution_count": 18
        },
        {
            "cell_type": "code",
            "source": [
                "--wprowadzanie danych cd.\r\n",
                "INSERT INTO StudenciStudia (id_student,id_studia) VALUES ('1123',3);\r\n",
                "INSERT INTO StudenciStudia (id_student,id_studia) VALUES ('1123',9)\r\n",
                "INSERT INTO StudenciStudia (id_student,id_studia) VALUES ('11234',6);\r\n",
                "INSERT INTO StudenciStudia (id_student,id_studia) VALUES ('11234',10);\r\n",
                "INSERT INTO StudenciStudia (id_student,id_studia) VALUES ('135',2);\r\n",
                "INSERT INTO StudenciStudia (id_student,id_studia) VALUES ('135',8);\r\n",
                "INSERT INTO StudenciStudia (id_student,id_studia) VALUES ('138',1);\r\n",
                "INSERT INTO StudenciStudia (id_student,id_studia) VALUES ('138',7);\r\n",
                "INSERT INTO StudenciStudia (id_student,id_studia) VALUES ('1563',6);\r\n",
                "INSERT INTO StudenciStudia (id_student,id_studia) VALUES ('256',5);\r\n",
                "INSERT INTO StudenciStudia (id_student,id_studia) VALUES ('35672',9);\r\n",
                "INSERT INTO StudenciStudia (id_student,id_studia) VALUES ('413',4);\r\n",
                "INSERT INTO StudenciStudia (id_student,id_studia) VALUES ('8747',9);\r\n",
                "INSERT INTO StudenciStudia (id_student,id_studia) VALUES ('987',7);"
            ],
            "metadata": {
                "azdata_cell_guid": "53aa0569-e32b-4de8-93fc-f098ea1becce",
                "tags": []
            },
            "outputs": [
                {
                    "output_type": "display_data",
                    "data": {
                        "text/html": "(1 row affected)"
                    },
                    "metadata": {}
                },
                {
                    "output_type": "display_data",
                    "data": {
                        "text/html": "(1 row affected)"
                    },
                    "metadata": {}
                },
                {
                    "output_type": "display_data",
                    "data": {
                        "text/html": "(1 row affected)"
                    },
                    "metadata": {}
                },
                {
                    "output_type": "display_data",
                    "data": {
                        "text/html": "(1 row affected)"
                    },
                    "metadata": {}
                },
                {
                    "output_type": "display_data",
                    "data": {
                        "text/html": "(1 row affected)"
                    },
                    "metadata": {}
                },
                {
                    "output_type": "display_data",
                    "data": {
                        "text/html": "(1 row affected)"
                    },
                    "metadata": {}
                },
                {
                    "output_type": "display_data",
                    "data": {
                        "text/html": "(1 row affected)"
                    },
                    "metadata": {}
                },
                {
                    "output_type": "display_data",
                    "data": {
                        "text/html": "(1 row affected)"
                    },
                    "metadata": {}
                },
                {
                    "output_type": "display_data",
                    "data": {
                        "text/html": "(1 row affected)"
                    },
                    "metadata": {}
                },
                {
                    "output_type": "display_data",
                    "data": {
                        "text/html": "(1 row affected)"
                    },
                    "metadata": {}
                },
                {
                    "output_type": "display_data",
                    "data": {
                        "text/html": "(1 row affected)"
                    },
                    "metadata": {}
                },
                {
                    "output_type": "display_data",
                    "data": {
                        "text/html": "(1 row affected)"
                    },
                    "metadata": {}
                },
                {
                    "output_type": "display_data",
                    "data": {
                        "text/html": "(1 row affected)"
                    },
                    "metadata": {}
                },
                {
                    "output_type": "display_data",
                    "data": {
                        "text/html": "(1 row affected)"
                    },
                    "metadata": {}
                },
                {
                    "output_type": "display_data",
                    "data": {
                        "text/html": "Total execution time: 00:00:00.120"
                    },
                    "metadata": {}
                }
            ],
            "execution_count": 19
        },
        {
            "cell_type": "code",
            "source": [
                "--wstawianie danych cd.\r\n",
                "INSERT INTO Prace (tytul,id_promotor,ocenaPromotora,dataObrony,liczbaRobotnikow,wydzial,id_szefObrony,grupaRodzaj) VALUES ('Nitrozaminy w komórkach ludzkich',2,3.0,'2020-03-12',1,'CHEMII',8,'MAGISTERSKIE');\r\n",
                "INSERT INTO Prace (tytul,id_promotor,ocenaPromotora,dataObrony,liczbaRobotnikow,wydzial,id_szefObrony,grupaRodzaj) VALUES ('Opieka nad pacjentami z chorobą Crohna',3,3.0,'2021-03-12',3,'NAUK O ZDROWIU',7,'LICENCJACKIE');\r\n",
                "INSERT INTO Prace (tytul,id_promotor,ocenaPromotora,dataObrony,liczbaRobotnikow,wydzial,id_szefObrony,grupaRodzaj) VALUES ('Kwantowa teoria pola w czarnych dziurach',2,4.0,'2019-06-11',2,'FIZYKI',6,'DOKTORANCKIE');\r\n",
                "INSERT INTO Prace (tytul,id_promotor,ocenaPromotora,dataObrony,liczbaRobotnikow,wydzial,id_szefObrony,grupaRodzaj) VALUES ('Siły odśrodkowe w autobusach',4,5.0,'2021-06-21',1,'FIZYKI',5,'LICENCJACKIE');\r\n",
                "INSERT INTO Prace (tytul,id_promotor,ocenaPromotora,dataObrony,liczbaRobotnikow,wydzial,id_szefObrony,grupaRodzaj) VALUES ('Inflacja w krajach Europy Środkowo-Wschodniej',8,4.5,'2018-12-21',1,'EKONOMII I ADMINISTRACJI',4,'LICENCJACKIE');\r\n",
                "INSERT INTO Prace (tytul,id_promotor,ocenaPromotora,dataObrony,liczbaRobotnikow,wydzial,id_szefObrony,grupaRodzaj) VALUES ('Pomiary napięcia w procesorach x86',2,3.5,'2020-01-10',1,'ELEKTRYCZNY',3,'INŻYNIERSKIE');\r\n",
                "INSERT INTO Prace (tytul,id_promotor,ocenaPromotora,dataObrony,liczbaRobotnikow,wydzial,id_szefObrony,grupaRodzaj) VALUES ('Zastosowania kryptografii na stronach rządowych',8,3.0,'2020-01-10',1,'ELEKTRYCZNY',2,'INŻYNIERSKIE');\r\n",
                "INSERT INTO Prace (tytul,id_promotor,ocenaPromotora,dataObrony,liczbaRobotnikow,wydzial,id_szefObrony,grupaRodzaj) VALUES ('Elektrochemia kardiomiocytów',9,5.0,'2020-02-12',1,'CHEMII',3,'MAGISTERSKIE');"
            ],
            "metadata": {
                "azdata_cell_guid": "60e3692b-0e39-4cb2-9ab4-36b31c082781",
                "tags": []
            },
            "outputs": [
                {
                    "output_type": "display_data",
                    "data": {
                        "text/html": "(1 row affected)"
                    },
                    "metadata": {}
                },
                {
                    "output_type": "display_data",
                    "data": {
                        "text/html": "(1 row affected)"
                    },
                    "metadata": {}
                },
                {
                    "output_type": "display_data",
                    "data": {
                        "text/html": "(1 row affected)"
                    },
                    "metadata": {}
                },
                {
                    "output_type": "display_data",
                    "data": {
                        "text/html": "(1 row affected)"
                    },
                    "metadata": {}
                },
                {
                    "output_type": "display_data",
                    "data": {
                        "text/html": "(1 row affected)"
                    },
                    "metadata": {}
                },
                {
                    "output_type": "display_data",
                    "data": {
                        "text/html": "(1 row affected)"
                    },
                    "metadata": {}
                },
                {
                    "output_type": "display_data",
                    "data": {
                        "text/html": "(1 row affected)"
                    },
                    "metadata": {}
                },
                {
                    "output_type": "display_data",
                    "data": {
                        "text/html": "(1 row affected)"
                    },
                    "metadata": {}
                },
                {
                    "output_type": "display_data",
                    "data": {
                        "text/html": "(1 row affected)"
                    },
                    "metadata": {}
                },
                {
                    "output_type": "display_data",
                    "data": {
                        "text/html": "(1 row affected)"
                    },
                    "metadata": {}
                },
                {
                    "output_type": "display_data",
                    "data": {
                        "text/html": "(1 row affected)"
                    },
                    "metadata": {}
                },
                {
                    "output_type": "display_data",
                    "data": {
                        "text/html": "(1 row affected)"
                    },
                    "metadata": {}
                },
                {
                    "output_type": "display_data",
                    "data": {
                        "text/html": "(1 row affected)"
                    },
                    "metadata": {}
                },
                {
                    "output_type": "display_data",
                    "data": {
                        "text/html": "(1 row affected)"
                    },
                    "metadata": {}
                },
                {
                    "output_type": "display_data",
                    "data": {
                        "text/html": "(1 row affected)"
                    },
                    "metadata": {}
                },
                {
                    "output_type": "display_data",
                    "data": {
                        "text/html": "(1 row affected)"
                    },
                    "metadata": {}
                },
                {
                    "output_type": "display_data",
                    "data": {
                        "text/html": "Total execution time: 00:00:00.120"
                    },
                    "metadata": {}
                }
            ],
            "execution_count": 20
        },
        {
            "cell_type": "code",
            "source": [
                "UPDATE Prace SET ocenaKoncowa = 3.0;"
            ],
            "metadata": {
                "azdata_cell_guid": "796f8c51-7899-4f45-bf7c-625a0365d93f"
            },
            "outputs": [
                {
                    "output_type": "display_data",
                    "data": {
                        "text/html": "(8 rows affected)"
                    },
                    "metadata": {}
                },
                {
                    "output_type": "display_data",
                    "data": {
                        "text/html": "Total execution time: 00:00:00.050"
                    },
                    "metadata": {}
                }
            ],
            "execution_count": 21
        },
        {
            "cell_type": "code",
            "source": [
                "--wstawianie danych cd.\r\n",
                "INSERT INTO StudenciPrace (id_student, id_praca, ocena, id_student_studia) VALUES ('138',1,4.0,9);\r\n",
                "INSERT INTO StudenciPrace (id_student, id_praca, ocena, id_student_studia) VALUES ('1123',2,3.5,3);\r\n",
                "INSERT INTO StudenciPrace (id_student, id_praca, ocena, id_student_studia) VALUES ('35672',2,3.5,12);\r\n",
                "INSERT INTO StudenciPrace (id_student, id_praca, ocena, id_student_studia) VALUES ('1563',3,3.5,10);\r\n",
                "INSERT INTO StudenciPrace (id_student, id_praca, ocena, id_student_studia) VALUES ('11234',3,3.5,4);\r\n",
                "INSERT INTO StudenciPrace (id_student, id_praca, ocena, id_student_studia) VALUES ('8747',2,4.5,14);\r\n",
                "INSERT INTO StudenciPrace (id_student, id_praca, ocena, id_student_studia) VALUES ('256',4,3.5,11);\r\n",
                "INSERT INTO StudenciPrace (id_student, id_praca, ocena, id_student_studia) VALUES ('413',5,3.5,13);\r\n",
                "INSERT INTO StudenciPrace (id_student, id_praca, ocena, id_student_studia) VALUES ('138',6,3.5,8);\r\n",
                "INSERT INTO StudenciPrace (id_student, id_praca, ocena, id_student_studia) VALUES ('135',7,5.0,6);\r\n",
                "INSERT INTO StudenciPrace (id_student, id_praca, ocena, id_student_studia) VALUES ('987',8,4.0,15);"
            ],
            "metadata": {
                "azdata_cell_guid": "290f89b6-53e5-4ad2-a3c5-90711d43d86f",
                "tags": []
            },
            "outputs": [
                {
                    "output_type": "display_data",
                    "data": {
                        "text/html": "(1 row affected)"
                    },
                    "metadata": {}
                },
                {
                    "output_type": "display_data",
                    "data": {
                        "text/html": "(1 row affected)"
                    },
                    "metadata": {}
                },
                {
                    "output_type": "display_data",
                    "data": {
                        "text/html": "(1 row affected)"
                    },
                    "metadata": {}
                },
                {
                    "output_type": "display_data",
                    "data": {
                        "text/html": "(1 row affected)"
                    },
                    "metadata": {}
                },
                {
                    "output_type": "display_data",
                    "data": {
                        "text/html": "(1 row affected)"
                    },
                    "metadata": {}
                },
                {
                    "output_type": "display_data",
                    "data": {
                        "text/html": "(1 row affected)"
                    },
                    "metadata": {}
                },
                {
                    "output_type": "display_data",
                    "data": {
                        "text/html": "(1 row affected)"
                    },
                    "metadata": {}
                },
                {
                    "output_type": "display_data",
                    "data": {
                        "text/html": "(1 row affected)"
                    },
                    "metadata": {}
                },
                {
                    "output_type": "display_data",
                    "data": {
                        "text/html": "(1 row affected)"
                    },
                    "metadata": {}
                },
                {
                    "output_type": "display_data",
                    "data": {
                        "text/html": "(1 row affected)"
                    },
                    "metadata": {}
                },
                {
                    "output_type": "display_data",
                    "data": {
                        "text/html": "(1 row affected)"
                    },
                    "metadata": {}
                },
                {
                    "output_type": "display_data",
                    "data": {
                        "text/html": "Total execution time: 00:00:00.193"
                    },
                    "metadata": {}
                }
            ],
            "execution_count": 22
        },
        {
            "cell_type": "code",
            "source": [
                "--wstawianie danych cd.\r\n",
                "INSERT INTO PraceRecenzenci (id_praca,id_recenzent,ocena) VALUES (1,3,5.0);\r\n",
                "INSERT INTO PraceRecenzenci (id_praca,id_recenzent,ocena) VALUES (2,2,4.0);\r\n",
                "INSERT INTO PraceRecenzenci (id_praca,id_recenzent,ocena) VALUES (2,4,3.0);\r\n",
                "INSERT INTO PraceRecenzenci (id_praca,id_recenzent,ocena) VALUES (3,4,5.0);\r\n",
                "INSERT INTO PraceRecenzenci (id_praca,id_recenzent,ocena) VALUES (4,2,5.0);\r\n",
                "INSERT INTO PraceRecenzenci (id_praca,id_recenzent,ocena) VALUES (4,5,4.5);\r\n",
                "INSERT INTO PraceRecenzenci (id_praca,id_recenzent,ocena) VALUES (4,7,3.5);\r\n",
                "INSERT INTO PraceRecenzenci (id_praca,id_recenzent,ocena) VALUES (5,2,3.5);\r\n",
                "INSERT INTO PraceRecenzenci (id_praca,id_recenzent,ocena) VALUES (6,5,4.5);\r\n",
                "INSERT INTO PraceRecenzenci (id_praca,id_recenzent,ocena) VALUES (7,5,3.5);"
            ],
            "metadata": {
                "azdata_cell_guid": "21acb0c3-4266-40d4-bb0a-41f3445cd8e1",
                "tags": []
            },
            "outputs": [
                {
                    "output_type": "display_data",
                    "data": {
                        "text/html": "(1 row affected)"
                    },
                    "metadata": {}
                },
                {
                    "output_type": "display_data",
                    "data": {
                        "text/html": "(1 row affected)"
                    },
                    "metadata": {}
                },
                {
                    "output_type": "display_data",
                    "data": {
                        "text/html": "(1 row affected)"
                    },
                    "metadata": {}
                },
                {
                    "output_type": "display_data",
                    "data": {
                        "text/html": "(1 row affected)"
                    },
                    "metadata": {}
                },
                {
                    "output_type": "display_data",
                    "data": {
                        "text/html": "(1 row affected)"
                    },
                    "metadata": {}
                },
                {
                    "output_type": "display_data",
                    "data": {
                        "text/html": "(1 row affected)"
                    },
                    "metadata": {}
                },
                {
                    "output_type": "display_data",
                    "data": {
                        "text/html": "(1 row affected)"
                    },
                    "metadata": {}
                },
                {
                    "output_type": "display_data",
                    "data": {
                        "text/html": "(1 row affected)"
                    },
                    "metadata": {}
                },
                {
                    "output_type": "display_data",
                    "data": {
                        "text/html": "(1 row affected)"
                    },
                    "metadata": {}
                },
                {
                    "output_type": "display_data",
                    "data": {
                        "text/html": "(1 row affected)"
                    },
                    "metadata": {}
                },
                {
                    "output_type": "display_data",
                    "data": {
                        "text/html": "Total execution time: 00:00:00.163"
                    },
                    "metadata": {}
                }
            ],
            "execution_count": 23
        },
        {
            "cell_type": "code",
            "source": [
                "--wstawianie danych cd.\r\n",
                "INSERT INTO PraceRecenzenci (id_praca,id_recenzent,ocena) VALUES (8,6,3.5);\r\n",
                "INSERT INTO PraceRecenzenci (id_praca,id_recenzent,ocena) VALUES (8,8,4.5);\r\n",
                "INSERT INTO PraceSlowa (id_praca, slowo) VALUES (1,'KONSTRUKCJE ŻELBETOWE');\r\n",
                "INSERT INTO PraceSlowa (id_praca, slowo) VALUES (1,'NITROZAMINY');\r\n",
                "INSERT INTO PraceSlowa (id_praca, slowo) VALUES (2,'NITROZAMINY');\r\n",
                "INSERT INTO PraceSlowa (id_praca, slowo) VALUES (3,'NEUROLEPTYKI');\r\n",
                "INSERT INTO PraceSlowa (id_praca, slowo) VALUES (4,'NOSOROŻCE NA SAWANNIE');\r\n",
                "INSERT INTO PraceSlowa (id_praca, slowo) VALUES (5,'POTENCJAŁ BŁONOWY');\r\n",
                "INSERT INTO PraceSlowa (id_praca, slowo) VALUES (5,'NOSOROŻCE NA SAWANNIE');\r\n",
                "INSERT INTO PraceSlowa (id_praca, slowo) VALUES (6,'PRĄD ELEKTRYCZNY');\r\n",
                "INSERT INTO PraceSlowa (id_praca, slowo) VALUES (7,'PRĄD ELEKTRYCZNY');\r\n",
                "INSERT INTO PraceSlowa (id_praca, slowo) VALUES (8,'PRĄD ELEKTRYCZNY');"
            ],
            "metadata": {
                "azdata_cell_guid": "29ff7a4b-e7bc-400c-ad3f-76087f89b72e",
                "tags": []
            },
            "outputs": [
                {
                    "output_type": "display_data",
                    "data": {
                        "text/html": "(1 row affected)"
                    },
                    "metadata": {}
                },
                {
                    "output_type": "display_data",
                    "data": {
                        "text/html": "(1 row affected)"
                    },
                    "metadata": {}
                },
                {
                    "output_type": "display_data",
                    "data": {
                        "text/html": "(1 row affected)"
                    },
                    "metadata": {}
                },
                {
                    "output_type": "display_data",
                    "data": {
                        "text/html": "(1 row affected)"
                    },
                    "metadata": {}
                },
                {
                    "output_type": "display_data",
                    "data": {
                        "text/html": "(1 row affected)"
                    },
                    "metadata": {}
                },
                {
                    "output_type": "display_data",
                    "data": {
                        "text/html": "(1 row affected)"
                    },
                    "metadata": {}
                },
                {
                    "output_type": "display_data",
                    "data": {
                        "text/html": "(1 row affected)"
                    },
                    "metadata": {}
                },
                {
                    "output_type": "display_data",
                    "data": {
                        "text/html": "(1 row affected)"
                    },
                    "metadata": {}
                },
                {
                    "output_type": "display_data",
                    "data": {
                        "text/html": "(1 row affected)"
                    },
                    "metadata": {}
                },
                {
                    "output_type": "display_data",
                    "data": {
                        "text/html": "(1 row affected)"
                    },
                    "metadata": {}
                },
                {
                    "output_type": "display_data",
                    "data": {
                        "text/html": "(1 row affected)"
                    },
                    "metadata": {}
                },
                {
                    "output_type": "display_data",
                    "data": {
                        "text/html": "(1 row affected)"
                    },
                    "metadata": {}
                },
                {
                    "output_type": "display_data",
                    "data": {
                        "text/html": "Total execution time: 00:00:00.105"
                    },
                    "metadata": {}
                }
            ],
            "execution_count": 24
        },
        {
            "cell_type": "code",
            "source": [
                "--uzupełnianie danych\r\n",
                "INSERT INTO Studenci (id_student,imie,nazwisko) VALUES ('58321','Jan','Janowski');\r\n",
                "INSERT INTO Studenci (id_student,imie,nazwisko) VALUES ('583212','Karol','Kowalski');\r\n",
                "INSERT INTO Studenci (id_student,imie,nazwisko) VALUES ('583213','Lucjan','Lubelski');\r\n",
                "INSERT INTO Studenci (id_student,imie,nazwisko) VALUES ('583214','Łukasz','Łopiański');\r\n",
                "INSERT INTO Studenci (id_student,imie,nazwisko) VALUES ('583215','Mateusz','Manowski');\r\n",
                "INSERT INTO Studenci (id_student,imie,nazwisko) VALUES ('583216','Nikodem','Nieznany');\r\n",
                "INSERT INTO Studenci (id_student,imie,nazwisko) VALUES ('583217','Olek','Olechowski');\r\n",
                "INSERT INTO Studenci (id_student,imie,nazwisko) VALUES ('583218','Piotr','Pacanowski');\r\n",
                "INSERT INTO Studenci (id_student,imie,nazwisko) VALUES ('583219','Radosłwa','Rzeszowski');\r\n",
                "INSERT INTO Studenci (id_student,imie,nazwisko) VALUES ('5832110','Stanisław','Słomiański');\r\n",
                "INSERT INTO Studenci (id_student,imie,nazwisko) VALUES ('5832111','Tadeusz','Tomiański');\r\n",
                "INSERT INTO Studenci (id_student,imie,nazwisko) VALUES ('5832112','Urszula','Uramowska');\r\n",
                "INSERT INTO Studenci (id_student,imie,nazwisko) VALUES ('5832113','Wiesława','Witkowska');\r\n",
                "INSERT INTO Wydzialy VALUES ('LEKARSKI1');\r\n",
                "INSERT INTO Wydzialy VALUES ('LEKARSKI2');\r\n",
                "INSERT INTO Wydzialy VALUES ('LEKARSKI3');\r\n",
                "INSERT INTO Wydzialy VALUES ('MATEMATYCZNY2');\r\n",
                "INSERT INTO Wydzialy VALUES ('MATEMATYCZNY3');\r\n",
                "INSERT INTO Wydzialy VALUES ('MATEMATYCZNY4');\r\n",
                "INSERT INTO Wydzialy VALUES ('HUMANISTYCZNY1');\r\n",
                "INSERT INTO Wydzialy VALUES ('HUMANISTYCZNY2');\r\n",
                "INSERT INTO Wydzialy VALUES ('HUMANISTYCZNY3');\r\n",
                "INSERT INTO Wydzialy VALUES ('HUMANISTYCZNY4');\r\n",
                "INSERT INTO Wydzialy VALUES ('HUMANISTYCZNY5');\r\n",
                "INSERT INTO Wydzialy VALUES ('HUMANISTYCZNY6');\r\n",
                "INSERT INTO Wydzialy VALUES ('FARMACUTYCZNY1');\r\n",
                "INSERT INTO Wydzialy VALUES ('FARMACEUTYCZNY2');\r\n",
                "INSERT INTO Wydzialy VALUES ('FARMACEUTYCZNY3');\r\n",
                "INSERT INTO Wydzialy VALUES ('FARMACEUTYCZNY4');\r\n",
                "INSERT INTO Wydzialy VALUES ('FARMACEUTYCZNY5');\r\n",
                "INSERT INTO Studia (wydzial,kierunek,rodzaj) VALUES ('LEKARSKI1','fajnykierunek1','LICENCJACKIE');\r\n",
                "INSERT INTO Studia (wydzial,kierunek,rodzaj) VALUES ('LEKARSKI2','fajnykierunek2','MAGISTERSKIE');\r\n",
                "INSERT INTO Studia (wydzial,kierunek,rodzaj) VALUES ('LEKARSKI3','fajnykierunek3','MAGISTERSKIE');\r\n",
                "INSERT INTO Studia (wydzial,kierunek,rodzaj) VALUES ('LEKARSKI2','fajnykierunek4','LICENCJACKIE');\r\n",
                "INSERT INTO Studia (wydzial,kierunek,rodzaj) VALUES ('LEKARSKI3','fajnykierunek5','MAGISTERSKIE');\r\n",
                "INSERT INTO Studia (wydzial,kierunek,rodzaj) VALUES ('LEKARSKI1','fajnykierunek6','LICENCJACKIE');\r\n",
                "INSERT INTO Studia (wydzial,kierunek,rodzaj) VALUES ('HUMANISTYCZNY1','fajnykierunek7','LICENCJACKIE');\r\n",
                "INSERT INTO Studia (wydzial,kierunek,rodzaj) VALUES ('HUMANISTYCZNY2','fajnykierunek8','LICENCJACKIE');\r\n",
                "INSERT INTO Studia (wydzial,kierunek,rodzaj) VALUES ('HUMANISTYCZNY3','fajnykierunek9','INŻYNIERSKIE');\r\n",
                "INSERT INTO Studia (wydzial,kierunek,rodzaj) VALUES ('HUMANISTYCZNY4','fajnykierunek10','LICENCJACKIE');\r\n",
                "INSERT INTO Studia (wydzial,kierunek,rodzaj) VALUES ('HUMANISTYCZNY5','fajnykierunek11','INŻYNIERSKIE');\r\n",
                "INSERT INTO Studia (wydzial,kierunek,rodzaj) VALUES ('HUMANISTYCZNY6','fajnykierunek12','LICENCJACKIE');\r\n",
                "INSERT INTO Studia (wydzial,kierunek,rodzaj) VALUES ('HUMANISTYCZNY1','fajnykierunek13','MAGISTERSKIE');\r\n",
                "INSERT INTO Studia (wydzial,kierunek,rodzaj) VALUES ('FARMACUTYCZNY1','fajnykierunek14','LICENCJACKIE');\r\n",
                "INSERT INTO Studia (wydzial,kierunek,rodzaj) VALUES ('FARMACEUTYCZNY2','fajnykierunek15','INŻYNIERSKIE');\r\n",
                "INSERT INTO Studia (wydzial,kierunek,rodzaj) VALUES ('FARMACEUTYCZNY3','fajnykierunek16','LICENCJACKIE');\r\n",
                "INSERT INTO Studia (wydzial,kierunek,rodzaj) VALUES ('FARMACEUTYCZNY4','fajnykierunek17','INŻYNIERSKIE');\r\n",
                "INSERT INTO Studia (wydzial,kierunek,rodzaj) VALUES ('FARMACUTYCZNY1','fajnykierunek18','LICENCJACKIE');\r\n",
                "INSERT INTO Studia (wydzial,kierunek,rodzaj) VALUES ('FARMACEUTYCZNY2','fajnykierunek19','MAGISTERSKIE');\r\n",
                "INSERT INTO Slowa VALUES ('SLOWOKLUCZOWE1');\r\n",
                "INSERT INTO Slowa VALUES ('SLOWOKLUCZOWE2');\r\n",
                "INSERT INTO Slowa VALUES ('SLOWOKLUCZOWE3');\r\n",
                "INSERT INTO Slowa VALUES ('SLOWOKLUCZOWE4');\r\n",
                "INSERT INTO Slowa VALUES ('SLOWOKLUCZOWE5');\r\n",
                "INSERT INTO Slowa VALUES ('SLOWOKLUCZOWE6');\r\n",
                "INSERT INTO Slowa VALUES ('SLOWOKLUCZOWE7');\r\n",
                "INSERT INTO Slowa VALUES ('SLOWOKLUCZOWE8');\r\n",
                "INSERT INTO Slowa VALUES ('SLOWOKLUCZOWE9');\r\n",
                "INSERT INTO Slowa VALUES ('SLOWOKLUCZOWE10');\r\n",
                "INSERT INTO Slowa VALUES ('SLOWOKLUCZOWE11');\r\n",
                "INSERT INTO Slowa VALUES ('SLOWOKLUCZOWE12');\r\n",
                "INSERT INTO Slowa VALUES ('SLOWOKLUCZOWE13');\r\n",
                "INSERT INTO Slowa VALUES ('SLOWOKLUCZOWE14');\r\n",
                "INSERT INTO Slowa VALUES ('SLOWOKLUCZOWE15');\r\n",
                "INSERT INTO Slowa VALUES ('SLOWOKLUCZOWE16');\r\n",
                "INSERT INTO Slowa VALUES ('SLOWOKLUCZOWE17');\r\n",
                "INSERT INTO Slowa VALUES ('SLOWOKLUCZOWE18');\r\n",
                "\r\n",
                ""
            ],
            "metadata": {
                "azdata_cell_guid": "de388f0a-dc33-4816-b943-3803d749158a",
                "tags": []
            },
            "outputs": [
                {
                    "output_type": "display_data",
                    "data": {
                        "text/html": "(1 row affected)"
                    },
                    "metadata": {}
                },
                {
                    "output_type": "display_data",
                    "data": {
                        "text/html": "(1 row affected)"
                    },
                    "metadata": {}
                },
                {
                    "output_type": "display_data",
                    "data": {
                        "text/html": "(1 row affected)"
                    },
                    "metadata": {}
                },
                {
                    "output_type": "display_data",
                    "data": {
                        "text/html": "(1 row affected)"
                    },
                    "metadata": {}
                },
                {
                    "output_type": "display_data",
                    "data": {
                        "text/html": "(1 row affected)"
                    },
                    "metadata": {}
                },
                {
                    "output_type": "display_data",
                    "data": {
                        "text/html": "(1 row affected)"
                    },
                    "metadata": {}
                },
                {
                    "output_type": "display_data",
                    "data": {
                        "text/html": "(1 row affected)"
                    },
                    "metadata": {}
                },
                {
                    "output_type": "display_data",
                    "data": {
                        "text/html": "(1 row affected)"
                    },
                    "metadata": {}
                },
                {
                    "output_type": "display_data",
                    "data": {
                        "text/html": "(1 row affected)"
                    },
                    "metadata": {}
                },
                {
                    "output_type": "display_data",
                    "data": {
                        "text/html": "(1 row affected)"
                    },
                    "metadata": {}
                },
                {
                    "output_type": "display_data",
                    "data": {
                        "text/html": "(1 row affected)"
                    },
                    "metadata": {}
                },
                {
                    "output_type": "display_data",
                    "data": {
                        "text/html": "(1 row affected)"
                    },
                    "metadata": {}
                },
                {
                    "output_type": "display_data",
                    "data": {
                        "text/html": "(1 row affected)"
                    },
                    "metadata": {}
                },
                {
                    "output_type": "display_data",
                    "data": {
                        "text/html": "(1 row affected)"
                    },
                    "metadata": {}
                },
                {
                    "output_type": "display_data",
                    "data": {
                        "text/html": "(1 row affected)"
                    },
                    "metadata": {}
                },
                {
                    "output_type": "display_data",
                    "data": {
                        "text/html": "(1 row affected)"
                    },
                    "metadata": {}
                },
                {
                    "output_type": "display_data",
                    "data": {
                        "text/html": "(1 row affected)"
                    },
                    "metadata": {}
                },
                {
                    "output_type": "display_data",
                    "data": {
                        "text/html": "(1 row affected)"
                    },
                    "metadata": {}
                },
                {
                    "output_type": "display_data",
                    "data": {
                        "text/html": "(1 row affected)"
                    },
                    "metadata": {}
                },
                {
                    "output_type": "display_data",
                    "data": {
                        "text/html": "(1 row affected)"
                    },
                    "metadata": {}
                },
                {
                    "output_type": "display_data",
                    "data": {
                        "text/html": "(1 row affected)"
                    },
                    "metadata": {}
                },
                {
                    "output_type": "display_data",
                    "data": {
                        "text/html": "(1 row affected)"
                    },
                    "metadata": {}
                },
                {
                    "output_type": "display_data",
                    "data": {
                        "text/html": "(1 row affected)"
                    },
                    "metadata": {}
                },
                {
                    "output_type": "display_data",
                    "data": {
                        "text/html": "(1 row affected)"
                    },
                    "metadata": {}
                },
                {
                    "output_type": "display_data",
                    "data": {
                        "text/html": "(1 row affected)"
                    },
                    "metadata": {}
                },
                {
                    "output_type": "display_data",
                    "data": {
                        "text/html": "(1 row affected)"
                    },
                    "metadata": {}
                },
                {
                    "output_type": "display_data",
                    "data": {
                        "text/html": "(1 row affected)"
                    },
                    "metadata": {}
                },
                {
                    "output_type": "display_data",
                    "data": {
                        "text/html": "(1 row affected)"
                    },
                    "metadata": {}
                },
                {
                    "output_type": "display_data",
                    "data": {
                        "text/html": "(1 row affected)"
                    },
                    "metadata": {}
                },
                {
                    "output_type": "display_data",
                    "data": {
                        "text/html": "(1 row affected)"
                    },
                    "metadata": {}
                },
                {
                    "output_type": "display_data",
                    "data": {
                        "text/html": "(1 row affected)"
                    },
                    "metadata": {}
                },
                {
                    "output_type": "display_data",
                    "data": {
                        "text/html": "(1 row affected)"
                    },
                    "metadata": {}
                },
                {
                    "output_type": "display_data",
                    "data": {
                        "text/html": "(1 row affected)"
                    },
                    "metadata": {}
                },
                {
                    "output_type": "display_data",
                    "data": {
                        "text/html": "(1 row affected)"
                    },
                    "metadata": {}
                },
                {
                    "output_type": "display_data",
                    "data": {
                        "text/html": "(1 row affected)"
                    },
                    "metadata": {}
                },
                {
                    "output_type": "display_data",
                    "data": {
                        "text/html": "(1 row affected)"
                    },
                    "metadata": {}
                },
                {
                    "output_type": "display_data",
                    "data": {
                        "text/html": "(1 row affected)"
                    },
                    "metadata": {}
                },
                {
                    "output_type": "display_data",
                    "data": {
                        "text/html": "(1 row affected)"
                    },
                    "metadata": {}
                },
                {
                    "output_type": "display_data",
                    "data": {
                        "text/html": "(1 row affected)"
                    },
                    "metadata": {}
                },
                {
                    "output_type": "display_data",
                    "data": {
                        "text/html": "(1 row affected)"
                    },
                    "metadata": {}
                },
                {
                    "output_type": "display_data",
                    "data": {
                        "text/html": "(1 row affected)"
                    },
                    "metadata": {}
                },
                {
                    "output_type": "display_data",
                    "data": {
                        "text/html": "(1 row affected)"
                    },
                    "metadata": {}
                },
                {
                    "output_type": "display_data",
                    "data": {
                        "text/html": "(1 row affected)"
                    },
                    "metadata": {}
                },
                {
                    "output_type": "display_data",
                    "data": {
                        "text/html": "(1 row affected)"
                    },
                    "metadata": {}
                },
                {
                    "output_type": "display_data",
                    "data": {
                        "text/html": "(1 row affected)"
                    },
                    "metadata": {}
                },
                {
                    "output_type": "display_data",
                    "data": {
                        "text/html": "(1 row affected)"
                    },
                    "metadata": {}
                },
                {
                    "output_type": "display_data",
                    "data": {
                        "text/html": "(1 row affected)"
                    },
                    "metadata": {}
                },
                {
                    "output_type": "display_data",
                    "data": {
                        "text/html": "(1 row affected)"
                    },
                    "metadata": {}
                },
                {
                    "output_type": "display_data",
                    "data": {
                        "text/html": "(1 row affected)"
                    },
                    "metadata": {}
                },
                {
                    "output_type": "display_data",
                    "data": {
                        "text/html": "(1 row affected)"
                    },
                    "metadata": {}
                },
                {
                    "output_type": "display_data",
                    "data": {
                        "text/html": "(1 row affected)"
                    },
                    "metadata": {}
                },
                {
                    "output_type": "display_data",
                    "data": {
                        "text/html": "(1 row affected)"
                    },
                    "metadata": {}
                },
                {
                    "output_type": "display_data",
                    "data": {
                        "text/html": "(1 row affected)"
                    },
                    "metadata": {}
                },
                {
                    "output_type": "display_data",
                    "data": {
                        "text/html": "(1 row affected)"
                    },
                    "metadata": {}
                },
                {
                    "output_type": "display_data",
                    "data": {
                        "text/html": "(1 row affected)"
                    },
                    "metadata": {}
                },
                {
                    "output_type": "display_data",
                    "data": {
                        "text/html": "(1 row affected)"
                    },
                    "metadata": {}
                },
                {
                    "output_type": "display_data",
                    "data": {
                        "text/html": "(1 row affected)"
                    },
                    "metadata": {}
                },
                {
                    "output_type": "display_data",
                    "data": {
                        "text/html": "(1 row affected)"
                    },
                    "metadata": {}
                },
                {
                    "output_type": "display_data",
                    "data": {
                        "text/html": "(1 row affected)"
                    },
                    "metadata": {}
                },
                {
                    "output_type": "display_data",
                    "data": {
                        "text/html": "(1 row affected)"
                    },
                    "metadata": {}
                },
                {
                    "output_type": "display_data",
                    "data": {
                        "text/html": "(1 row affected)"
                    },
                    "metadata": {}
                },
                {
                    "output_type": "display_data",
                    "data": {
                        "text/html": "(1 row affected)"
                    },
                    "metadata": {}
                },
                {
                    "output_type": "display_data",
                    "data": {
                        "text/html": "(1 row affected)"
                    },
                    "metadata": {}
                },
                {
                    "output_type": "display_data",
                    "data": {
                        "text/html": "(1 row affected)"
                    },
                    "metadata": {}
                },
                {
                    "output_type": "display_data",
                    "data": {
                        "text/html": "(1 row affected)"
                    },
                    "metadata": {}
                },
                {
                    "output_type": "display_data",
                    "data": {
                        "text/html": "(1 row affected)"
                    },
                    "metadata": {}
                },
                {
                    "output_type": "display_data",
                    "data": {
                        "text/html": "(1 row affected)"
                    },
                    "metadata": {}
                },
                {
                    "output_type": "display_data",
                    "data": {
                        "text/html": "(1 row affected)"
                    },
                    "metadata": {}
                },
                {
                    "output_type": "display_data",
                    "data": {
                        "text/html": "(1 row affected)"
                    },
                    "metadata": {}
                },
                {
                    "output_type": "display_data",
                    "data": {
                        "text/html": "(1 row affected)"
                    },
                    "metadata": {}
                },
                {
                    "output_type": "display_data",
                    "data": {
                        "text/html": "(1 row affected)"
                    },
                    "metadata": {}
                },
                {
                    "output_type": "display_data",
                    "data": {
                        "text/html": "(1 row affected)"
                    },
                    "metadata": {}
                },
                {
                    "output_type": "display_data",
                    "data": {
                        "text/html": "(1 row affected)"
                    },
                    "metadata": {}
                },
                {
                    "output_type": "display_data",
                    "data": {
                        "text/html": "(1 row affected)"
                    },
                    "metadata": {}
                },
                {
                    "output_type": "display_data",
                    "data": {
                        "text/html": "(1 row affected)"
                    },
                    "metadata": {}
                },
                {
                    "output_type": "display_data",
                    "data": {
                        "text/html": "(1 row affected)"
                    },
                    "metadata": {}
                },
                {
                    "output_type": "display_data",
                    "data": {
                        "text/html": "(1 row affected)"
                    },
                    "metadata": {}
                },
                {
                    "output_type": "display_data",
                    "data": {
                        "text/html": "(1 row affected)"
                    },
                    "metadata": {}
                },
                {
                    "output_type": "display_data",
                    "data": {
                        "text/html": "(1 row affected)"
                    },
                    "metadata": {}
                },
                {
                    "output_type": "display_data",
                    "data": {
                        "text/html": "(1 row affected)"
                    },
                    "metadata": {}
                },
                {
                    "output_type": "display_data",
                    "data": {
                        "text/html": "(1 row affected)"
                    },
                    "metadata": {}
                },
                {
                    "output_type": "display_data",
                    "data": {
                        "text/html": "(1 row affected)"
                    },
                    "metadata": {}
                },
                {
                    "output_type": "display_data",
                    "data": {
                        "text/html": "(1 row affected)"
                    },
                    "metadata": {}
                },
                {
                    "output_type": "display_data",
                    "data": {
                        "text/html": "(1 row affected)"
                    },
                    "metadata": {}
                },
                {
                    "output_type": "display_data",
                    "data": {
                        "text/html": "(1 row affected)"
                    },
                    "metadata": {}
                },
                {
                    "output_type": "display_data",
                    "data": {
                        "text/html": "(1 row affected)"
                    },
                    "metadata": {}
                },
                {
                    "output_type": "display_data",
                    "data": {
                        "text/html": "(1 row affected)"
                    },
                    "metadata": {}
                },
                {
                    "output_type": "display_data",
                    "data": {
                        "text/html": "(1 row affected)"
                    },
                    "metadata": {}
                },
                {
                    "output_type": "display_data",
                    "data": {
                        "text/html": "(1 row affected)"
                    },
                    "metadata": {}
                },
                {
                    "output_type": "display_data",
                    "data": {
                        "text/html": "(1 row affected)"
                    },
                    "metadata": {}
                },
                {
                    "output_type": "display_data",
                    "data": {
                        "text/html": "(1 row affected)"
                    },
                    "metadata": {}
                },
                {
                    "output_type": "display_data",
                    "data": {
                        "text/html": "(1 row affected)"
                    },
                    "metadata": {}
                },
                {
                    "output_type": "display_data",
                    "data": {
                        "text/html": "(1 row affected)"
                    },
                    "metadata": {}
                },
                {
                    "output_type": "display_data",
                    "data": {
                        "text/html": "(1 row affected)"
                    },
                    "metadata": {}
                },
                {
                    "output_type": "display_data",
                    "data": {
                        "text/html": "(1 row affected)"
                    },
                    "metadata": {}
                },
                {
                    "output_type": "display_data",
                    "data": {
                        "text/html": "(1 row affected)"
                    },
                    "metadata": {}
                },
                {
                    "output_type": "display_data",
                    "data": {
                        "text/html": "(1 row affected)"
                    },
                    "metadata": {}
                },
                {
                    "output_type": "display_data",
                    "data": {
                        "text/html": "(1 row affected)"
                    },
                    "metadata": {}
                },
                {
                    "output_type": "display_data",
                    "data": {
                        "text/html": "(1 row affected)"
                    },
                    "metadata": {}
                },
                {
                    "output_type": "display_data",
                    "data": {
                        "text/html": "(1 row affected)"
                    },
                    "metadata": {}
                },
                {
                    "output_type": "display_data",
                    "data": {
                        "text/html": "(1 row affected)"
                    },
                    "metadata": {}
                },
                {
                    "output_type": "display_data",
                    "data": {
                        "text/html": "(1 row affected)"
                    },
                    "metadata": {}
                },
                {
                    "output_type": "display_data",
                    "data": {
                        "text/html": "(1 row affected)"
                    },
                    "metadata": {}
                },
                {
                    "output_type": "display_data",
                    "data": {
                        "text/html": "(1 row affected)"
                    },
                    "metadata": {}
                },
                {
                    "output_type": "display_data",
                    "data": {
                        "text/html": "(1 row affected)"
                    },
                    "metadata": {}
                },
                {
                    "output_type": "display_data",
                    "data": {
                        "text/html": "(1 row affected)"
                    },
                    "metadata": {}
                },
                {
                    "output_type": "display_data",
                    "data": {
                        "text/html": "(1 row affected)"
                    },
                    "metadata": {}
                },
                {
                    "output_type": "display_data",
                    "data": {
                        "text/html": "(1 row affected)"
                    },
                    "metadata": {}
                },
                {
                    "output_type": "display_data",
                    "data": {
                        "text/html": "(1 row affected)"
                    },
                    "metadata": {}
                },
                {
                    "output_type": "display_data",
                    "data": {
                        "text/html": "(1 row affected)"
                    },
                    "metadata": {}
                },
                {
                    "output_type": "display_data",
                    "data": {
                        "text/html": "(1 row affected)"
                    },
                    "metadata": {}
                },
                {
                    "output_type": "display_data",
                    "data": {
                        "text/html": "(1 row affected)"
                    },
                    "metadata": {}
                },
                {
                    "output_type": "display_data",
                    "data": {
                        "text/html": "(1 row affected)"
                    },
                    "metadata": {}
                },
                {
                    "output_type": "display_data",
                    "data": {
                        "text/html": "(1 row affected)"
                    },
                    "metadata": {}
                },
                {
                    "output_type": "display_data",
                    "data": {
                        "text/html": "(1 row affected)"
                    },
                    "metadata": {}
                },
                {
                    "output_type": "display_data",
                    "data": {
                        "text/html": "(1 row affected)"
                    },
                    "metadata": {}
                },
                {
                    "output_type": "display_data",
                    "data": {
                        "text/html": "(1 row affected)"
                    },
                    "metadata": {}
                },
                {
                    "output_type": "display_data",
                    "data": {
                        "text/html": "(1 row affected)"
                    },
                    "metadata": {}
                },
                {
                    "output_type": "display_data",
                    "data": {
                        "text/html": "(1 row affected)"
                    },
                    "metadata": {}
                },
                {
                    "output_type": "display_data",
                    "data": {
                        "text/html": "(1 row affected)"
                    },
                    "metadata": {}
                },
                {
                    "output_type": "display_data",
                    "data": {
                        "text/html": "(1 row affected)"
                    },
                    "metadata": {}
                },
                {
                    "output_type": "display_data",
                    "data": {
                        "text/html": "(1 row affected)"
                    },
                    "metadata": {}
                },
                {
                    "output_type": "display_data",
                    "data": {
                        "text/html": "(1 row affected)"
                    },
                    "metadata": {}
                },
                {
                    "output_type": "display_data",
                    "data": {
                        "text/html": "(1 row affected)"
                    },
                    "metadata": {}
                },
                {
                    "output_type": "display_data",
                    "data": {
                        "text/html": "(1 row affected)"
                    },
                    "metadata": {}
                },
                {
                    "output_type": "display_data",
                    "data": {
                        "text/html": "(1 row affected)"
                    },
                    "metadata": {}
                },
                {
                    "output_type": "display_data",
                    "data": {
                        "text/html": "(1 row affected)"
                    },
                    "metadata": {}
                },
                {
                    "output_type": "display_data",
                    "data": {
                        "text/html": "(1 row affected)"
                    },
                    "metadata": {}
                },
                {
                    "output_type": "display_data",
                    "data": {
                        "text/html": "(1 row affected)"
                    },
                    "metadata": {}
                },
                {
                    "output_type": "display_data",
                    "data": {
                        "text/html": "(1 row affected)"
                    },
                    "metadata": {}
                },
                {
                    "output_type": "display_data",
                    "data": {
                        "text/html": "(1 row affected)"
                    },
                    "metadata": {}
                },
                {
                    "output_type": "display_data",
                    "data": {
                        "text/html": "(1 row affected)"
                    },
                    "metadata": {}
                },
                {
                    "output_type": "display_data",
                    "data": {
                        "text/html": "(1 row affected)"
                    },
                    "metadata": {}
                },
                {
                    "output_type": "display_data",
                    "data": {
                        "text/html": "(1 row affected)"
                    },
                    "metadata": {}
                },
                {
                    "output_type": "display_data",
                    "data": {
                        "text/html": "(1 row affected)"
                    },
                    "metadata": {}
                },
                {
                    "output_type": "display_data",
                    "data": {
                        "text/html": "(1 row affected)"
                    },
                    "metadata": {}
                },
                {
                    "output_type": "display_data",
                    "data": {
                        "text/html": "(1 row affected)"
                    },
                    "metadata": {}
                },
                {
                    "output_type": "display_data",
                    "data": {
                        "text/html": "(1 row affected)"
                    },
                    "metadata": {}
                },
                {
                    "output_type": "display_data",
                    "data": {
                        "text/html": "(1 row affected)"
                    },
                    "metadata": {}
                },
                {
                    "output_type": "display_data",
                    "data": {
                        "text/html": "(1 row affected)"
                    },
                    "metadata": {}
                },
                {
                    "output_type": "display_data",
                    "data": {
                        "text/html": "(1 row affected)"
                    },
                    "metadata": {}
                },
                {
                    "output_type": "display_data",
                    "data": {
                        "text/html": "(1 row affected)"
                    },
                    "metadata": {}
                },
                {
                    "output_type": "display_data",
                    "data": {
                        "text/html": "(1 row affected)"
                    },
                    "metadata": {}
                },
                {
                    "output_type": "display_data",
                    "data": {
                        "text/html": "(1 row affected)"
                    },
                    "metadata": {}
                },
                {
                    "output_type": "display_data",
                    "data": {
                        "text/html": "(1 row affected)"
                    },
                    "metadata": {}
                },
                {
                    "output_type": "display_data",
                    "data": {
                        "text/html": "(1 row affected)"
                    },
                    "metadata": {}
                },
                {
                    "output_type": "display_data",
                    "data": {
                        "text/html": "(1 row affected)"
                    },
                    "metadata": {}
                },
                {
                    "output_type": "display_data",
                    "data": {
                        "text/html": "(1 row affected)"
                    },
                    "metadata": {}
                },
                {
                    "output_type": "display_data",
                    "data": {
                        "text/html": "(1 row affected)"
                    },
                    "metadata": {}
                },
                {
                    "output_type": "display_data",
                    "data": {
                        "text/html": "(1 row affected)"
                    },
                    "metadata": {}
                },
                {
                    "output_type": "display_data",
                    "data": {
                        "text/html": "(1 row affected)"
                    },
                    "metadata": {}
                },
                {
                    "output_type": "display_data",
                    "data": {
                        "text/html": "(1 row affected)"
                    },
                    "metadata": {}
                },
                {
                    "output_type": "display_data",
                    "data": {
                        "text/html": "(1 row affected)"
                    },
                    "metadata": {}
                },
                {
                    "output_type": "display_data",
                    "data": {
                        "text/html": "(1 row affected)"
                    },
                    "metadata": {}
                },
                {
                    "output_type": "display_data",
                    "data": {
                        "text/html": "(1 row affected)"
                    },
                    "metadata": {}
                },
                {
                    "output_type": "display_data",
                    "data": {
                        "text/html": "(1 row affected)"
                    },
                    "metadata": {}
                },
                {
                    "output_type": "display_data",
                    "data": {
                        "text/html": "(1 row affected)"
                    },
                    "metadata": {}
                },
                {
                    "output_type": "display_data",
                    "data": {
                        "text/html": "(1 row affected)"
                    },
                    "metadata": {}
                },
                {
                    "output_type": "display_data",
                    "data": {
                        "text/html": "(1 row affected)"
                    },
                    "metadata": {}
                },
                {
                    "output_type": "display_data",
                    "data": {
                        "text/html": "(1 row affected)"
                    },
                    "metadata": {}
                },
                {
                    "output_type": "display_data",
                    "data": {
                        "text/html": "(1 row affected)"
                    },
                    "metadata": {}
                },
                {
                    "output_type": "display_data",
                    "data": {
                        "text/html": "(1 row affected)"
                    },
                    "metadata": {}
                },
                {
                    "output_type": "display_data",
                    "data": {
                        "text/html": "(1 row affected)"
                    },
                    "metadata": {}
                },
                {
                    "output_type": "display_data",
                    "data": {
                        "text/html": "(1 row affected)"
                    },
                    "metadata": {}
                },
                {
                    "output_type": "display_data",
                    "data": {
                        "text/html": "(1 row affected)"
                    },
                    "metadata": {}
                },
                {
                    "output_type": "display_data",
                    "data": {
                        "text/html": "Total execution time: 00:00:00.616"
                    },
                    "metadata": {}
                }
            ],
            "execution_count": 25
        },
        {
            "cell_type": "code",
            "source": [
                "INSERT INTO StudenciStudia (id_student,id_studia) VALUES ('58321',11);\r\n",
                "INSERT INTO StudenciStudia (id_student,id_studia) VALUES ('583212',12);\r\n",
                "INSERT INTO StudenciStudia (id_student,id_studia) VALUES ('583213',13);\r\n",
                "INSERT INTO StudenciStudia (id_student,id_studia) VALUES ('583214',14);\r\n",
                "INSERT INTO StudenciStudia (id_student,id_studia) VALUES ('583215',15);\r\n",
                "INSERT INTO StudenciStudia (id_student,id_studia) VALUES ('583216',16);\r\n",
                "INSERT INTO StudenciStudia (id_student,id_studia) VALUES ('583217',17);\r\n",
                "INSERT INTO StudenciStudia (id_student,id_studia) VALUES ('583218',18);\r\n",
                "INSERT INTO StudenciStudia (id_student,id_studia) VALUES ('583219',19);\r\n",
                "INSERT INTO StudenciStudia (id_student,id_studia) VALUES ('5832110',20);\r\n",
                "INSERT INTO StudenciStudia (id_student,id_studia) VALUES ('5832111',17);\r\n",
                "INSERT INTO StudenciStudia (id_student,id_studia) VALUES ('5832112',22);\r\n",
                "INSERT INTO StudenciStudia (id_student,id_studia) VALUES ('5832113',18);\r\n",
                "INSERT INTO StudenciStudia (id_student,id_studia) VALUES ('583214',25);\r\n",
                "INSERT INTO StudenciStudia (id_student,id_studia) VALUES ('583215',25);\r\n",
                "INSERT INTO StudenciStudia (id_student,id_studia) VALUES ('583216',26);"
            ],
            "metadata": {
                "azdata_cell_guid": "8116a281-0851-43fe-9b7d-7aa92e6b983a",
                "tags": []
            },
            "outputs": [
                {
                    "output_type": "display_data",
                    "data": {
                        "text/html": "(1 row affected)"
                    },
                    "metadata": {}
                },
                {
                    "output_type": "display_data",
                    "data": {
                        "text/html": "(1 row affected)"
                    },
                    "metadata": {}
                },
                {
                    "output_type": "display_data",
                    "data": {
                        "text/html": "(1 row affected)"
                    },
                    "metadata": {}
                },
                {
                    "output_type": "display_data",
                    "data": {
                        "text/html": "(1 row affected)"
                    },
                    "metadata": {}
                },
                {
                    "output_type": "display_data",
                    "data": {
                        "text/html": "(1 row affected)"
                    },
                    "metadata": {}
                },
                {
                    "output_type": "display_data",
                    "data": {
                        "text/html": "(1 row affected)"
                    },
                    "metadata": {}
                },
                {
                    "output_type": "display_data",
                    "data": {
                        "text/html": "(1 row affected)"
                    },
                    "metadata": {}
                },
                {
                    "output_type": "display_data",
                    "data": {
                        "text/html": "(1 row affected)"
                    },
                    "metadata": {}
                },
                {
                    "output_type": "display_data",
                    "data": {
                        "text/html": "(1 row affected)"
                    },
                    "metadata": {}
                },
                {
                    "output_type": "display_data",
                    "data": {
                        "text/html": "(1 row affected)"
                    },
                    "metadata": {}
                },
                {
                    "output_type": "display_data",
                    "data": {
                        "text/html": "(1 row affected)"
                    },
                    "metadata": {}
                },
                {
                    "output_type": "display_data",
                    "data": {
                        "text/html": "(1 row affected)"
                    },
                    "metadata": {}
                },
                {
                    "output_type": "display_data",
                    "data": {
                        "text/html": "(1 row affected)"
                    },
                    "metadata": {}
                },
                {
                    "output_type": "display_data",
                    "data": {
                        "text/html": "(1 row affected)"
                    },
                    "metadata": {}
                },
                {
                    "output_type": "display_data",
                    "data": {
                        "text/html": "(1 row affected)"
                    },
                    "metadata": {}
                },
                {
                    "output_type": "display_data",
                    "data": {
                        "text/html": "(1 row affected)"
                    },
                    "metadata": {}
                },
                {
                    "output_type": "display_data",
                    "data": {
                        "text/html": "Total execution time: 00:00:00.139"
                    },
                    "metadata": {}
                }
            ],
            "execution_count": 26
        },
        {
            "cell_type": "code",
            "source": [
                "INSERT INTO Pracownicy (imie,nazwisko,stopien) VALUES ('ImiePracownik1','NazwiskoPracownik1','MGR');\r\n",
                "INSERT INTO Pracownicy (imie,nazwisko,stopien) VALUES ('ImiePracownik2','NazwiskoPracownik2','LIC');\r\n",
                "INSERT INTO Pracownicy (imie,nazwisko,stopien) VALUES ('ImiePracownik3','NazwiskoPracownik3','DR');\r\n",
                "INSERT INTO Pracownicy (imie,nazwisko,stopien) VALUES ('ImiePracownik4','NazwiskoPracownik4','PROF');\r\n",
                "INSERT INTO Pracownicy (imie,nazwisko,stopien) VALUES ('ImiePracownik5','NazwiskoPracownik5','MGR');\r\n",
                "INSERT INTO Pracownicy (imie,nazwisko,stopien) VALUES ('ImiePracownik6','NazwiskoPracownik6','LIC');\r\n",
                "INSERT INTO Pracownicy (imie,nazwisko,stopien) VALUES ('ImiePracownik7','NazwiskoPracownik7','PROF');\r\n",
                "INSERT INTO Pracownicy (imie,nazwisko,stopien) VALUES ('ImiePracownik18','NazwiskoPracownik8','DR');\r\n",
                "INSERT INTO Pracownicy (imie,nazwisko,stopien) VALUES ('ImiePracownik19','NazwiskoPracownik9','DR');\r\n",
                "INSERT INTO Pracownicy (imie,nazwisko,stopien) VALUES ('ImiePracownik20','NazwiskoPracownik10','DR');\r\n",
                "INSERT INTO Pracownicy (imie,nazwisko,stopien) VALUES ('ImiePracownik21','NazwiskoPracownik11','MGR');\r\n",
                "INSERT INTO Pracownicy (imie,nazwisko,stopien) VALUES ('ImiePracownik22','NazwiskoPracownik12','MGR');\r\n",
                "INSERT INTO Pracownicy (imie,nazwisko,stopien) VALUES ('ImiePracownik23','NazwiskoPracownik13','MGR');"
            ],
            "metadata": {
                "azdata_cell_guid": "e5e9d857-fa37-4ae6-b0d8-ee9d720701d9",
                "tags": []
            },
            "outputs": [
                {
                    "output_type": "display_data",
                    "data": {
                        "text/html": "(1 row affected)"
                    },
                    "metadata": {}
                },
                {
                    "output_type": "display_data",
                    "data": {
                        "text/html": "(1 row affected)"
                    },
                    "metadata": {}
                },
                {
                    "output_type": "display_data",
                    "data": {
                        "text/html": "(1 row affected)"
                    },
                    "metadata": {}
                },
                {
                    "output_type": "display_data",
                    "data": {
                        "text/html": "(1 row affected)"
                    },
                    "metadata": {}
                },
                {
                    "output_type": "display_data",
                    "data": {
                        "text/html": "(1 row affected)"
                    },
                    "metadata": {}
                },
                {
                    "output_type": "display_data",
                    "data": {
                        "text/html": "(1 row affected)"
                    },
                    "metadata": {}
                },
                {
                    "output_type": "display_data",
                    "data": {
                        "text/html": "(1 row affected)"
                    },
                    "metadata": {}
                },
                {
                    "output_type": "display_data",
                    "data": {
                        "text/html": "(1 row affected)"
                    },
                    "metadata": {}
                },
                {
                    "output_type": "display_data",
                    "data": {
                        "text/html": "(1 row affected)"
                    },
                    "metadata": {}
                },
                {
                    "output_type": "display_data",
                    "data": {
                        "text/html": "(1 row affected)"
                    },
                    "metadata": {}
                },
                {
                    "output_type": "display_data",
                    "data": {
                        "text/html": "(1 row affected)"
                    },
                    "metadata": {}
                },
                {
                    "output_type": "display_data",
                    "data": {
                        "text/html": "(1 row affected)"
                    },
                    "metadata": {}
                },
                {
                    "output_type": "display_data",
                    "data": {
                        "text/html": "(1 row affected)"
                    },
                    "metadata": {}
                },
                {
                    "output_type": "display_data",
                    "data": {
                        "text/html": "Total execution time: 00:00:00.102"
                    },
                    "metadata": {}
                }
            ],
            "execution_count": 27
        },
        {
            "cell_type": "code",
            "source": [
                "--procedura wyszukująca prace po tematyce; \r\n",
                "CREATE PROCEDURE sp_SzukajPracePoTematyce @temat varchar(100), @temat2 varchar(100)\r\n",
                "AS\r\n",
                "BEGIN\r\n",
                "DECLARE @v_numerpracy int;\r\n",
                "DECLARE @v_idpromotor int;\r\n",
                "DECLARE @v_idszefobrony int;\r\n",
                "DECLARE @v_tytul varchar(100);\r\n",
                "DECLARE @v_rodzaj varchar(50);\r\n",
                "DECLARE @v_wydzial varchar(100);\r\n",
                "DECLARE @v_dataobrony datetime;\r\n",
                "DECLARE @V_numerstudenta char(10);\r\n",
                "DECLARE @v_promotor varchar(80);\r\n",
                "DECLARE @v_szefobrony varchar(80);\r\n",
                "DECLARE @v_autorzy varchar(200);\r\n",
                "\r\n",
                "DROP TABLE IF EXISTS #ListaPrac;\r\n",
                "CREATE TABLE #ListaPrac (\r\n",
                "        autorzy varchar(200),\r\n",
                "        tytul varchar(100),\r\n",
                "        promotor varchar(50),\r\n",
                "        dataObrony datetime,\r\n",
                "        wydzial varchar(100),\r\n",
                "        szefObrony varchar(80),\r\n",
                "        rodzaj varchar(50)\r\n",
                ");\r\n",
                "IF @temat2 = ''\r\n",
                "\tSET @temat2 = @temat;\r\n",
                "DECLARE cur1 CURSOR LOCAL FOR SELECT DISTINCT PraceSlowa.id_praca FROM PraceSlowa WHERE (PraceSlowa.slowo = @temat OR PraceSlowa.slowo = @temat2);\r\n",
                "OPEN cur1;\r\n",
                "FETCH NEXT FROM cur1 INTO @v_numerpracy;\r\n",
                "WHILE @@FETCH_STATUS = 0\r\n",
                "BEGIN\r\n",
                "        SELECT @v_tytul=Prace.tytul,@v_idpromotor=Prace.id_promotor,@v_dataobrony=Prace.dataObrony,@v_wydzial=Prace.wydzial,@v_idszefobrony=Prace.id_szefObrony,@v_rodzaj=Prace.grupaRodzaj FROM Prace WHERE Prace.id_praca = @v_numerpracy;\r\n",
                "        SELECT @v_promotor=Concat(Pracownicy.stopien, ' ', Pracownicy.imie, ' ', Pracownicy.nazwisko) FROM Pracownicy WHERE Pracownicy.id_pracownik = @v_idpromotor;\r\n",
                "        SELECT @v_szefobrony=Concat(Pracownicy.stopien, ' ', Pracownicy.imie, ' ', Pracownicy.nazwisko) FROM Pracownicy WHERE Pracownicy.id_pracownik = @v_idszefobrony;\r\n",
                "\r\n",
                "        SET @v_autorzy = '';\r\n",
                "        DECLARE cur2 CURSOR LOCAL FOR SELECT StudenciPrace.id_student FROM StudenciPrace WHERE StudenciPrace.id_praca = @v_numerpracy;\r\n",
                "        OPEN cur2;\r\n",
                "        FETCH NEXT FROM cur2 INTO @v_numerstudenta;\r\n",
                "        WHILE @@FETCH_STATUS = 0\r\n",
                "        BEGIN\r\n",
                "                SELECT @v_autorzy = @v_autorzy + Studenci.imie + ' ' + Studenci.nazwisko + '; ' FROM Studenci WHERE Studenci.id_student = @v_numerstudenta;\r\n",
                "                FETCH NEXT FROM cur2 INTO @v_numerstudenta;\r\n",
                "        END;\r\n",
                "        CLOSE cur2;\r\n",
                "        DEALLOCATE cur2;\r\n",
                "\r\n",
                "        INSERT INTO #ListaPrac VALUES (\r\n",
                "                @v_autorzy,\r\n",
                "                @v_tytul,\r\n",
                "                @v_promotor,\r\n",
                "                @v_dataobrony,\r\n",
                "                @v_wydzial,\r\n",
                "                @v_szefobrony,\r\n",
                "                @v_rodzaj\r\n",
                "        );\r\n",
                "\r\n",
                "        SET @v_autorzy = '';\r\n",
                "        FETCH NEXT FROM cur1 INTO @v_numerpracy;\r\n",
                "END;\r\n",
                "CLOSE cur1;\r\n",
                "DEALLOCATE cur1;\r\n",
                "SELECT * FROM #ListaPrac;\r\n",
                "DROP TABLE #ListaPrac;\r\n",
                "END;"
            ],
            "metadata": {
                "azdata_cell_guid": "70a2ae21-dbd0-4e94-bf81-70bfe94a4340",
                "tags": []
            },
            "outputs": [
                {
                    "output_type": "display_data",
                    "data": {
                        "text/html": "Commands completed successfully."
                    },
                    "metadata": {}
                },
                {
                    "output_type": "display_data",
                    "data": {
                        "text/html": "Total execution time: 00:00:00.048"
                    },
                    "metadata": {}
                }
            ],
            "execution_count": 28
        },
        {
            "cell_type": "code",
            "source": [
                "--procedura szukająca prac po promotorze\r\n",
                "CREATE PROCEDURE sp_SzukajPracePoPromotorze @p_imie varchar(20), @p_nazwisko varchar(20), @p_idpromotor int\r\n",
                "AS\r\n",
                "BEGIN\r\n",
                "DECLARE @v_numerpracy int; \r\n",
                "DECLARE @v_idpromotor int;\r\n",
                "DECLARE @v_idszefobrony int;\r\n",
                "DECLARE @v_tytul varchar(100);\r\n",
                "DECLARE @v_rodzaj varchar(50);\r\n",
                "DECLARE @v_wydzial varchar(100);\r\n",
                "DECLARE @v_dataobrony datetime;\r\n",
                "DECLARE @V_numerstudenta char(10);\r\n",
                "DECLARE @v_promotor varchar(80);\r\n",
                "DECLARE @v_szefobrony varchar(80);\r\n",
                "DECLARE @v_autorzy varchar(200);\r\n",
                "DECLARE @v_recenzenci varchar(250);\r\n",
                "DECLARE @v_recenzent varchar(80);\r\n",
                "DECLARE @v_ocenapromotora decimal(2,1);\r\n",
                "DECLARE @v_slowa varchar(400);\r\n",
                "DECLARE @v_slowo varchar(100);\r\n",
                "DECLARE @v_idpraca int;\r\n",
                "IF @p_idpromotor = 0\r\n",
                "    DECLARE cur_wybierzPromotorow CURSOR LOCAL FOR SELECT Pracownicy.id_pracownik FROM Pracownicy WHERE (Pracownicy.nazwisko = @p_nazwisko AND Pracownicy.imie = @p_imie);\r\n",
                "ELSE\r\n",
                "    DECLARE cur_wybierzPromotorow CURSOR LOCAL FOR SELECT Pracownicy.id_pracownik FROM Pracownicy WHERE Pracownicy.id_pracownik = @p_idpromotor;\r\n",
                "DROP TABLE IF EXISTS #ListaPrac;\r\n",
                "CREATE TABLE #ListaPrac (\r\n",
                "        id_praca int,\r\n",
                "        autorzy varchar(200),\r\n",
                "        tytul varchar(100),\r\n",
                "        promotor varchar(80),\r\n",
                "        ocenaPromotora decimal(2,1),\r\n",
                "        dataObrony datetime,\r\n",
                "        recenzenci_i_ich_oceny varchar(250),\r\n",
                "        wydzial varchar(100),\r\n",
                "        szefObrony varchar(80),\r\n",
                "        rodzaj varchar(50),\r\n",
                "        slowaKluczowe varchar(400)\r\n",
                ");\r\n",
                "OPEN cur_wybierzPromotorow;\r\n",
                "FETCH NEXT FROM cur_wybierzPromotorow INTO @v_idpromotor;\r\n",
                "WHILE @@FETCH_STATUS = 0\r\n",
                "BEGIN\r\n",
                "    SELECT @v_promotor = Concat(Pracownicy.stopien, ' ', Pracownicy.imie, ' ', Pracownicy.nazwisko) FROM Pracownicy WHERE Pracownicy.id_pracownik = @v_idpromotor;\r\n",
                "\tDECLARE cur1 CURSOR LOCAL FOR SELECT Prace.id_praca FROM Prace WHERE Prace.id_promotor = @v_idpromotor;\r\n",
                "    OPEN cur1;\r\n",
                "    FETCH NEXT FROM cur1 INTO @v_numerpracy;\r\n",
                "\tWHILE @@FETCH_STATUS = 0\r\n",
                "    BEGIN\r\n",
                "        SELECT @v_tytul=Prace.tytul,@v_dataobrony=Prace.dataObrony,@v_wydzial=Prace.wydzial,@v_idszefobrony=Prace.id_szefObrony,@v_rodzaj=Prace.grupaRodzaj FROM Prace WHERE Prace.id_praca = @v_numerpracy;\r\n",
                "        SELECT @v_szefobrony = Concat(Pracownicy.stopien, ' ', Pracownicy.imie, ' ', Pracownicy.nazwisko) FROM Pracownicy WHERE Pracownicy.id_pracownik = @v_idszefobrony;\r\n",
                "        SET @v_autorzy = '';\r\n",
                "        DECLARE cur2 CURSOR LOCAL FOR SELECT StudenciPrace.id_student FROM StudenciPrace WHERE StudenciPrace.id_praca = @v_numerpracy;\r\n",
                "        OPEN cur2;\r\n",
                "        FETCH NEXT FROM cur2 INTO @v_numerstudenta;\r\n",
                "        WHILE @@FETCH_STATUS = 0\r\n",
                "        BEGIN\r\n",
                "            SELECT @v_autorzy=Concat(@v_autorzy, Studenci.imie, ' ', Studenci.nazwisko, '; ') FROM Studenci WHERE Studenci.id_student = @v_numerstudenta;\r\n",
                "            FETCH NEXT FROM cur2 INTO @v_numerstudenta;\r\n",
                "        END;\r\n",
                "        CLOSE cur2;\r\n",
                "        DEALLOCATE cur2;\r\n",
                "        SET @v_recenzenci = '';\r\n",
                "\t    DECLARE cur3 CURSOR LOCAL FOR SELECT Concat(Pracownicy.stopien,' ',Pracownicy.imie,' ',Pracownicy.nazwisko,', ocena: ',PraceRecenzenci.ocena) FROM PraceRecenzenci INNER JOIN Pracownicy ON PraceRecenzenci.id_recenzent = Pracownicy.id_pracownik WHERE PraceRecenzenci.id_praca = @v_numerpracy;\r\n",
                "        OPEN cur3;\r\n",
                "\t    FETCH NEXT FROM cur3 INTO @v_recenzent;\r\n",
                "        WHILE @@FETCH_STATUS = 0\r\n",
                "        BEGIN\r\n",
                "\t\t    SET @v_recenzenci = Concat(@v_recenzenci, @v_recenzent,';');\r\n",
                "            FETCH NEXT FROM cur3 INTO @v_recenzent;\r\n",
                "\t    END;\r\n",
                "\t    CLOSE cur3;\r\n",
                "        DEALLOCATE cur3;\t\r\n",
                "        SELECT @v_ocenapromotora=Prace.ocenaPromotora, @v_idpraca=Prace.id_praca FROM Prace WHERE id_praca = @v_numerpracy;\r\n",
                "        \r\n",
                "    \tSET @v_slowa = '';\r\n",
                "        DECLARE cur4 CURSOR LOCAL FOR SELECT PraceSlowa.slowo FROM PraceSlowa WHERE PraceSlowa.id_praca = @v_numerpracy;\r\n",
                "\t    OPEN cur4;\r\n",
                "        FETCH NEXT FROM cur4 INTO @v_slowo;\r\n",
                "\t    WHILE @@FETCH_STATUS = 0\r\n",
                "        BEGIN\r\n",
                "    \t\tSET @v_slowa = Concat(@v_slowa,@v_slowo,'; ');\r\n",
                "            FETCH NEXT FROM cur4 INTO @v_slowo;\r\n",
                "\t    END;\r\n",
                "\t    CLOSE cur4;\r\n",
                "        DEALLOCATE cur4;\r\n",
                "\r\n",
                "\t\tINSERT INTO #ListaPrac VALUES (\r\n",
                "            @v_idpraca,\r\n",
                "\t\t\t@v_autorzy,\r\n",
                "\t        @v_tytul,\r\n",
                "\t        @v_promotor,\r\n",
                "            @v_ocenapromotora,\r\n",
                "\t        @v_dataobrony,\r\n",
                "            @v_recenzenci,\r\n",
                "\t        @v_wydzial,\r\n",
                "\t        @v_szefobrony,\r\n",
                "\t        @v_rodzaj,\r\n",
                "            @v_slowa\r\n",
                "\t     );\r\n",
                "\t     SET @v_autorzy = '';\r\n",
                "         FETCH NEXT FROM cur1 INTO @v_numerpracy;\r\n",
                "\tEND;\r\n",
                "\tCLOSE cur1;\r\n",
                "    DEALLOCATE cur1;\r\n",
                "    FETCH NEXT FROM cur_wybierzPromotorow INTO @v_idpromotor;\r\n",
                "END;\r\n",
                "CLOSE cur_wybierzPromotorow;\r\n",
                "DEALLOCATE cur_wybierzPromotorow;\r\n",
                "SELECT autorzy,tytul,promotor,ocenaPromotora,dataObrony,recenzenci_i_ich_oceny,wydzial,szefObrony,rodzaj,slowaKluczowe FROM #ListaPrac;\r\n",
                "DROP TABLE #ListaPrac;\r\n",
                "END;"
            ],
            "metadata": {
                "azdata_cell_guid": "f650b1a6-236b-4df3-a035-0d3261d69ff3",
                "tags": []
            },
            "outputs": [
                {
                    "output_type": "display_data",
                    "data": {
                        "text/html": "Commands completed successfully."
                    },
                    "metadata": {}
                },
                {
                    "output_type": "display_data",
                    "data": {
                        "text/html": "Total execution time: 00:00:00.091"
                    },
                    "metadata": {}
                }
            ],
            "execution_count": 29
        },
        {
            "cell_type": "code",
            "source": [
                "--procedura szukająca prac danego studenta\r\n",
                "CREATE PROCEDURE sp_SzukajPracPoStudencie @p_idstudent char(10), @p_nazwisko varchar(20), @p_imie varchar(20)\r\n",
                "AS\r\n",
                "BEGIN\r\n",
                "DECLARE @v_numerpracy int;\r\n",
                "DECLARE @v_liczbaRobotnikow int;\r\n",
                "DECLARE @v_promotor varchar(80);\r\n",
                "DECLARE @v_szefobrony varchar(80);\r\n",
                "DECLARE @v_recenzent varchar(80);\r\n",
                "DECLARE @v_wspolautor varchar(80);\r\n",
                "DECLARE @v_slowo varchar(80);\r\n",
                "DECLARE @v_recenzenci varchar(300);\r\n",
                "DECLARE @v_wspolautorzy varchar(300);\r\n",
                "DECLARE @v_slowa varchar(300);\r\n",
                "DECLARE @v_rodzaj varchar (50);\r\n",
                "DECLARE @v_ocena decimal(2,1);\r\n",
                "DECLARE @v_ocenaPromotora decimal(2,1);\r\n",
                "DECLARE @v_dataObrony datetime;\r\n",
                "DECLARE @v_tytul varchar(100);\r\n",
                "DECLARE @v_wydzial varchar(100);\r\n",
                "DECLARE @wiadomosc varchar(100);\r\n",
                "\r\n",
                "IF @p_idstudent != ''\r\n",
                "BEGIN\r\n",
                "\tDECLARE cur1 CURSOR LOCAL FOR SELECT StudenciPrace.id_praca, StudenciPrace.ocena FROM StudenciPrace WHERE StudenciPrace.id_student = @p_idstudent;\r\n",
                "\tSELECT @wiadomosc = Concat('Wyświetla prace studenta ',Studenci.imie,' ',Studenci.nazwisko) FROM Studenci WHERE id_student = @p_idstudent;\r\n",
                "END\r\n",
                "ELSE\r\n",
                "BEGIN\r\n",
                "\tDECLARE cur1 CURSOR LOCAL FOR SELECT DISTINCT StudenciPrace.id_praca, StudenciPrace.ocena FROM StudenciPrace INNER JOIN Studenci ON StudenciPrace.id_student = Studenci.id_student WHERE (Studenci.nazwisko = @p_nazwisko AND Studenci.imie = @p_imie);\r\n",
                "\tSELECT @wiadomosc = Concat('Wyświetla prace studentów o imionach i nazwiskach: ', @p_imie, ' ', @p_nazwisko);\r\n",
                "END;\r\n",
                "\r\n",
                "DROP TABLE IF EXISTS #ListaPrac;\r\n",
                "CREATE TABLE #ListaPrac (\r\n",
                "\ttytul varchar (100),\r\n",
                "\twspolautorzy varchar(300),\r\n",
                "\tpromotor varchar(80),\r\n",
                "\trecenzenci_i_ich_oceny varchar(300),\r\n",
                "\tocena_promotora decimal(2,1),\r\n",
                "\tocena_koncowa decimal(2,1),\r\n",
                "\tdata_obrony datetime,\r\n",
                "\twydzial varchar(100),\r\n",
                "\trodzaj_pracy varchar(50),\r\n",
                "\tslowa_kluczowe varchar(300)\r\n",
                ");\r\n",
                "\r\n",
                "PRINT @wiadomosc;\r\n",
                "\r\n",
                "OPEN cur1;\r\n",
                "FETCH NEXT FROM cur1 INTO @v_numerpracy, @v_ocena;\r\n",
                "WHILE @@FETCH_STATUS = 0\r\n",
                "BEGIN\r\n",
                "\tSELECT @v_promotor = Concat(Pracownicy.stopien,' ',Pracownicy.imie,' ',Pracownicy.nazwisko) FROM Pracownicy INNER JOIN Prace ON Prace.id_promotor = Pracownicy.id_pracownik WHERE Prace.id_praca = @v_numerpracy;\r\n",
                "\tSELECT @v_szefobrony = Concat(Pracownicy.stopien,' ',Pracownicy.imie,' ',Pracownicy.nazwisko) FROM Pracownicy INNER JOIN Prace ON Prace.id_szefObrony = Pracownicy.id_pracownik WHERE Prace.id_praca = @v_numerpracy;\r\n",
                "\tSET @v_recenzenci = '';\r\n",
                "\tDECLARE cur2 CURSOR LOCAL FOR SELECT Concat(Pracownicy.stopien,' ',Pracownicy.imie,' ',Pracownicy.nazwisko,', ocena: ',PraceRecenzenci.ocena) FROM PraceRecenzenci INNER JOIN Pracownicy ON PraceRecenzenci.id_recenzent = Pracownicy.id_pracownik WHERE PraceRecenzenci.id_praca = @v_numerpracy;\r\n",
                "    OPEN cur2;\r\n",
                "\tFETCH NEXT FROM cur2 INTO @v_recenzent;\r\n",
                "    WHILE @@FETCH_STATUS = 0\r\n",
                "    BEGIN\r\n",
                "\t\tSET @v_recenzenci = Concat(@v_recenzenci, @v_recenzent,';');\r\n",
                "        FETCH NEXT FROM cur2 INTO @v_recenzent;\r\n",
                "\tEND;\r\n",
                "\tCLOSE cur2;\r\n",
                "    DEALLOCATE cur2;\t\r\n",
                "\tSELECT @v_liczbaRobotnikow = Prace.liczbaRobotnikow FROM Prace WHERE Prace.id_praca = @v_numerpracy;\r\n",
                "\tIF @v_liczbaRobotnikow > 1\r\n",
                "    BEGIN\r\n",
                "\t\tSET @v_wspolautorzy = '';\r\n",
                "        DECLARE cur3 CURSOR LOCAL FOR SELECT Concat(Studenci.imie,' ',Studenci.nazwisko) FROM StudenciPrace INNER JOIN Studenci ON StudenciPrace.id_student = Studenci.id_student WHERE (StudenciPrace.id_praca = @v_numerpracy AND StudenciPrace.id_student != @p_idstudent);\r\n",
                "\t\tOPEN cur3;\r\n",
                "        FETCH NEXT FROM cur3 INTO @v_wspolautor;\r\n",
                "\t\tWHILE @@FETCH_STATUS = 0\r\n",
                "        BEGIN\r\n",
                "\t\t\tSET @v_wspolautorzy = Concat(@v_wspolautorzy,@v_wspolautor,';');\r\n",
                "            FETCH NEXT FROM cur3 INTO @v_wspolautor;\r\n",
                "\t\tEND;\r\n",
                "\t\tCLOSE cur3;\r\n",
                "        DEALLOCATE cur3;\r\n",
                "    END\r\n",
                "\tELSE\r\n",
                "\t\tSET @v_wspolautorzy = 'BRAK';\r\n",
                "\tSET @v_slowa = '';\r\n",
                "    DECLARE cur4 CURSOR LOCAL FOR SELECT PraceSlowa.slowo FROM PraceSlowa WHERE PraceSlowa.id_praca = @v_numerpracy;\r\n",
                "\tOPEN cur4;\r\n",
                "    FETCH NEXT FROM cur4 INTO @v_slowo;\r\n",
                "\tWHILE @@FETCH_STATUS = 0\r\n",
                "    BEGIN\r\n",
                "\t\tSET @v_slowa = Concat(@v_slowa,@v_slowo,'; ');\r\n",
                "        FETCH NEXT FROM cur4 INTO @v_slowo;\r\n",
                "\tEND;\r\n",
                "\tCLOSE cur4;\r\n",
                "    DEALLOCATE cur4;\t\r\n",
                "    SELECT @v_rodzaj=Prace.grupaRodzaj, @v_ocenaPromotora=Prace.ocenaPromotora, @v_dataObrony=Prace.dataObrony, @v_tytul=Prace.tytul, @v_wydzial=Prace.wydzial FROM Prace WHERE Prace.id_praca = @v_numerpracy;\r\n",
                "\tINSERT INTO #ListaPrac(tytul,wspolautorzy,promotor,recenzenci_i_ich_oceny,ocena_promotora,ocena_koncowa,data_obrony,wydzial,rodzaj_pracy,slowa_kluczowe) VALUES (\r\n",
                "\t\t@v_tytul,\r\n",
                "\t\t@v_wspolautorzy,\r\n",
                "\t\t@v_promotor,\r\n",
                "\t\t@v_recenzenci,\r\n",
                "\t\t@v_ocenaPromotora,\r\n",
                "\t\t@v_ocena,\r\n",
                "\t\t@v_dataObrony,\r\n",
                "\t\t@v_wydzial,\r\n",
                "\t\t@v_rodzaj,\r\n",
                "\t\t@v_slowa\r\n",
                "\t);\t\r\n",
                "\tFETCH NEXT FROM cur1 INTO @v_numerpracy, @v_ocena;\r\n",
                "END;\r\n",
                "CLOSE cur1;\r\n",
                "DEALLOCATE cur1;\r\n",
                "SELECT * FROM #ListaPrac;\r\n",
                "DROP TABLE #ListaPrac;\r\n",
                "END;"
            ],
            "metadata": {
                "azdata_cell_guid": "ee970fdf-5b58-4cc8-b8e5-5413c4218dec",
                "tags": []
            },
            "outputs": [
                {
                    "output_type": "display_data",
                    "data": {
                        "text/html": "Commands completed successfully."
                    },
                    "metadata": {}
                },
                {
                    "output_type": "display_data",
                    "data": {
                        "text/html": "Total execution time: 00:00:00.060"
                    },
                    "metadata": {}
                }
            ],
            "execution_count": 30
        },
        {
            "cell_type": "code",
            "source": [
                "--procedura szukająca prac po danym kierunku lub roku obrony\r\n",
                "CREATE PROCEDURE sp_SzukajPracePoKierunkuLubRoku @p_kierunek varchar(100), @p_rok int\r\n",
                "AS\r\n",
                "BEGIN\r\n",
                "DECLARE @v_numerpracy int;\r\n",
                "DECLARE @v_promotor varchar(80);\r\n",
                "DECLARE @v_szefobrony varchar(80);\r\n",
                "DECLARE @v_recenzent varchar(80);\r\n",
                "DECLARE @v_wspolautor varchar(80);\r\n",
                "DECLARE @v_slowo varchar(80);\r\n",
                "DECLARE @v_recenzenci varchar (300);\r\n",
                "DECLARE @v_wspolautorzy varchar(300);\r\n",
                "DECLARE @v_slowa varchar(300);\r\n",
                "DECLARE @v_rodzaj varchar (50);\r\n",
                "DECLARE @v_ocena decimal(2,1);\r\n",
                "DECLARE @v_ocenaPromotora decimal(2,1);\r\n",
                "DECLARE @v_dataObrony datetime;\r\n",
                "DECLARE @v_tytul varchar(100);\r\n",
                "DECLARE @v_wydzial varchar(100);\r\n",
                "DECLARE @wiadomosc varchar(100);\r\n",
                "\r\n",
                "DECLARE cur1 CURSOR LOCAL FOR SELECT DISTINCT StudenciPrace.id_praca FROM StudenciPrace\r\n",
                "\tINNER JOIN StudenciStudia ON StudenciPrace.id_student_studia = StudenciStudia.id_student_studia\r\n",
                "\tINNER JOIN Studia ON StudenciStudia.id_studia = Studia.id_studia\r\n",
                "\tWHERE Studia.kierunek = @p_kierunek\r\n",
                "\tUNION\r\n",
                "\tSELECT Prace.id_praca FROM Prace WHERE YEAR(Prace.dataObrony) = @p_rok;\r\n",
                "\r\n",
                "DROP TABLE IF EXISTS #ListaPrac;\r\n",
                "CREATE TABLE #ListaPrac (\r\n",
                "\ttytul varchar (100),\r\n",
                "\tautorzy varchar(300),\r\n",
                "\tpromotor varchar(80),\r\n",
                "\trecenzenci_i_ich_oceny varchar(300),\r\n",
                "\tocena_promotora decimal(2,1),\r\n",
                "\tdata_obrony datetime,\r\n",
                "\twydzial varchar(100),\r\n",
                "\trodzaj_pracy varchar(50),\r\n",
                "\tslowa_kluczowe varchar(300)\r\n",
                ");\r\n",
                "\r\n",
                "SET @wiadomosc = Concat('Prace obronione na kierunku: ',@p_kierunek,' lub w roku ',@p_rok);\r\n",
                "PRINT @wiadomosc;\r\n",
                "\r\n",
                "OPEN cur1;\r\n",
                "FETCH NEXT FROM cur1 INTO @v_numerpracy;\r\n",
                "WHILE @@FETCH_STATUS = 0\r\n",
                "BEGIN\r\n",
                "\tSELECT @v_promotor = Concat(Pracownicy.stopien,' ',Pracownicy.imie,' ',Pracownicy.nazwisko) FROM Pracownicy INNER JOIN Prace ON Prace.id_promotor = Pracownicy.id_pracownik WHERE Prace.id_praca = @v_numerpracy;\r\n",
                "\tSELECT @v_szefobrony = Concat(Pracownicy.stopien,' ',Pracownicy.imie,' ',Pracownicy.nazwisko) FROM Pracownicy INNER JOIN Prace ON Prace.id_szefObrony = Pracownicy.id_pracownik WHERE Prace.id_praca = @v_numerpracy;\r\n",
                "\tSET @v_recenzenci = '';\r\n",
                "\tDECLARE cur2 CURSOR LOCAL FOR SELECT Concat(Pracownicy.stopien,' ',Pracownicy.imie,' ',Pracownicy.nazwisko,', ocena: ',PraceRecenzenci.ocena) FROM PraceRecenzenci INNER JOIN Pracownicy ON PraceRecenzenci.id_recenzent = Pracownicy.id_pracownik WHERE PraceRecenzenci.id_praca = @v_numerpracy;\r\n",
                "    OPEN cur2;\r\n",
                "\tFETCH NEXT FROM cur2 INTO @v_recenzent;\r\n",
                "    WHILE @@FETCH_STATUS = 0\r\n",
                "    BEGIN\r\n",
                "\t\tSET @v_recenzenci = Concat(@v_recenzenci, @v_recenzent,';');\r\n",
                "        FETCH NEXT FROM cur2 INTO @v_recenzent;\r\n",
                "\tEND;\r\n",
                "\tCLOSE cur2;\r\n",
                "    DEALLOCATE cur2;\r\n",
                "\tSET @v_wspolautorzy = '';\r\n",
                "\tDECLARE cur3 CURSOR LOCAL FOR SELECT Concat(Studenci.imie,' ',Studenci.nazwisko) FROM StudenciPrace INNER JOIN Studenci ON StudenciPrace.id_student = Studenci.id_student WHERE StudenciPrace.id_praca = @v_numerpracy;\r\n",
                "    OPEN cur3;\r\n",
                "    FETCH NEXT FROM cur3 INTO @v_wspolautor;\r\n",
                "\tWHILE @@FETCH_STATUS = 0\r\n",
                "    BEGIN\r\n",
                "\t\tSET @v_wspolautorzy = Concat(@v_wspolautorzy,@v_wspolautor,';');\r\n",
                "        FETCH NEXT FROM cur3 INTO @v_wspolautor;\r\n",
                "\tEND;\r\n",
                "\tCLOSE cur3;\r\n",
                "    DEALLOCATE cur3;\t\r\n",
                "\tSET @v_slowa = '';\r\n",
                "\tDECLARE cur4 CURSOR LOCAL FOR SELECT PraceSlowa.slowo FROM PraceSlowa WHERE id_praca = @v_numerpracy;\r\n",
                "    OPEN cur4;\r\n",
                "    FETCH NEXT FROM cur4 INTO @v_slowo;\r\n",
                "\tWHILE @@FETCH_STATUS = 0\r\n",
                "    BEGIN\r\n",
                "\t\tSET @v_slowa = Concat(@v_slowa,@v_slowo,'; ');\r\n",
                "        FETCH NEXT FROM cur4 INTO @v_slowo;\r\n",
                "\tEND;\r\n",
                "\tCLOSE cur4;\r\n",
                "    DEALLOCATE cur4;\r\n",
                "\t\r\n",
                "\tSELECT @v_rodzaj=Prace.grupaRodzaj, @v_ocenaPromotora=Prace.ocenaPromotora, @V_dataObrony=Prace.dataObrony, @v_tytul=Prace.tytul, @v_wydzial=Prace.wydzial FROM Prace WHERE Prace.id_praca = @v_numerpracy;\r\n",
                "\tINSERT INTO #ListaPrac(tytul,autorzy,promotor,recenzenci_i_ich_oceny,ocena_promotora,data_obrony,wydzial,rodzaj_pracy,slowa_kluczowe) VALUES (\r\n",
                "\t\t@v_tytul,\r\n",
                "\t\t@v_wspolautorzy,\r\n",
                "\t\t@v_promotor,\r\n",
                "\t\t@v_recenzenci,\r\n",
                "\t\t@v_ocenaPromotora,\r\n",
                "\t\t@v_dataObrony,\r\n",
                "\t\t@v_wydzial,\r\n",
                "\t\t@v_rodzaj,\r\n",
                "\t\t@v_slowa\r\n",
                "\t);\t\r\n",
                "\tFETCH NEXT FROM cur1 INTO @v_numerpracy;\r\n",
                "END;\r\n",
                "CLOSE cur1;\r\n",
                "DEALLOCATE cur1;\r\n",
                "SELECT * FROM #ListaPrac;\r\n",
                "DROP TABLE #ListaPrac;\r\n",
                "END;"
            ],
            "metadata": {
                "azdata_cell_guid": "4faaf553-ee03-48f0-92fa-2652c762c088",
                "tags": []
            },
            "outputs": [
                {
                    "output_type": "display_data",
                    "data": {
                        "text/html": "Commands completed successfully."
                    },
                    "metadata": {}
                },
                {
                    "output_type": "display_data",
                    "data": {
                        "text/html": "Total execution time: 00:00:00.050"
                    },
                    "metadata": {}
                }
            ],
            "execution_count": 31
        },
        {
            "cell_type": "code",
            "source": [
                "--procedure szukająca prac recenzenzowanych\r\n",
                "CREATE PROCEDURE sp_SzukajPraceRecenzowane @p_idpracownik int, @p_imiepracownik varchar(20), @p_nazwiskopracownik varchar(20)\r\n",
                "AS\r\n",
                "BEGIN\r\n",
                "DECLARE @v_numerpracy int;\r\n",
                "DECLARE @v_liczbaRobotnikow int;\r\n",
                "DECLARE @v_promotor varchar(80);\r\n",
                "DECLARE @v_szefobrony varchar(80);\r\n",
                "DECLARE @v_recenzent varchar(80);\r\n",
                "DECLARE @v_wspolautor varchar(80);\r\n",
                "DECLARE @v_slowo varchar(80);\r\n",
                "DECLARE @v_recenzenci varchar(300);\r\n",
                "DECLARE @v_wspolautorzy varchar(400);\r\n",
                "DECLARE @v_slowa varchar(300);\r\n",
                "DECLARE @v_rodzaj varchar (50);\r\n",
                "DECLARE @v_ocena decimal(2,1);\r\n",
                "DECLARE @v_ocenaPromotora decimal(2,1);\r\n",
                "DECLARE @v_dataObrony datetime;\r\n",
                "DECLARE @v_tytul varchar(100);\r\n",
                "DECLARE @v_wydzial varchar(100);\r\n",
                "DECLARE @wiadomosc varchar(100);\r\n",
                "\r\n",
                "IF ((@p_idpracownik != 0) AND ((@p_imiepracownik != '' AND @p_nazwiskopracownik != '')))\r\n",
                "    DECLARE cur1 CURSOR LOCAL FOR SELECT DISTINCT PraceRecenzenci.id_praca FROM PraceRecenzenci INNER JOIN Pracownicy ON PraceRecenzenci.id_recenzent = Pracownicy.id_pracownik WHERE ((Pracownicy.nazwisko = @p_nazwiskopracownik AND Pracownicy.imie = @p_imiepracownik) OR (Pracownicy.id_pracownik = @p_idpracownik));\r\n",
                "ELSE IF ((@p_idpracownik != 0) AND ((@p_imiepracownik = '' OR @p_imiepracownik = '')))\r\n",
                "BEGIN\r\n",
                "    IF (@p_nazwiskopracownik = '' AND @p_imiepracownik != '')\r\n",
                "        DECLARE cur1 CURSOR LOCAL FOR SELECT DISTINCT id_praca FROM PraceRecenzenci INNER JOIN Pracownicy ON PraceRecenzenci.id_recenzent = Pracownicy.id_pracownik WHERE ((Pracownicy.imie = @p_imiepracownik) OR (Pracownicy.id_pracownik = @p_idpracownik));    \r\n",
                "    ELSE IF (@p_imiepracownik = '' AND @p_nazwiskopracownik != '')\r\n",
                "        DECLARE cur1 CURSOR LOCAL FOR SELECT DISTINCT id_praca FROM PraceRecenzenci INNER JOIN Pracownicy ON PraceRecenzenci.id_recenzent = Pracownicy.id_pracownik WHERE ((Pracownicy.nazwisko = @p_nazwiskopracownik) OR (Pracownicy.id_pracownik = @p_idpracownik));\r\n",
                "    ELSE\r\n",
                "        DECLARE cur1 CURSOR LOCAL FOR SELECT DISTINCT id_praca FROM PraceRecenzenci INNER JOIN Pracownicy ON PraceRecenzenci.id_recenzent = Pracownicy.id_pracownik WHERE (Pracownicy.id_pracownik = @p_idpracownik);    \r\n",
                "END;\r\n",
                "ELSE IF ((@p_idpracownik = 0) AND (@p_imiepracownik != '' AND @p_nazwiskopracownik != ''))\r\n",
                "    DECLARE cur1 CURSOR LOCAL FOR SELECT DISTINCT id_praca FROM PraceRecenzenci INNER JOIN Pracownicy ON PraceRecenzenci.id_recenzent = Pracownicy.id_pracownik WHERE ((Pracownicy.imie = @p_imiepracownik AND Pracownicy.nazwisko = @p_nazwiskopracownik));\r\n",
                "ELSE IF ((@p_idpracownik = 0) AND ((@p_imiepracownik = '' OR @p_nazwiskopracownik = '')))\r\n",
                "BEGIN\r\n",
                "    IF (@p_nazwiskopracownik = '' AND @p_imiepracownik != '')\r\n",
                "        DECLARE cur1 CURSOR LOCAL FOR SELECT DISTINCT id_praca FROM PraceRecenzenci INNER JOIN Pracownicy ON PraceRecenzenci.id_recenzent = Pracownicy.id_pracownik WHERE ((Pracownicy.imie = @p_imiepracownik));    \r\n",
                "    ELSE IF (@p_imiepracownik = '' AND @p_nazwiskopracownik != '')\r\n",
                "        DECLARE cur1 CURSOR LOCAL FOR SELECT DISTINCT id_praca FROM PraceRecenzenci INNER JOIN Pracownicy ON PraceRecenzenci.id_recenzent = Pracownicy.id_pracownik WHERE ((Pracownicy.nazwisko = @p_nazwiskopracownik));\r\n",
                "    ELSE\r\n",
                "        DECLARE cur1 CURSOR LOCAL FOR SELECT DISTINCT id_praca FROM PraceRecenzenci;    \r\n",
                "END;\r\n",
                "ELSE\r\n",
                "    DECLARE cur1 CURSOR LOCAL FOR SELECT DISTINCT id_praca FROM PraceRecenzenci; \r\n",
                "\r\n",
                "DROP TABLE IF EXISTS #ListaPrac;\r\n",
                "CREATE TABLE #ListaPrac (\r\n",
                "\ttytul varchar (100),\r\n",
                "\tautorzy_i_ich_oceny varchar(300),\r\n",
                "\tpromotor varchar(80),\r\n",
                "\trecenzenci_i_ich_oceny varchar(300),\r\n",
                "\tocena_promotora decimal(2,1),\r\n",
                "\tdata_obrony datetime,\r\n",
                "\twydzial varchar(100),\r\n",
                "\trodzaj_pracy varchar(50),\r\n",
                "\tslowa_kluczowe varchar(300)\r\n",
                ");\r\n",
                "\r\n",
                "SELECT @wiadomosc = 'Wyświetla prace recenzowane przez określonych pracowników uczelni';\r\n",
                "PRINT @wiadomosc;\r\n",
                "\r\n",
                "OPEN cur1;\r\n",
                "FETCH NEXT FROM cur1 INTO @v_numerpracy;\r\n",
                "WHILE @@FETCH_STATUS = 0\r\n",
                "BEGIN\r\n",
                "\tSELECT @v_promotor = Concat(Pracownicy.stopien,' ',Pracownicy.imie,' ',Pracownicy.nazwisko) FROM Pracownicy INNER JOIN Prace ON Prace.id_promotor = Pracownicy.id_pracownik WHERE Prace.id_praca = @v_numerpracy;\r\n",
                "\tSELECT @v_szefobrony = Concat(Pracownicy.stopien,' ',Pracownicy.imie,' ',Pracownicy.nazwisko) FROM Pracownicy INNER JOIN Prace ON Prace.id_szefObrony = Pracownicy.id_pracownik WHERE Prace.id_praca = @v_numerpracy;\r\n",
                "\tSET @v_recenzenci = '';\r\n",
                "\tDECLARE cur2 CURSOR LOCAL FOR SELECT Concat(Pracownicy.stopien,' ',Pracownicy.imie,' ',Pracownicy.nazwisko,', ocena: ',PraceRecenzenci.ocena) FROM PraceRecenzenci INNER JOIN Pracownicy ON PraceRecenzenci.id_recenzent = Pracownicy.id_pracownik WHERE PraceRecenzenci.id_praca = @v_numerpracy;\r\n",
                "    OPEN cur2;\r\n",
                "\tFETCH NEXT FROM cur2 INTO @v_recenzent;\r\n",
                "    WHILE @@FETCH_STATUS = 0\r\n",
                "    BEGIN\r\n",
                "\t\tSET @v_recenzenci = Concat(@v_recenzenci, @v_recenzent,';');\r\n",
                "        FETCH NEXT FROM cur2 INTO @v_recenzent;\r\n",
                "\tEND;\r\n",
                "\tCLOSE cur2;\r\n",
                "    DEALLOCATE cur2;\r\n",
                "\tSET @v_wspolautorzy = '';\r\n",
                "    DECLARE cur3 CURSOR LOCAL FOR SELECT Concat(Studenci.imie,' ',Studenci.nazwisko,' ',StudenciPrace.ocena) FROM StudenciPrace INNER JOIN Studenci ON StudenciPrace.id_student = Studenci.id_student WHERE (StudenciPrace.id_praca = @v_numerpracy);\r\n",
                "\tOPEN cur3;\r\n",
                "    FETCH NEXT FROM cur3 INTO @v_wspolautor;\r\n",
                "\tWHILE @@FETCH_STATUS = 0\r\n",
                "    BEGIN\r\n",
                "\t    SET @v_wspolautorzy = Concat(@v_wspolautorzy,@v_wspolautor,';');\r\n",
                "        FETCH NEXT FROM cur3 INTO @v_wspolautor;\r\n",
                "\tEND;\r\n",
                "\tCLOSE cur3;\r\n",
                "    DEALLOCATE cur3;\r\n",
                "\tSET @v_slowa = '';\r\n",
                "    DECLARE cur4 CURSOR LOCAL FOR SELECT PraceSlowa.slowo FROM PraceSlowa WHERE PraceSlowa.id_praca = @v_numerpracy;\r\n",
                "\tOPEN cur4;\r\n",
                "    FETCH NEXT FROM cur4 INTO @v_slowo;\r\n",
                "\tWHILE @@FETCH_STATUS = 0\r\n",
                "    BEGIN\r\n",
                "\t\tSET @v_slowa = Concat(@v_slowa,@v_slowo,'; ');\r\n",
                "        FETCH NEXT FROM cur4 INTO @v_slowo;\r\n",
                "\tEND;\r\n",
                "\tCLOSE cur4;\r\n",
                "    DEALLOCATE cur4;\t\r\n",
                "    SELECT @v_rodzaj=Prace.grupaRodzaj, @v_ocenaPromotora=Prace.ocenaPromotora, @v_dataObrony=Prace.dataObrony, @v_tytul=Prace.tytul, @v_wydzial=Prace.wydzial FROM Prace WHERE Prace.id_praca = @v_numerpracy;\r\n",
                "\tINSERT INTO #ListaPrac(tytul,autorzy_i_ich_oceny,promotor,recenzenci_i_ich_oceny,ocena_promotora,data_obrony,wydzial,rodzaj_pracy,slowa_kluczowe) VALUES (\r\n",
                "\t\t@v_tytul,\r\n",
                "\t\t@v_wspolautorzy,\r\n",
                "\t\t@v_promotor,\r\n",
                "\t\t@v_recenzenci,\r\n",
                "\t\t@v_ocenaPromotora,\r\n",
                "\t\t@v_dataObrony,\r\n",
                "\t\t@v_wydzial,\r\n",
                "\t\t@v_rodzaj,\r\n",
                "\t\t@v_slowa\r\n",
                "\t);\t\r\n",
                "\tFETCH NEXT FROM cur1 INTO @v_numerpracy;\r\n",
                "END;\r\n",
                "CLOSE cur1;\r\n",
                "DEALLOCATE cur1;\r\n",
                "SELECT * FROM #ListaPrac;\r\n",
                "DROP TABLE #ListaPrac;\r\n",
                "END;"
            ],
            "metadata": {
                "azdata_cell_guid": "20fef7d7-d357-4c8a-a5b6-0576e69d10e6",
                "tags": []
            },
            "outputs": [
                {
                    "output_type": "display_data",
                    "data": {
                        "text/html": "Commands completed successfully."
                    },
                    "metadata": {}
                },
                {
                    "output_type": "display_data",
                    "data": {
                        "text/html": "Total execution time: 00:00:00.094"
                    },
                    "metadata": {}
                }
            ],
            "execution_count": 32
        },
        {
            "cell_type": "code",
            "source": [
                "--procedura szukająca prac obronionych po datach\r\n",
                "CREATE PROCEDURE sp_SzukajPracePoDacie @p_rok int, @p_miesiac int, @p_dzien int\r\n",
                "AS\r\n",
                "BEGIN\r\n",
                "DECLARE @v_numerpracy int;\r\n",
                "DECLARE @v_liczbaRobotnikow int;\r\n",
                "DECLARE @v_promotor varchar(80);\r\n",
                "DECLARE @v_szefobrony varchar(80);\r\n",
                "DECLARE @v_recenzent varchar(80);\r\n",
                "DECLARE @v_wspolautor varchar(80);\r\n",
                "DECLARE @v_slowo varchar(80);\r\n",
                "DECLARE @v_recenzenci varchar(300);\r\n",
                "DECLARE @v_wspolautorzy varchar(400);\r\n",
                "DECLARE @v_slowa varchar(300);\r\n",
                "DECLARE @v_rodzaj varchar (50);\r\n",
                "DECLARE @v_ocena decimal(2,1);\r\n",
                "DECLARE @v_ocenaPromotora decimal(2,1);\r\n",
                "DECLARE @v_dataObrony datetime;\r\n",
                "DECLARE @v_tytul varchar(100);\r\n",
                "DECLARE @v_wydzial varchar(100);\r\n",
                "DECLARE @wiadomosc varchar(100);\r\n",
                "\r\n",
                "IF ((@p_rok != 0) AND ((@p_miesiac != 0 AND @p_dzien != 0)))\r\n",
                "    DECLARE cur1 CURSOR LOCAL FOR SELECT Prace.id_praca FROM Prace WHERE ((YEAR(Prace.dataObrony) = @p_rok AND MONTH(Prace.dataObrony) = @p_miesiac) AND (DAY(Prace.dataObrony) = @p_dzien));\r\n",
                "ELSE IF ((@p_rok != 0) AND ((@p_miesiac = 0 OR @p_dzien = 0)))\r\n",
                "BEGIN\r\n",
                "    IF (@p_miesiac = 0 AND @p_dzien != 0)\r\n",
                "        DECLARE cur1 CURSOR LOCAL FOR SELECT Prace.id_praca FROM Prace WHERE ((YEAR(Prace.dataObrony) = @p_rok AND DAY(Prace.dataObrony) = @p_dzien));\r\n",
                "    ELSE IF (@p_dzien = 0 AND @p_miesiac != 0)\r\n",
                "        DECLARE cur1 CURSOR LOCAL FOR SELECT Prace.id_praca FROM Prace WHERE ((YEAR(Prace.dataObrony) = @p_rok AND MONTH(Prace.dataObrony) = @p_miesiac));\r\n",
                "    ELSE\r\n",
                "        DECLARE cur1 CURSOR LOCAL FOR SELECT Prace.id_praca FROM Prace WHERE ((YEAR(Prace.dataObrony) = @p_rok));\r\n",
                "END;\r\n",
                "ELSE IF ((@p_rok = 0) AND (@p_miesiac != 0 AND @p_dzien != 0))\r\n",
                "    DECLARE cur1 CURSOR LOCAL FOR SELECT Prace.id_praca FROM Prace WHERE (((MONTH(Prace.dataObrony) = @p_miesiac) AND (DAY(Prace.dataObrony) = @p_dzien)));\r\n",
                "ELSE IF ((@p_rok = 0) AND ((@p_miesiac = 0 OR @p_dzien = 0)))\r\n",
                "BEGIN\r\n",
                "    IF (@p_miesiac = 0 AND @p_dzien != 0)\r\n",
                "        DECLARE cur1 CURSOR LOCAL FOR SELECT Prace.id_praca FROM Prace WHERE (DAY(Prace.dataObrony) = @p_dzien);\r\n",
                "    ELSE IF (@p_dzien = 0 AND @p_miesiac != 0)\r\n",
                "        DECLARE cur1 CURSOR LOCAL FOR SELECT Prace.id_praca FROM Prace WHERE (MONTH(Prace.dataObrony) = @p_miesiac);\r\n",
                "    ELSE\r\n",
                "        DECLARE cur1 CURSOR LOCAL FOR SELECT Prace.id_praca FROM Prace;    \r\n",
                "END;\r\n",
                "ELSE\r\n",
                "    DECLARE cur1 CURSOR LOCAL FOR SELECT Prace.id_praca FROM Prace;  \r\n",
                "\r\n",
                "DROP TABLE IF EXISTS #ListaPrac;\r\n",
                "CREATE TABLE #ListaPrac (\r\n",
                "\ttytul varchar (100),\r\n",
                "\tautorzy_i_ich_oceny varchar(300),\r\n",
                "\tpromotor varchar(80),\r\n",
                "\trecenzenci_i_ich_oceny varchar(300),\r\n",
                "\tocena_promotora decimal(2,1),\r\n",
                "\tdata_obrony datetime,\r\n",
                "\twydzial varchar(100),\r\n",
                "\trodzaj_pracy varchar(50),\r\n",
                "\tslowa_kluczowe varchar(300)\r\n",
                ");\r\n",
                "\r\n",
                "SELECT @wiadomosc = 'Wyświetla prace obronione w konkretnych datach';\r\n",
                "PRINT @wiadomosc;\r\n",
                "\r\n",
                "OPEN cur1;\r\n",
                "FETCH NEXT FROM cur1 INTO @v_numerpracy;\r\n",
                "WHILE @@FETCH_STATUS = 0\r\n",
                "BEGIN\r\n",
                "\tSELECT @v_promotor = Concat(Pracownicy.stopien,' ',Pracownicy.imie,' ',Pracownicy.nazwisko) FROM Pracownicy INNER JOIN Prace ON Prace.id_promotor = Pracownicy.id_pracownik WHERE Prace.id_praca = @v_numerpracy;\r\n",
                "\tSELECT @v_szefobrony = Concat(Pracownicy.stopien,' ',Pracownicy.imie,' ',Pracownicy.nazwisko) FROM Pracownicy INNER JOIN Prace ON Prace.id_szefObrony = Pracownicy.id_pracownik WHERE Prace.id_praca = @v_numerpracy;\r\n",
                "\tSET @v_recenzenci = '';\r\n",
                "\tDECLARE cur2 CURSOR LOCAL FOR SELECT Concat(Pracownicy.stopien,' ',Pracownicy.imie,' ',Pracownicy.nazwisko,', ocena: ',PraceRecenzenci.ocena) FROM PraceRecenzenci INNER JOIN Pracownicy ON PraceRecenzenci.id_recenzent = Pracownicy.id_pracownik WHERE PraceRecenzenci.id_praca = @v_numerpracy;\r\n",
                "    OPEN cur2;\r\n",
                "\tFETCH NEXT FROM cur2 INTO @v_recenzent;\r\n",
                "    WHILE @@FETCH_STATUS = 0\r\n",
                "    BEGIN\r\n",
                "\t\tSET @v_recenzenci = Concat(@v_recenzenci, @v_recenzent,';');\r\n",
                "        FETCH NEXT FROM cur2 INTO @v_recenzent;\r\n",
                "\tEND;\r\n",
                "\tCLOSE cur2;\r\n",
                "    DEALLOCATE cur2;\r\n",
                "\tSET @v_wspolautorzy = '';\r\n",
                "    DECLARE cur3 CURSOR LOCAL FOR SELECT Concat(Studenci.imie,' ',Studenci.nazwisko,' ',StudenciPrace.ocena) FROM StudenciPrace INNER JOIN Studenci ON StudenciPrace.id_student = Studenci.id_student WHERE (StudenciPrace.id_praca = @v_numerpracy);\r\n",
                "\tOPEN cur3;\r\n",
                "    FETCH NEXT FROM cur3 INTO @v_wspolautor;\r\n",
                "\tWHILE @@FETCH_STATUS = 0\r\n",
                "    BEGIN\r\n",
                "\t    SET @v_wspolautorzy = Concat(@v_wspolautorzy,@v_wspolautor,';');\r\n",
                "        FETCH NEXT FROM cur3 INTO @v_wspolautor;\r\n",
                "\tEND;\r\n",
                "\tCLOSE cur3;\r\n",
                "    DEALLOCATE cur3;\r\n",
                "\tSET @v_slowa = '';\r\n",
                "    DECLARE cur4 CURSOR LOCAL FOR SELECT PraceSlowa.slowo FROM PraceSlowa WHERE PraceSlowa.id_praca = @v_numerpracy;\r\n",
                "\tOPEN cur4;\r\n",
                "    FETCH NEXT FROM cur4 INTO @v_slowo;\r\n",
                "\tWHILE @@FETCH_STATUS = 0\r\n",
                "    BEGIN\r\n",
                "\t\tSET @v_slowa = Concat(@v_slowa,@v_slowo,'; ');\r\n",
                "        FETCH NEXT FROM cur4 INTO @v_slowo;\r\n",
                "\tEND;\r\n",
                "\tCLOSE cur4;\r\n",
                "    DEALLOCATE cur4;\t\r\n",
                "    SELECT @v_rodzaj=Prace.grupaRodzaj, @v_ocenaPromotora=Prace.ocenaPromotora, @v_dataObrony=Prace.dataObrony, @v_tytul=Prace.tytul, @v_wydzial=Prace.wydzial FROM Prace WHERE Prace.id_praca = @v_numerpracy;\r\n",
                "\tINSERT INTO #ListaPrac(tytul,autorzy_i_ich_oceny,promotor,recenzenci_i_ich_oceny,ocena_promotora,data_obrony,wydzial,rodzaj_pracy,slowa_kluczowe) VALUES (\r\n",
                "\t\t@v_tytul,\r\n",
                "\t\t@v_wspolautorzy,\r\n",
                "\t\t@v_promotor,\r\n",
                "\t\t@v_recenzenci,\r\n",
                "\t\t@v_ocenaPromotora,\r\n",
                "\t\t@v_dataObrony,\r\n",
                "\t\t@v_wydzial,\r\n",
                "\t\t@v_rodzaj,\r\n",
                "\t\t@v_slowa\r\n",
                "\t);\t\r\n",
                "\tFETCH NEXT FROM cur1 INTO @v_numerpracy;\r\n",
                "END;\r\n",
                "CLOSE cur1;\r\n",
                "DEALLOCATE cur1;\r\n",
                "SELECT * FROM #ListaPrac;\r\n",
                "DROP TABLE #ListaPrac;\r\n",
                "END;\r\n",
                ""
            ],
            "metadata": {
                "azdata_cell_guid": "c3a79fc2-2cc5-4d83-b7a9-12811175e275",
                "tags": []
            },
            "outputs": [
                {
                    "output_type": "display_data",
                    "data": {
                        "text/html": "Commands completed successfully."
                    },
                    "metadata": {}
                },
                {
                    "output_type": "display_data",
                    "data": {
                        "text/html": "Total execution time: 00:00:00.058"
                    },
                    "metadata": {}
                }
            ],
            "execution_count": 33
        },
        {
            "cell_type": "code",
            "source": [
                "--procedura szukająca prac po rodzaju studiów\r\n",
                "CREATE PROCEDURE sp_SzukajPracePoRodzaju @p_rodzaj varchar(50)\r\n",
                "AS\r\n",
                "BEGIN\r\n",
                "DECLARE @v_numerpracy int;\r\n",
                "DECLARE @v_promotor varchar(80);\r\n",
                "DECLARE @v_szefobrony varchar(80);\r\n",
                "DECLARE @v_recenzent varchar(80);\r\n",
                "DECLARE @v_wspolautor varchar(80);\r\n",
                "DECLARE @v_slowo varchar(80);\r\n",
                "DECLARE @v_recenzenci varchar (300);\r\n",
                "DECLARE @v_wspolautorzy varchar(300);\r\n",
                "DECLARE @v_slowa varchar(300);\r\n",
                "DECLARE @v_rodzaj varchar (50);\r\n",
                "DECLARE @v_ocena decimal(2,1);\r\n",
                "DECLARE @v_ocenaPromotora decimal(2,1);\r\n",
                "DECLARE @v_dataObrony datetime;\r\n",
                "DECLARE @v_tytul varchar(100);\r\n",
                "DECLARE @v_wydzial varchar(100);\r\n",
                "DECLARE @wiadomosc varchar(100);\r\n",
                "\r\n",
                "DECLARE cur1 CURSOR LOCAL FOR SELECT id_praca FROM Prace WHERE grupaRodzaj = @p_rodzaj;\r\n",
                "\r\n",
                "DROP TABLE IF EXISTS #ListaPrac;\r\n",
                "CREATE TABLE #ListaPrac (\r\n",
                "\ttytul varchar (100),\r\n",
                "\tautorzy varchar(300),\r\n",
                "\tpromotor varchar(80),\r\n",
                "\trecenzenci_i_ich_oceny varchar(300),\r\n",
                "\tocena_promotora decimal(2,1),\r\n",
                "\tdata_obrony datetime,\r\n",
                "\twydzial varchar(100),\r\n",
                "\trodzaj_pracy varchar(50),\r\n",
                "\tslowa_kluczowe varchar(300)\r\n",
                ");\r\n",
                "\r\n",
                "SET @wiadomosc = 'Wyświetla prace określonego rodzaju';\r\n",
                "PRINT @wiadomosc;\r\n",
                "\r\n",
                "OPEN cur1;\r\n",
                "FETCH NEXT FROM cur1 INTO @v_numerpracy;\r\n",
                "WHILE @@FETCH_STATUS = 0\r\n",
                "BEGIN\r\n",
                "\tSELECT @v_promotor = Concat(Pracownicy.stopien,' ',Pracownicy.imie,' ',Pracownicy.nazwisko) FROM Pracownicy INNER JOIN Prace ON Prace.id_promotor = Pracownicy.id_pracownik WHERE Prace.id_praca = @v_numerpracy;\r\n",
                "\tSELECT @v_szefobrony = Concat(Pracownicy.stopien,' ',Pracownicy.imie,' ',Pracownicy.nazwisko) FROM Pracownicy INNER JOIN Prace ON Prace.id_szefObrony = Pracownicy.id_pracownik WHERE Prace.id_praca = @v_numerpracy;\r\n",
                "\tSET @v_recenzenci = '';\r\n",
                "\tDECLARE cur2 CURSOR LOCAL FOR SELECT Concat(Pracownicy.stopien,' ',Pracownicy.imie,' ',Pracownicy.nazwisko,', ocena: ',PraceRecenzenci.ocena) FROM PraceRecenzenci INNER JOIN Pracownicy ON PraceRecenzenci.id_recenzent = Pracownicy.id_pracownik WHERE PraceRecenzenci.id_praca = @v_numerpracy;\r\n",
                "    OPEN cur2;\r\n",
                "\tFETCH NEXT FROM cur2 INTO @v_recenzent;\r\n",
                "    WHILE @@FETCH_STATUS = 0\r\n",
                "    BEGIN\r\n",
                "\t\tSET @v_recenzenci = Concat(@v_recenzenci, @v_recenzent,';');\r\n",
                "        FETCH NEXT FROM cur2 INTO @v_recenzent;\r\n",
                "\tEND;\r\n",
                "\tCLOSE cur2;\r\n",
                "    DEALLOCATE cur2;\r\n",
                "\tSET @v_wspolautorzy = '';\r\n",
                "\tDECLARE cur3 CURSOR LOCAL FOR SELECT Concat(Studenci.imie,' ',Studenci.nazwisko) FROM StudenciPrace INNER JOIN Studenci ON StudenciPrace.id_student = Studenci.id_student WHERE StudenciPrace.id_praca = @v_numerpracy;\r\n",
                "    OPEN cur3;\r\n",
                "    FETCH NEXT FROM cur3 INTO @v_wspolautor;\r\n",
                "\tWHILE @@FETCH_STATUS = 0\r\n",
                "    BEGIN\r\n",
                "\t\tSET @v_wspolautorzy = Concat(@v_wspolautorzy,@v_wspolautor,';');\r\n",
                "        FETCH NEXT FROM cur3 INTO @v_wspolautor;\r\n",
                "\tEND;\r\n",
                "\tCLOSE cur3;\r\n",
                "    DEALLOCATE cur3;\t\r\n",
                "\tSET @v_slowa = '';\r\n",
                "\tDECLARE cur4 CURSOR LOCAL FOR SELECT PraceSlowa.slowo FROM PraceSlowa WHERE id_praca = @v_numerpracy;\r\n",
                "    OPEN cur4;\r\n",
                "    FETCH NEXT FROM cur4 INTO @v_slowo;\r\n",
                "\tWHILE @@FETCH_STATUS = 0\r\n",
                "    BEGIN\r\n",
                "\t\tSET @v_slowa = Concat(@v_slowa,@v_slowo,'; ');\r\n",
                "        FETCH NEXT FROM cur4 INTO @v_slowo;\r\n",
                "\tEND;\r\n",
                "\tCLOSE cur4;\r\n",
                "    DEALLOCATE cur4;\r\n",
                "\t\r\n",
                "\tSELECT @v_rodzaj=Prace.grupaRodzaj, @v_ocenaPromotora=Prace.ocenaPromotora, @V_dataObrony=Prace.dataObrony, @v_tytul=Prace.tytul, @v_wydzial=Prace.wydzial FROM Prace WHERE Prace.id_praca = @v_numerpracy;\r\n",
                "\tINSERT INTO #ListaPrac(tytul,autorzy,promotor,recenzenci_i_ich_oceny,ocena_promotora,data_obrony,wydzial,rodzaj_pracy,slowa_kluczowe) VALUES (\r\n",
                "\t\t@v_tytul,\r\n",
                "\t\t@v_wspolautorzy,\r\n",
                "\t\t@v_promotor,\r\n",
                "\t\t@v_recenzenci,\r\n",
                "\t\t@v_ocenaPromotora,\r\n",
                "\t\t@v_dataObrony,\r\n",
                "\t\t@v_wydzial,\r\n",
                "\t\t@v_rodzaj,\r\n",
                "\t\t@v_slowa\r\n",
                "\t);\t\r\n",
                "\tFETCH NEXT FROM cur1 INTO @v_numerpracy;\r\n",
                "END;\r\n",
                "CLOSE cur1;\r\n",
                "DEALLOCATE cur1;\r\n",
                "SELECT * FROM #ListaPrac;\r\n",
                "DROP TABLE #ListaPrac;\r\n",
                "END;"
            ],
            "metadata": {
                "azdata_cell_guid": "c70a866f-d493-4959-8cc5-666e465355f6",
                "tags": []
            },
            "outputs": [
                {
                    "output_type": "display_data",
                    "data": {
                        "text/html": "Commands completed successfully."
                    },
                    "metadata": {}
                },
                {
                    "output_type": "display_data",
                    "data": {
                        "text/html": "Total execution time: 00:00:00.052"
                    },
                    "metadata": {}
                }
            ],
            "execution_count": 34
        },
        {
            "cell_type": "code",
            "source": [
                "--INDEKSY:\n",
                "--Prawie wszystkie pożądane indeksy są dodane automatycznie przez DBMS jako clustered na kolumnach kluczy pierwotnych/\n",
                "--oraz jako non-clustered na kolumnach z unique constraint./\n",
                "--Jedyne potrzebne dodatkowe indeksy to indeksy typu non-clustered na polach po których odbywa się szukanie w procedurach i łączenie tabel\n",
                "--Dodawanie innych indeksów jedynie spowolni dodawanie, usuwanie i update danych.\n",
                "--celem przyspieszenia wyszukiwania\n",
                "CREATE NONCLUSTERED INDEX ind_Prace_idpromotor ON Prace(id_promotor);\n",
                "CREATE NONCLUSTERED INDEX ind_Prace_dataobrony ON Prace(dataObrony);\n",
                "CREATE NONCLUSTERED INDEX ind_Studia_kierunek ON Studia(kierunek);\n",
                "CREATE NONCLUSTERED INDEX ind_PraceRecenzenci_id_recenzent ON PraceRecenzenci(id_recenzent);\n",
                "CREATE NONCLUSTERED INDEX ind_PraceSlowa_slowo ON PraceSlowa(slowo);\n",
                "CREATE NONCLUSTERED INDEX ind_Pracownicy_nazwisko ON Pracownicy(nazwisko);\n",
                "CREATE NONCLUSTERED INDEX ind_Studenci_nazwisko ON Studenci(nazwisko);\n",
                "--celem przyspieszenia łączenia tabel w zapytaniach\n",
                "CREATE NONCLUSTERED INDEX ind_StudenciStudia_idstudent ON StudenciStudia(id_student);\n",
                "CREATE NONCLUSTERED INDEX ind_StudenciStudia_idstudia ON StudenciStudia(id_studia);\n",
                "CREATE NONCLUSTERED INDEX ind_StudenciPrace_idpraca ON StudenciPrace(id_praca);\n",
                "CREATE NONCLUSTERED INDEX ind_StudenciPrace_idstudentstudia ON StudenciPrace(id_student_studia);"
            ],
            "metadata": {
                "azdata_cell_guid": "bfcb1ad2-ee5c-4d97-be8a-829e02e2f37b"
            },
            "outputs": [
                {
                    "output_type": "display_data",
                    "data": {
                        "text/html": "Commands completed successfully."
                    },
                    "metadata": {}
                },
                {
                    "output_type": "display_data",
                    "data": {
                        "text/html": "Total execution time: 00:00:00.135"
                    },
                    "metadata": {}
                }
            ],
            "execution_count": 35
        },
        {
            "cell_type": "code",
            "source": [
                "--demonstracja szukania po rodzaju (nr 7 z harmonogramu przedmiotu, obecna w założeniach projektu, nieobecna w poleceniu E3)\r\n",
                "EXEC sp_SzukajPracePoRodzaju 'LICENCJACKIE';"
            ],
            "metadata": {
                "azdata_cell_guid": "0571b34a-0dc0-4659-89c5-ee57974bbf54",
                "tags": []
            },
            "outputs": [
                {
                    "output_type": "display_data",
                    "data": {
                        "text/html": "Wyswietla prace okreslonego rodzaju"
                    },
                    "metadata": {}
                },
                {
                    "output_type": "display_data",
                    "data": {
                        "text/html": "(1 row affected)"
                    },
                    "metadata": {}
                },
                {
                    "output_type": "display_data",
                    "data": {
                        "text/html": "(1 row affected)"
                    },
                    "metadata": {}
                },
                {
                    "output_type": "display_data",
                    "data": {
                        "text/html": "(1 row affected)"
                    },
                    "metadata": {}
                },
                {
                    "output_type": "display_data",
                    "data": {
                        "text/html": "(3 rows affected)"
                    },
                    "metadata": {}
                },
                {
                    "output_type": "display_data",
                    "data": {
                        "text/html": "Total execution time: 00:00:03.813"
                    },
                    "metadata": {}
                },
                {
                    "output_type": "execute_result",
                    "metadata": {},
                    "execution_count": 36,
                    "data": {
                        "application/vnd.dataresource+json": {
                            "schema": {
                                "fields": [
                                    {
                                        "name": "tytul"
                                    },
                                    {
                                        "name": "autorzy"
                                    },
                                    {
                                        "name": "promotor"
                                    },
                                    {
                                        "name": "recenzenci_i_ich_oceny"
                                    },
                                    {
                                        "name": "ocena_promotora"
                                    },
                                    {
                                        "name": "data_obrony"
                                    },
                                    {
                                        "name": "wydzial"
                                    },
                                    {
                                        "name": "rodzaj_pracy"
                                    },
                                    {
                                        "name": "slowa_kluczowe"
                                    }
                                ]
                            },
                            "data": [
                                {
                                    "0": "Opieka nad pacjentami z choroba Crohna",
                                    "1": "Eleonora Elektryfikujaca;Franciszek Ferdynancki;Grzegorz Gorycki;",
                                    "2": "DR Zygfryd Zebrzanski",
                                    "3": "PROF Rakoczy Rondecki, ocena: 4.0;DR HAB Paulina Penderecka, ocena: 3.0;",
                                    "4": "3,0",
                                    "5": "2021-03-12 00:00:00.000",
                                    "6": "NAUK O ZDROWIU",
                                    "7": "LICENCJACKIE",
                                    "8": "NITROZAMINY; PRACA DYPLOMOWA; "
                                },
                                {
                                    "0": "Sily odsrodkowe w autobusach",
                                    "1": "Czeslawa Cymbalinska;",
                                    "2": "DR HAB Paulina Penderecka",
                                    "3": "PROF Rakoczy Rondecki, ocena: 5.0;MGR Tadeusz Tokarski, ocena: 4.5;INZ Ola Oskarska, ocena: 3.5;",
                                    "4": "5,0",
                                    "5": "2021-06-21 00:00:00.000",
                                    "6": "FIZYKI",
                                    "7": "LICENCJACKIE",
                                    "8": "NOSOROZCE NA SAWANNIE; PRACA DYPLOMOWA; "
                                },
                                {
                                    "0": "Inflacja w krajach Europy Srodkowo-Wschodniej",
                                    "1": "Dionizy Doglebny;",
                                    "2": "DR INZ Marek Moczydlowski",
                                    "3": "PROF Rakoczy Rondecki, ocena: 3.5;",
                                    "4": "4,5",
                                    "5": "2018-12-21 00:00:00.000",
                                    "6": "EKONOMII I ADMINISTRACJI",
                                    "7": "LICENCJACKIE",
                                    "8": "NOSOROZCE NA SAWANNIE; POTENCJAL BLONOWY; PRACA DYPLOMOWA; "
                                }
                            ]
                        },
                        "text/html": [
                            "<table>",
                            "<tr><th>tytul</th><th>autorzy</th><th>promotor</th><th>recenzenci_i_ich_oceny</th><th>ocena_promotora</th><th>data_obrony</th><th>wydzial</th><th>rodzaj_pracy</th><th>slowa_kluczowe</th></tr>",
                            "<tr><td>Opieka nad pacjentami z choroba Crohna</td><td>Eleonora Elektryfikujaca;Franciszek Ferdynancki;Grzegorz Gorycki;</td><td>DR Zygfryd Zebrzanski</td><td>PROF Rakoczy Rondecki, ocena: 4.0;DR HAB Paulina Penderecka, ocena: 3.0;</td><td>3,0</td><td>2021-03-12 00:00:00.000</td><td>NAUK O ZDROWIU</td><td>LICENCJACKIE</td><td>NITROZAMINY; PRACA DYPLOMOWA; </td></tr>",
                            "<tr><td>Sily odsrodkowe w autobusach</td><td>Czeslawa Cymbalinska;</td><td>DR HAB Paulina Penderecka</td><td>PROF Rakoczy Rondecki, ocena: 5.0;MGR Tadeusz Tokarski, ocena: 4.5;INZ Ola Oskarska, ocena: 3.5;</td><td>5,0</td><td>2021-06-21 00:00:00.000</td><td>FIZYKI</td><td>LICENCJACKIE</td><td>NOSOROZCE NA SAWANNIE; PRACA DYPLOMOWA; </td></tr>",
                            "<tr><td>Inflacja w krajach Europy Srodkowo-Wschodniej</td><td>Dionizy Doglebny;</td><td>DR INZ Marek Moczydlowski</td><td>PROF Rakoczy Rondecki, ocena: 3.5;</td><td>4,5</td><td>2018-12-21 00:00:00.000</td><td>EKONOMII I ADMINISTRACJI</td><td>LICENCJACKIE</td><td>NOSOROZCE NA SAWANNIE; POTENCJAL BLONOWY; PRACA DYPLOMOWA; </td></tr>",
                            "</table>"
                        ]
                    }
                }
            ],
            "execution_count": 36
        },
        {
            "cell_type": "code",
            "source": [
                "--demonstracja szukania po dacie (nieobecna w harmonogramie przedmiotu, obecna w założeniach projektu, nieobecna w poleceniu E3)\r\n",
                "EXEC sp_SzukajPracePoDacie 0,6,0;"
            ],
            "metadata": {
                "azdata_cell_guid": "a14400c6-639e-4fa6-b025-e2c99aeb57eb",
                "tags": []
            },
            "outputs": [
                {
                    "output_type": "display_data",
                    "data": {
                        "text/html": "Wyswietla prace obronione w konkretnych datach"
                    },
                    "metadata": {}
                },
                {
                    "output_type": "display_data",
                    "data": {
                        "text/html": "(1 row affected)"
                    },
                    "metadata": {}
                },
                {
                    "output_type": "display_data",
                    "data": {
                        "text/html": "(1 row affected)"
                    },
                    "metadata": {}
                },
                {
                    "output_type": "display_data",
                    "data": {
                        "text/html": "(2 rows affected)"
                    },
                    "metadata": {}
                },
                {
                    "output_type": "display_data",
                    "data": {
                        "text/html": "Total execution time: 00:00:00.320"
                    },
                    "metadata": {}
                },
                {
                    "output_type": "execute_result",
                    "metadata": {},
                    "execution_count": 37,
                    "data": {
                        "application/vnd.dataresource+json": {
                            "schema": {
                                "fields": [
                                    {
                                        "name": "tytul"
                                    },
                                    {
                                        "name": "autorzy_i_ich_oceny"
                                    },
                                    {
                                        "name": "promotor"
                                    },
                                    {
                                        "name": "recenzenci_i_ich_oceny"
                                    },
                                    {
                                        "name": "ocena_promotora"
                                    },
                                    {
                                        "name": "data_obrony"
                                    },
                                    {
                                        "name": "wydzial"
                                    },
                                    {
                                        "name": "rodzaj_pracy"
                                    },
                                    {
                                        "name": "slowa_kluczowe"
                                    }
                                ]
                            },
                            "data": [
                                {
                                    "0": "Kwantowa teoria pola w czarnych dziurach",
                                    "1": "Henryk Heniawski 3.5;Franciszek Frankowski 3.5;",
                                    "2": "PROF Rakoczy Rondecki",
                                    "3": "DR HAB Paulina Penderecka, ocena: 5.0;",
                                    "4": "4,0",
                                    "5": "2019-06-11 00:00:00.000",
                                    "6": "FIZYKI",
                                    "7": "DOKTORANCKIE",
                                    "8": "NEUROLEPTYKI; PRACA DYPLOMOWA; "
                                },
                                {
                                    "0": "Sily odsrodkowe w autobusach",
                                    "1": "Czeslawa Cymbalinska 3.5;",
                                    "2": "DR HAB Paulina Penderecka",
                                    "3": "PROF Rakoczy Rondecki, ocena: 5.0;MGR Tadeusz Tokarski, ocena: 4.5;INZ Ola Oskarska, ocena: 3.5;",
                                    "4": "5,0",
                                    "5": "2021-06-21 00:00:00.000",
                                    "6": "FIZYKI",
                                    "7": "LICENCJACKIE",
                                    "8": "NOSOROZCE NA SAWANNIE; PRACA DYPLOMOWA; "
                                }
                            ]
                        },
                        "text/html": [
                            "<table>",
                            "<tr><th>tytul</th><th>autorzy_i_ich_oceny</th><th>promotor</th><th>recenzenci_i_ich_oceny</th><th>ocena_promotora</th><th>data_obrony</th><th>wydzial</th><th>rodzaj_pracy</th><th>slowa_kluczowe</th></tr>",
                            "<tr><td>Kwantowa teoria pola w czarnych dziurach</td><td>Henryk Heniawski 3.5;Franciszek Frankowski 3.5;</td><td>PROF Rakoczy Rondecki</td><td>DR HAB Paulina Penderecka, ocena: 5.0;</td><td>4,0</td><td>2019-06-11 00:00:00.000</td><td>FIZYKI</td><td>DOKTORANCKIE</td><td>NEUROLEPTYKI; PRACA DYPLOMOWA; </td></tr>",
                            "<tr><td>Sily odsrodkowe w autobusach</td><td>Czeslawa Cymbalinska 3.5;</td><td>DR HAB Paulina Penderecka</td><td>PROF Rakoczy Rondecki, ocena: 5.0;MGR Tadeusz Tokarski, ocena: 4.5;INZ Ola Oskarska, ocena: 3.5;</td><td>5,0</td><td>2021-06-21 00:00:00.000</td><td>FIZYKI</td><td>LICENCJACKIE</td><td>NOSOROZCE NA SAWANNIE; PRACA DYPLOMOWA; </td></tr>",
                            "</table>"
                        ]
                    }
                }
            ],
            "execution_count": 37
        },
        {
            "cell_type": "code",
            "source": [
                "--demonstracja szukania po recenzencie (nieobecna w harmonogramie przedmiotu, obecna w założeniach projektu, nieobecna w poleceniu E3)\r\n",
                "EXEC sp_SzukajPraceRecenzowane 0,'Tadeusz','';"
            ],
            "metadata": {
                "azdata_cell_guid": "843e8d0b-f3bb-4132-a47a-8ce7ac3bdbb5",
                "tags": []
            },
            "outputs": [
                {
                    "output_type": "display_data",
                    "data": {
                        "text/html": "Wyswietla prace recenzowane przez okreslonych pracowników uczelni"
                    },
                    "metadata": {}
                },
                {
                    "output_type": "display_data",
                    "data": {
                        "text/html": "(1 row affected)"
                    },
                    "metadata": {}
                },
                {
                    "output_type": "display_data",
                    "data": {
                        "text/html": "(1 row affected)"
                    },
                    "metadata": {}
                },
                {
                    "output_type": "display_data",
                    "data": {
                        "text/html": "(1 row affected)"
                    },
                    "metadata": {}
                },
                {
                    "output_type": "display_data",
                    "data": {
                        "text/html": "(3 rows affected)"
                    },
                    "metadata": {}
                },
                {
                    "output_type": "display_data",
                    "data": {
                        "text/html": "Total execution time: 00:00:00.411"
                    },
                    "metadata": {}
                },
                {
                    "output_type": "execute_result",
                    "metadata": {},
                    "execution_count": 38,
                    "data": {
                        "application/vnd.dataresource+json": {
                            "schema": {
                                "fields": [
                                    {
                                        "name": "tytul"
                                    },
                                    {
                                        "name": "autorzy_i_ich_oceny"
                                    },
                                    {
                                        "name": "promotor"
                                    },
                                    {
                                        "name": "recenzenci_i_ich_oceny"
                                    },
                                    {
                                        "name": "ocena_promotora"
                                    },
                                    {
                                        "name": "data_obrony"
                                    },
                                    {
                                        "name": "wydzial"
                                    },
                                    {
                                        "name": "rodzaj_pracy"
                                    },
                                    {
                                        "name": "slowa_kluczowe"
                                    }
                                ]
                            },
                            "data": [
                                {
                                    "0": "Sily odsrodkowe w autobusach",
                                    "1": "Czeslawa Cymbalinska 3.5;",
                                    "2": "DR HAB Paulina Penderecka",
                                    "3": "PROF Rakoczy Rondecki, ocena: 5.0;MGR Tadeusz Tokarski, ocena: 4.5;INZ Ola Oskarska, ocena: 3.5;",
                                    "4": "5,0",
                                    "5": "2021-06-21 00:00:00.000",
                                    "6": "FIZYKI",
                                    "7": "LICENCJACKIE",
                                    "8": "NOSOROZCE NA SAWANNIE; PRACA DYPLOMOWA; "
                                },
                                {
                                    "0": "Pomiary napiecia w procesorach x86",
                                    "1": "Bartosz Benedyktynski 3.5;",
                                    "2": "PROF Rakoczy Rondecki",
                                    "3": "MGR Tadeusz Tokarski, ocena: 4.5;",
                                    "4": "3,5",
                                    "5": "2020-01-10 00:00:00.000",
                                    "6": "ELEKTRYCZNY",
                                    "7": "INZYNIERSKIE",
                                    "8": "PRACA DYPLOMOWA; PRAD ELEKTRYCZNY; "
                                },
                                {
                                    "0": "Zastosowania kryptografii na stronach rzadowych",
                                    "1": "Anna Andrzejewska 5.0;",
                                    "2": "DR INZ Marek Moczydlowski",
                                    "3": "MGR Tadeusz Tokarski, ocena: 3.5;",
                                    "4": "3,0",
                                    "5": "2020-01-10 00:00:00.000",
                                    "6": "ELEKTRYCZNY",
                                    "7": "INZYNIERSKIE",
                                    "8": "PRACA DYPLOMOWA; PRAD ELEKTRYCZNY; "
                                }
                            ]
                        },
                        "text/html": [
                            "<table>",
                            "<tr><th>tytul</th><th>autorzy_i_ich_oceny</th><th>promotor</th><th>recenzenci_i_ich_oceny</th><th>ocena_promotora</th><th>data_obrony</th><th>wydzial</th><th>rodzaj_pracy</th><th>slowa_kluczowe</th></tr>",
                            "<tr><td>Sily odsrodkowe w autobusach</td><td>Czeslawa Cymbalinska 3.5;</td><td>DR HAB Paulina Penderecka</td><td>PROF Rakoczy Rondecki, ocena: 5.0;MGR Tadeusz Tokarski, ocena: 4.5;INZ Ola Oskarska, ocena: 3.5;</td><td>5,0</td><td>2021-06-21 00:00:00.000</td><td>FIZYKI</td><td>LICENCJACKIE</td><td>NOSOROZCE NA SAWANNIE; PRACA DYPLOMOWA; </td></tr>",
                            "<tr><td>Pomiary napiecia w procesorach x86</td><td>Bartosz Benedyktynski 3.5;</td><td>PROF Rakoczy Rondecki</td><td>MGR Tadeusz Tokarski, ocena: 4.5;</td><td>3,5</td><td>2020-01-10 00:00:00.000</td><td>ELEKTRYCZNY</td><td>INZYNIERSKIE</td><td>PRACA DYPLOMOWA; PRAD ELEKTRYCZNY; </td></tr>",
                            "<tr><td>Zastosowania kryptografii na stronach rzadowych</td><td>Anna Andrzejewska 5.0;</td><td>DR INZ Marek Moczydlowski</td><td>MGR Tadeusz Tokarski, ocena: 3.5;</td><td>3,0</td><td>2020-01-10 00:00:00.000</td><td>ELEKTRYCZNY</td><td>INZYNIERSKIE</td><td>PRACA DYPLOMOWA; PRAD ELEKTRYCZNY; </td></tr>",
                            "</table>"
                        ]
                    }
                }
            ],
            "execution_count": 38
        },
        {
            "cell_type": "code",
            "source": [
                "--demonstracja szukania po kierunku i roku (nieobecna w harmonogramie przedmiotu, nieobecna w założeniach projektu, obecna w poleceniu E3)\r\n",
                "EXEC sp_SzukajPracePoKierunkuLubRoku 'CHEMIA ORGANICZNA', 2018"
            ],
            "metadata": {
                "azdata_cell_guid": "458b75c8-0040-4511-a691-1cbeb6fb3b8a",
                "tags": []
            },
            "outputs": [
                {
                    "output_type": "display_data",
                    "data": {
                        "text/html": "Prace obronione na kierunku: CHEMIA ORGANICZNA lub w roku 2018"
                    },
                    "metadata": {}
                },
                {
                    "output_type": "display_data",
                    "data": {
                        "text/html": "(1 row affected)"
                    },
                    "metadata": {}
                },
                {
                    "output_type": "display_data",
                    "data": {
                        "text/html": "(1 row affected)"
                    },
                    "metadata": {}
                },
                {
                    "output_type": "display_data",
                    "data": {
                        "text/html": "(1 row affected)"
                    },
                    "metadata": {}
                },
                {
                    "output_type": "display_data",
                    "data": {
                        "text/html": "(3 rows affected)"
                    },
                    "metadata": {}
                },
                {
                    "output_type": "display_data",
                    "data": {
                        "text/html": "Total execution time: 00:00:00.077"
                    },
                    "metadata": {}
                },
                {
                    "output_type": "execute_result",
                    "metadata": {},
                    "execution_count": 39,
                    "data": {
                        "application/vnd.dataresource+json": {
                            "schema": {
                                "fields": [
                                    {
                                        "name": "tytul"
                                    },
                                    {
                                        "name": "autorzy"
                                    },
                                    {
                                        "name": "promotor"
                                    },
                                    {
                                        "name": "recenzenci_i_ich_oceny"
                                    },
                                    {
                                        "name": "ocena_promotora"
                                    },
                                    {
                                        "name": "data_obrony"
                                    },
                                    {
                                        "name": "wydzial"
                                    },
                                    {
                                        "name": "rodzaj_pracy"
                                    },
                                    {
                                        "name": "slowa_kluczowe"
                                    }
                                ]
                            },
                            "data": [
                                {
                                    "0": "Nitrozaminy w komórkach ludzkich",
                                    "1": "Bartosz Benedyktynski;",
                                    "2": "PROF Rakoczy Rondecki",
                                    "3": "DR Zygfryd Zebrzanski, ocena: 5.0;",
                                    "4": "3,0",
                                    "5": "2020-03-12 00:00:00.000",
                                    "6": "CHEMII",
                                    "7": "MAGISTERSKIE",
                                    "8": "KONSTRUKCJE ZELBETOWE; NITROZAMINY; PRACA DYPLOMOWA; "
                                },
                                {
                                    "0": "Inflacja w krajach Europy Srodkowo-Wschodniej",
                                    "1": "Dionizy Doglebny;",
                                    "2": "DR INZ Marek Moczydlowski",
                                    "3": "PROF Rakoczy Rondecki, ocena: 3.5;",
                                    "4": "4,5",
                                    "5": "2018-12-21 00:00:00.000",
                                    "6": "EKONOMII I ADMINISTRACJI",
                                    "7": "LICENCJACKIE",
                                    "8": "NOSOROZCE NA SAWANNIE; POTENCJAL BLONOWY; PRACA DYPLOMOWA; "
                                },
                                {
                                    "0": "Elektrochemia kardiomiocytów",
                                    "1": "Ilona Ilanicka;",
                                    "2": "PROF Marek Moczydlowski",
                                    "3": "LIC Sonia Szarecka, ocena: 3.5;DR INZ Marek Moczydlowski, ocena: 4.5;",
                                    "4": "5,0",
                                    "5": "2020-02-12 00:00:00.000",
                                    "6": "CHEMII",
                                    "7": "MAGISTERSKIE",
                                    "8": "PRACA DYPLOMOWA; PRAD ELEKTRYCZNY; "
                                }
                            ]
                        },
                        "text/html": [
                            "<table>",
                            "<tr><th>tytul</th><th>autorzy</th><th>promotor</th><th>recenzenci_i_ich_oceny</th><th>ocena_promotora</th><th>data_obrony</th><th>wydzial</th><th>rodzaj_pracy</th><th>slowa_kluczowe</th></tr>",
                            "<tr><td>Nitrozaminy w komórkach ludzkich</td><td>Bartosz Benedyktynski;</td><td>PROF Rakoczy Rondecki</td><td>DR Zygfryd Zebrzanski, ocena: 5.0;</td><td>3,0</td><td>2020-03-12 00:00:00.000</td><td>CHEMII</td><td>MAGISTERSKIE</td><td>KONSTRUKCJE ZELBETOWE; NITROZAMINY; PRACA DYPLOMOWA; </td></tr>",
                            "<tr><td>Inflacja w krajach Europy Srodkowo-Wschodniej</td><td>Dionizy Doglebny;</td><td>DR INZ Marek Moczydlowski</td><td>PROF Rakoczy Rondecki, ocena: 3.5;</td><td>4,5</td><td>2018-12-21 00:00:00.000</td><td>EKONOMII I ADMINISTRACJI</td><td>LICENCJACKIE</td><td>NOSOROZCE NA SAWANNIE; POTENCJAL BLONOWY; PRACA DYPLOMOWA; </td></tr>",
                            "<tr><td>Elektrochemia kardiomiocytów</td><td>Ilona Ilanicka;</td><td>PROF Marek Moczydlowski</td><td>LIC Sonia Szarecka, ocena: 3.5;DR INZ Marek Moczydlowski, ocena: 4.5;</td><td>5,0</td><td>2020-02-12 00:00:00.000</td><td>CHEMII</td><td>MAGISTERSKIE</td><td>PRACA DYPLOMOWA; PRAD ELEKTRYCZNY; </td></tr>",
                            "</table>"
                        ]
                    }
                }
            ],
            "execution_count": 39
        },
        {
            "cell_type": "code",
            "source": [
                "--demonstracja szukania po studencie (nieobecna w harmonogramie przedmiotu, nieobecna w założeniach projektu, obecna w poleceniu E3)\r\n",
                "EXEC sp_SzukajPracPoStudencie '138', '', '';"
            ],
            "metadata": {
                "azdata_cell_guid": "1f6bd10e-e70a-43d3-8865-1eb10fc59424",
                "tags": []
            },
            "outputs": [
                {
                    "output_type": "display_data",
                    "data": {
                        "text/html": "Wyswietla prace studenta Bartosz Benedyktynski"
                    },
                    "metadata": {}
                },
                {
                    "output_type": "display_data",
                    "data": {
                        "text/html": "(1 row affected)"
                    },
                    "metadata": {}
                },
                {
                    "output_type": "display_data",
                    "data": {
                        "text/html": "(1 row affected)"
                    },
                    "metadata": {}
                },
                {
                    "output_type": "display_data",
                    "data": {
                        "text/html": "(2 rows affected)"
                    },
                    "metadata": {}
                },
                {
                    "output_type": "display_data",
                    "data": {
                        "text/html": "Total execution time: 00:00:00.492"
                    },
                    "metadata": {}
                },
                {
                    "output_type": "execute_result",
                    "metadata": {},
                    "execution_count": 40,
                    "data": {
                        "application/vnd.dataresource+json": {
                            "schema": {
                                "fields": [
                                    {
                                        "name": "tytul"
                                    },
                                    {
                                        "name": "wspolautorzy"
                                    },
                                    {
                                        "name": "promotor"
                                    },
                                    {
                                        "name": "recenzenci_i_ich_oceny"
                                    },
                                    {
                                        "name": "ocena_promotora"
                                    },
                                    {
                                        "name": "ocena_koncowa"
                                    },
                                    {
                                        "name": "data_obrony"
                                    },
                                    {
                                        "name": "wydzial"
                                    },
                                    {
                                        "name": "rodzaj_pracy"
                                    },
                                    {
                                        "name": "slowa_kluczowe"
                                    }
                                ]
                            },
                            "data": [
                                {
                                    "0": "Nitrozaminy w komórkach ludzkich",
                                    "1": "BRAK",
                                    "2": "PROF Rakoczy Rondecki",
                                    "3": "DR Zygfryd Zebrzanski, ocena: 5.0;",
                                    "4": "3,0",
                                    "5": "4,0",
                                    "6": "2020-03-12 00:00:00.000",
                                    "7": "CHEMII",
                                    "8": "MAGISTERSKIE",
                                    "9": "KONSTRUKCJE ZELBETOWE; NITROZAMINY; PRACA DYPLOMOWA; "
                                },
                                {
                                    "0": "Pomiary napiecia w procesorach x86",
                                    "1": "BRAK",
                                    "2": "PROF Rakoczy Rondecki",
                                    "3": "MGR Tadeusz Tokarski, ocena: 4.5;",
                                    "4": "3,5",
                                    "5": "3,5",
                                    "6": "2020-01-10 00:00:00.000",
                                    "7": "ELEKTRYCZNY",
                                    "8": "INZYNIERSKIE",
                                    "9": "PRACA DYPLOMOWA; PRAD ELEKTRYCZNY; "
                                }
                            ]
                        },
                        "text/html": [
                            "<table>",
                            "<tr><th>tytul</th><th>wspolautorzy</th><th>promotor</th><th>recenzenci_i_ich_oceny</th><th>ocena_promotora</th><th>ocena_koncowa</th><th>data_obrony</th><th>wydzial</th><th>rodzaj_pracy</th><th>slowa_kluczowe</th></tr>",
                            "<tr><td>Nitrozaminy w komórkach ludzkich</td><td>BRAK</td><td>PROF Rakoczy Rondecki</td><td>DR Zygfryd Zebrzanski, ocena: 5.0;</td><td>3,0</td><td>4,0</td><td>2020-03-12 00:00:00.000</td><td>CHEMII</td><td>MAGISTERSKIE</td><td>KONSTRUKCJE ZELBETOWE; NITROZAMINY; PRACA DYPLOMOWA; </td></tr>",
                            "<tr><td>Pomiary napiecia w procesorach x86</td><td>BRAK</td><td>PROF Rakoczy Rondecki</td><td>MGR Tadeusz Tokarski, ocena: 4.5;</td><td>3,5</td><td>3,5</td><td>2020-01-10 00:00:00.000</td><td>ELEKTRYCZNY</td><td>INZYNIERSKIE</td><td>PRACA DYPLOMOWA; PRAD ELEKTRYCZNY; </td></tr>",
                            "</table>"
                        ]
                    }
                }
            ],
            "execution_count": 40
        },
        {
            "cell_type": "code",
            "source": [
                "--demonstracja szukania po promotorze (nr 13 z harmonogramu przedmiotu, obecna w założeniach projektu, obecna w poleceniu E3)\r\n",
                "EXEC sp_SzukajPracePoPromotorze 'Marek', 'Moczydłowski', 0;"
            ],
            "metadata": {
                "azdata_cell_guid": "7b9bae72-b2db-446a-940a-ab9ddd76fdc0",
                "tags": []
            },
            "outputs": [
                {
                    "output_type": "display_data",
                    "data": {
                        "text/html": "(1 row affected)"
                    },
                    "metadata": {}
                },
                {
                    "output_type": "display_data",
                    "data": {
                        "text/html": "(1 row affected)"
                    },
                    "metadata": {}
                },
                {
                    "output_type": "display_data",
                    "data": {
                        "text/html": "(1 row affected)"
                    },
                    "metadata": {}
                },
                {
                    "output_type": "display_data",
                    "data": {
                        "text/html": "(3 rows affected)"
                    },
                    "metadata": {}
                },
                {
                    "output_type": "display_data",
                    "data": {
                        "text/html": "Total execution time: 00:00:00.354"
                    },
                    "metadata": {}
                },
                {
                    "output_type": "execute_result",
                    "metadata": {},
                    "execution_count": 41,
                    "data": {
                        "application/vnd.dataresource+json": {
                            "schema": {
                                "fields": [
                                    {
                                        "name": "autorzy"
                                    },
                                    {
                                        "name": "tytul"
                                    },
                                    {
                                        "name": "promotor"
                                    },
                                    {
                                        "name": "ocenaPromotora"
                                    },
                                    {
                                        "name": "dataObrony"
                                    },
                                    {
                                        "name": "recenzenci_i_ich_oceny"
                                    },
                                    {
                                        "name": "wydzial"
                                    },
                                    {
                                        "name": "szefObrony"
                                    },
                                    {
                                        "name": "rodzaj"
                                    },
                                    {
                                        "name": "slowaKluczowe"
                                    }
                                ]
                            },
                            "data": [
                                {
                                    "0": "Dionizy Doglebny; ",
                                    "1": "Inflacja w krajach Europy Srodkowo-Wschodniej",
                                    "2": "DR INZ Marek Moczydlowski",
                                    "3": "4,5",
                                    "4": "2018-12-21 00:00:00.000",
                                    "5": "PROF Rakoczy Rondecki, ocena: 3.5;",
                                    "6": "EKONOMII I ADMINISTRACJI",
                                    "7": "DR HAB Paulina Penderecka",
                                    "8": "LICENCJACKIE",
                                    "9": "NOSOROZCE NA SAWANNIE; POTENCJAL BLONOWY; PRACA DYPLOMOWA; "
                                },
                                {
                                    "0": "Anna Andrzejewska; ",
                                    "1": "Zastosowania kryptografii na stronach rzadowych",
                                    "2": "DR INZ Marek Moczydlowski",
                                    "3": "3,0",
                                    "4": "2020-01-10 00:00:00.000",
                                    "5": "MGR Tadeusz Tokarski, ocena: 3.5;",
                                    "6": "ELEKTRYCZNY",
                                    "7": "PROF Rakoczy Rondecki",
                                    "8": "INZYNIERSKIE",
                                    "9": "PRACA DYPLOMOWA; PRAD ELEKTRYCZNY; "
                                },
                                {
                                    "0": "Ilona Ilanicka; ",
                                    "1": "Elektrochemia kardiomiocytów",
                                    "2": "PROF Marek Moczydlowski",
                                    "3": "5,0",
                                    "4": "2020-02-12 00:00:00.000",
                                    "5": "LIC Sonia Szarecka, ocena: 3.5;DR INZ Marek Moczydlowski, ocena: 4.5;",
                                    "6": "CHEMII",
                                    "7": "DR Zygfryd Zebrzanski",
                                    "8": "MAGISTERSKIE",
                                    "9": "PRACA DYPLOMOWA; PRAD ELEKTRYCZNY; "
                                }
                            ]
                        },
                        "text/html": [
                            "<table>",
                            "<tr><th>autorzy</th><th>tytul</th><th>promotor</th><th>ocenaPromotora</th><th>dataObrony</th><th>recenzenci_i_ich_oceny</th><th>wydzial</th><th>szefObrony</th><th>rodzaj</th><th>slowaKluczowe</th></tr>",
                            "<tr><td>Dionizy Doglebny; </td><td>Inflacja w krajach Europy Srodkowo-Wschodniej</td><td>DR INZ Marek Moczydlowski</td><td>4,5</td><td>2018-12-21 00:00:00.000</td><td>PROF Rakoczy Rondecki, ocena: 3.5;</td><td>EKONOMII I ADMINISTRACJI</td><td>DR HAB Paulina Penderecka</td><td>LICENCJACKIE</td><td>NOSOROZCE NA SAWANNIE; POTENCJAL BLONOWY; PRACA DYPLOMOWA; </td></tr>",
                            "<tr><td>Anna Andrzejewska; </td><td>Zastosowania kryptografii na stronach rzadowych</td><td>DR INZ Marek Moczydlowski</td><td>3,0</td><td>2020-01-10 00:00:00.000</td><td>MGR Tadeusz Tokarski, ocena: 3.5;</td><td>ELEKTRYCZNY</td><td>PROF Rakoczy Rondecki</td><td>INZYNIERSKIE</td><td>PRACA DYPLOMOWA; PRAD ELEKTRYCZNY; </td></tr>",
                            "<tr><td>Ilona Ilanicka; </td><td>Elektrochemia kardiomiocytów</td><td>PROF Marek Moczydlowski</td><td>5,0</td><td>2020-02-12 00:00:00.000</td><td>LIC Sonia Szarecka, ocena: 3.5;DR INZ Marek Moczydlowski, ocena: 4.5;</td><td>CHEMII</td><td>DR Zygfryd Zebrzanski</td><td>MAGISTERSKIE</td><td>PRACA DYPLOMOWA; PRAD ELEKTRYCZNY; </td></tr>",
                            "</table>"
                        ]
                    }
                }
            ],
            "execution_count": 41
        },
        {
            "cell_type": "code",
            "source": [
                "--demonstracja szukania po tematyce (nr 8 z harmonogramu przedmiotu, obecna w założeniach projektu, obecna w poleceniu E3)\r\n",
                "EXEC sp_SzukajPracePoTematyce 'NITROZAMINY', 'NOSOROŻCE NA SAWANNIE';"
            ],
            "metadata": {
                "azdata_cell_guid": "880656a0-1472-4139-a084-d5832f9ee831",
                "tags": []
            },
            "outputs": [
                {
                    "output_type": "display_data",
                    "data": {
                        "text/html": "(1 row affected)"
                    },
                    "metadata": {}
                },
                {
                    "output_type": "display_data",
                    "data": {
                        "text/html": "(1 row affected)"
                    },
                    "metadata": {}
                },
                {
                    "output_type": "display_data",
                    "data": {
                        "text/html": "(1 row affected)"
                    },
                    "metadata": {}
                },
                {
                    "output_type": "display_data",
                    "data": {
                        "text/html": "(1 row affected)"
                    },
                    "metadata": {}
                },
                {
                    "output_type": "display_data",
                    "data": {
                        "text/html": "(4 rows affected)"
                    },
                    "metadata": {}
                },
                {
                    "output_type": "display_data",
                    "data": {
                        "text/html": "Total execution time: 00:00:00.079"
                    },
                    "metadata": {}
                },
                {
                    "output_type": "execute_result",
                    "metadata": {},
                    "execution_count": 42,
                    "data": {
                        "application/vnd.dataresource+json": {
                            "schema": {
                                "fields": [
                                    {
                                        "name": "autorzy"
                                    },
                                    {
                                        "name": "tytul"
                                    },
                                    {
                                        "name": "promotor"
                                    },
                                    {
                                        "name": "dataObrony"
                                    },
                                    {
                                        "name": "wydzial"
                                    },
                                    {
                                        "name": "szefObrony"
                                    },
                                    {
                                        "name": "rodzaj"
                                    }
                                ]
                            },
                            "data": [
                                {
                                    "0": "Bartosz Benedyktynski; ",
                                    "1": "Nitrozaminy w komórkach ludzkich",
                                    "2": "PROF Rakoczy Rondecki",
                                    "3": "2020-03-12 00:00:00.000",
                                    "4": "CHEMII",
                                    "5": "DR INZ Marek Moczydlowski",
                                    "6": "MAGISTERSKIE"
                                },
                                {
                                    "0": "Eleonora Elektryfikujaca; Franciszek Ferdynancki; Grzegorz Gorycki; ",
                                    "1": "Opieka nad pacjentami z choroba Crohna",
                                    "2": "DR Zygfryd Zebrzanski",
                                    "3": "2021-03-12 00:00:00.000",
                                    "4": "NAUK O ZDROWIU",
                                    "5": "INZ Ola Oskarska",
                                    "6": "LICENCJACKIE"
                                },
                                {
                                    "0": "Czeslawa Cymbalinska; ",
                                    "1": "Sily odsrodkowe w autobusach",
                                    "2": "DR HAB Paulina Penderecka",
                                    "3": "2021-06-21 00:00:00.000",
                                    "4": "FIZYKI",
                                    "5": "MGR Tadeusz Tokarski",
                                    "6": "LICENCJACKIE"
                                },
                                {
                                    "0": "Dionizy Doglebny; ",
                                    "1": "Inflacja w krajach Europy Srodkowo-Wschodniej",
                                    "2": "DR INZ Marek Moczydlowski",
                                    "3": "2018-12-21 00:00:00.000",
                                    "4": "EKONOMII I ADMINISTRACJI",
                                    "5": "DR HAB Paulina Penderecka",
                                    "6": "LICENCJACKIE"
                                }
                            ]
                        },
                        "text/html": [
                            "<table>",
                            "<tr><th>autorzy</th><th>tytul</th><th>promotor</th><th>dataObrony</th><th>wydzial</th><th>szefObrony</th><th>rodzaj</th></tr>",
                            "<tr><td>Bartosz Benedyktynski; </td><td>Nitrozaminy w komórkach ludzkich</td><td>PROF Rakoczy Rondecki</td><td>2020-03-12 00:00:00.000</td><td>CHEMII</td><td>DR INZ Marek Moczydlowski</td><td>MAGISTERSKIE</td></tr>",
                            "<tr><td>Eleonora Elektryfikujaca; Franciszek Ferdynancki; Grzegorz Gorycki; </td><td>Opieka nad pacjentami z choroba Crohna</td><td>DR Zygfryd Zebrzanski</td><td>2021-03-12 00:00:00.000</td><td>NAUK O ZDROWIU</td><td>INZ Ola Oskarska</td><td>LICENCJACKIE</td></tr>",
                            "<tr><td>Czeslawa Cymbalinska; </td><td>Sily odsrodkowe w autobusach</td><td>DR HAB Paulina Penderecka</td><td>2021-06-21 00:00:00.000</td><td>FIZYKI</td><td>MGR Tadeusz Tokarski</td><td>LICENCJACKIE</td></tr>",
                            "<tr><td>Dionizy Doglebny; </td><td>Inflacja w krajach Europy Srodkowo-Wschodniej</td><td>DR INZ Marek Moczydlowski</td><td>2018-12-21 00:00:00.000</td><td>EKONOMII I ADMINISTRACJI</td><td>DR HAB Paulina Penderecka</td><td>LICENCJACKIE</td></tr>",
                            "</table>"
                        ]
                    }
                }
            ],
            "execution_count": 42
        },
        {
            "cell_type": "code",
            "source": [
                "--tworzenie widoków celem poprawy bezpieczeństwa w zakresie dostępu do danych\r\n",
                "--widok dla recenzenta na prace do recenzji/zrecenzowane\r\n",
                "CREATE VIEW vw_Recenzent_RecenzjePrac\r\n",
                "AS\r\n",
                "SELECT \r\n",
                "    Prace.id_praca, Prace.tytul, Prace.grupaRodzaj, Prace.wydzial, \r\n",
                "    PraceRecenzenci.id_recenzent, PraceRecenzenci.ocena\r\n",
                "FROM Prace \r\n",
                "INNER JOIN PraceRecenzenci ON Prace.id_praca = PraceRecenzenci.id_praca;\r\n",
                "GO\r\n",
                "--widok dla szefa obrony na studentów broniących się/którzy obronili swoją pracę\r\n",
                "CREATE VIEW vw_SzefObrony_ObronyPrac\r\n",
                "AS\r\n",
                "SELECT\r\n",
                "    Prace.id_praca, Prace.tytul, Prace.grupaRodzaj, Prace.wydzial, Prace.dataObrony, Prace.ocenaKoncowa,\r\n",
                "    StudenciPrace.id_student, StudenciPrace.ocena\r\n",
                "FROM Prace\r\n",
                "INNER JOIN StudenciPrace ON StudenciPrace.id_praca = Prace.id_praca;"
            ],
            "metadata": {
                "azdata_cell_guid": "acae9c8f-46ca-4924-893a-e524eb136fd8",
                "tags": []
            },
            "outputs": [
                {
                    "output_type": "display_data",
                    "data": {
                        "text/html": "Commands completed successfully."
                    },
                    "metadata": {}
                },
                {
                    "output_type": "display_data",
                    "data": {
                        "text/html": "Commands completed successfully."
                    },
                    "metadata": {}
                },
                {
                    "output_type": "display_data",
                    "data": {
                        "text/html": "Total execution time: 00:00:00.098"
                    },
                    "metadata": {}
                }
            ],
            "execution_count": 43
        },
        {
            "cell_type": "code",
            "source": [
                "--test powyższych widoków\r\n",
                "SELECT * FROM vw_Recenzent_RecenzjePrac;\r\n",
                "SELECT * FROM vw_SzefObrony_ObronyPrac;"
            ],
            "metadata": {
                "azdata_cell_guid": "df56194f-a969-4509-bec1-257688bde846",
                "tags": []
            },
            "outputs": [
                {
                    "output_type": "display_data",
                    "data": {
                        "text/html": "(12 rows affected)"
                    },
                    "metadata": {}
                },
                {
                    "output_type": "display_data",
                    "data": {
                        "text/html": "(11 rows affected)"
                    },
                    "metadata": {}
                },
                {
                    "output_type": "display_data",
                    "data": {
                        "text/html": "Total execution time: 00:00:00.052"
                    },
                    "metadata": {}
                },
                {
                    "output_type": "execute_result",
                    "metadata": {},
                    "execution_count": 44,
                    "data": {
                        "application/vnd.dataresource+json": {
                            "schema": {
                                "fields": [
                                    {
                                        "name": "id_praca"
                                    },
                                    {
                                        "name": "tytul"
                                    },
                                    {
                                        "name": "grupaRodzaj"
                                    },
                                    {
                                        "name": "wydzial"
                                    },
                                    {
                                        "name": "id_recenzent"
                                    },
                                    {
                                        "name": "ocena"
                                    }
                                ]
                            },
                            "data": [
                                {
                                    "0": "1",
                                    "1": "Nitrozaminy w komórkach ludzkich",
                                    "2": "MAGISTERSKIE",
                                    "3": "CHEMII",
                                    "4": "3",
                                    "5": "5,0"
                                },
                                {
                                    "0": "2",
                                    "1": "Opieka nad pacjentami z choroba Crohna",
                                    "2": "LICENCJACKIE",
                                    "3": "NAUK O ZDROWIU",
                                    "4": "2",
                                    "5": "4,0"
                                },
                                {
                                    "0": "2",
                                    "1": "Opieka nad pacjentami z choroba Crohna",
                                    "2": "LICENCJACKIE",
                                    "3": "NAUK O ZDROWIU",
                                    "4": "4",
                                    "5": "3,0"
                                },
                                {
                                    "0": "3",
                                    "1": "Kwantowa teoria pola w czarnych dziurach",
                                    "2": "DOKTORANCKIE",
                                    "3": "FIZYKI",
                                    "4": "4",
                                    "5": "5,0"
                                },
                                {
                                    "0": "4",
                                    "1": "Sily odsrodkowe w autobusach",
                                    "2": "LICENCJACKIE",
                                    "3": "FIZYKI",
                                    "4": "2",
                                    "5": "5,0"
                                },
                                {
                                    "0": "4",
                                    "1": "Sily odsrodkowe w autobusach",
                                    "2": "LICENCJACKIE",
                                    "3": "FIZYKI",
                                    "4": "5",
                                    "5": "4,5"
                                },
                                {
                                    "0": "4",
                                    "1": "Sily odsrodkowe w autobusach",
                                    "2": "LICENCJACKIE",
                                    "3": "FIZYKI",
                                    "4": "7",
                                    "5": "3,5"
                                },
                                {
                                    "0": "5",
                                    "1": "Inflacja w krajach Europy Srodkowo-Wschodniej",
                                    "2": "LICENCJACKIE",
                                    "3": "EKONOMII I ADMINISTRACJI",
                                    "4": "2",
                                    "5": "3,5"
                                },
                                {
                                    "0": "6",
                                    "1": "Pomiary napiecia w procesorach x86",
                                    "2": "INZYNIERSKIE",
                                    "3": "ELEKTRYCZNY",
                                    "4": "5",
                                    "5": "4,5"
                                },
                                {
                                    "0": "7",
                                    "1": "Zastosowania kryptografii na stronach rzadowych",
                                    "2": "INZYNIERSKIE",
                                    "3": "ELEKTRYCZNY",
                                    "4": "5",
                                    "5": "3,5"
                                },
                                {
                                    "0": "8",
                                    "1": "Elektrochemia kardiomiocytów",
                                    "2": "MAGISTERSKIE",
                                    "3": "CHEMII",
                                    "4": "6",
                                    "5": "3,5"
                                },
                                {
                                    "0": "8",
                                    "1": "Elektrochemia kardiomiocytów",
                                    "2": "MAGISTERSKIE",
                                    "3": "CHEMII",
                                    "4": "8",
                                    "5": "4,5"
                                }
                            ]
                        },
                        "text/html": [
                            "<table>",
                            "<tr><th>id_praca</th><th>tytul</th><th>grupaRodzaj</th><th>wydzial</th><th>id_recenzent</th><th>ocena</th></tr>",
                            "<tr><td>1</td><td>Nitrozaminy w komórkach ludzkich</td><td>MAGISTERSKIE</td><td>CHEMII</td><td>3</td><td>5,0</td></tr>",
                            "<tr><td>2</td><td>Opieka nad pacjentami z choroba Crohna</td><td>LICENCJACKIE</td><td>NAUK O ZDROWIU</td><td>2</td><td>4,0</td></tr>",
                            "<tr><td>2</td><td>Opieka nad pacjentami z choroba Crohna</td><td>LICENCJACKIE</td><td>NAUK O ZDROWIU</td><td>4</td><td>3,0</td></tr>",
                            "<tr><td>3</td><td>Kwantowa teoria pola w czarnych dziurach</td><td>DOKTORANCKIE</td><td>FIZYKI</td><td>4</td><td>5,0</td></tr>",
                            "<tr><td>4</td><td>Sily odsrodkowe w autobusach</td><td>LICENCJACKIE</td><td>FIZYKI</td><td>2</td><td>5,0</td></tr>",
                            "<tr><td>4</td><td>Sily odsrodkowe w autobusach</td><td>LICENCJACKIE</td><td>FIZYKI</td><td>5</td><td>4,5</td></tr>",
                            "<tr><td>4</td><td>Sily odsrodkowe w autobusach</td><td>LICENCJACKIE</td><td>FIZYKI</td><td>7</td><td>3,5</td></tr>",
                            "<tr><td>5</td><td>Inflacja w krajach Europy Srodkowo-Wschodniej</td><td>LICENCJACKIE</td><td>EKONOMII I ADMINISTRACJI</td><td>2</td><td>3,5</td></tr>",
                            "<tr><td>6</td><td>Pomiary napiecia w procesorach x86</td><td>INZYNIERSKIE</td><td>ELEKTRYCZNY</td><td>5</td><td>4,5</td></tr>",
                            "<tr><td>7</td><td>Zastosowania kryptografii na stronach rzadowych</td><td>INZYNIERSKIE</td><td>ELEKTRYCZNY</td><td>5</td><td>3,5</td></tr>",
                            "<tr><td>8</td><td>Elektrochemia kardiomiocytów</td><td>MAGISTERSKIE</td><td>CHEMII</td><td>6</td><td>3,5</td></tr>",
                            "<tr><td>8</td><td>Elektrochemia kardiomiocytów</td><td>MAGISTERSKIE</td><td>CHEMII</td><td>8</td><td>4,5</td></tr>",
                            "</table>"
                        ]
                    }
                },
                {
                    "output_type": "execute_result",
                    "metadata": {},
                    "execution_count": 44,
                    "data": {
                        "application/vnd.dataresource+json": {
                            "schema": {
                                "fields": [
                                    {
                                        "name": "id_praca"
                                    },
                                    {
                                        "name": "tytul"
                                    },
                                    {
                                        "name": "grupaRodzaj"
                                    },
                                    {
                                        "name": "wydzial"
                                    },
                                    {
                                        "name": "dataObrony"
                                    },
                                    {
                                        "name": "ocenaKoncowa"
                                    },
                                    {
                                        "name": "id_student"
                                    },
                                    {
                                        "name": "ocena"
                                    }
                                ]
                            },
                            "data": [
                                {
                                    "0": "2",
                                    "1": "Opieka nad pacjentami z choroba Crohna",
                                    "2": "LICENCJACKIE",
                                    "3": "NAUK O ZDROWIU",
                                    "4": "2021-03-12 00:00:00.000",
                                    "5": "3,0",
                                    "6": "1123      ",
                                    "7": "3,5"
                                },
                                {
                                    "0": "3",
                                    "1": "Kwantowa teoria pola w czarnych dziurach",
                                    "2": "DOKTORANCKIE",
                                    "3": "FIZYKI",
                                    "4": "2019-06-11 00:00:00.000",
                                    "5": "3,0",
                                    "6": "11234     ",
                                    "7": "3,5"
                                },
                                {
                                    "0": "7",
                                    "1": "Zastosowania kryptografii na stronach rzadowych",
                                    "2": "INZYNIERSKIE",
                                    "3": "ELEKTRYCZNY",
                                    "4": "2020-01-10 00:00:00.000",
                                    "5": "3,0",
                                    "6": "135       ",
                                    "7": "5,0"
                                },
                                {
                                    "0": "1",
                                    "1": "Nitrozaminy w komórkach ludzkich",
                                    "2": "MAGISTERSKIE",
                                    "3": "CHEMII",
                                    "4": "2020-03-12 00:00:00.000",
                                    "5": "3,0",
                                    "6": "138       ",
                                    "7": "4,0"
                                },
                                {
                                    "0": "6",
                                    "1": "Pomiary napiecia w procesorach x86",
                                    "2": "INZYNIERSKIE",
                                    "3": "ELEKTRYCZNY",
                                    "4": "2020-01-10 00:00:00.000",
                                    "5": "3,0",
                                    "6": "138       ",
                                    "7": "3,5"
                                },
                                {
                                    "0": "3",
                                    "1": "Kwantowa teoria pola w czarnych dziurach",
                                    "2": "DOKTORANCKIE",
                                    "3": "FIZYKI",
                                    "4": "2019-06-11 00:00:00.000",
                                    "5": "3,0",
                                    "6": "1563      ",
                                    "7": "3,5"
                                },
                                {
                                    "0": "4",
                                    "1": "Sily odsrodkowe w autobusach",
                                    "2": "LICENCJACKIE",
                                    "3": "FIZYKI",
                                    "4": "2021-06-21 00:00:00.000",
                                    "5": "3,0",
                                    "6": "256       ",
                                    "7": "3,5"
                                },
                                {
                                    "0": "2",
                                    "1": "Opieka nad pacjentami z choroba Crohna",
                                    "2": "LICENCJACKIE",
                                    "3": "NAUK O ZDROWIU",
                                    "4": "2021-03-12 00:00:00.000",
                                    "5": "3,0",
                                    "6": "35672     ",
                                    "7": "3,5"
                                },
                                {
                                    "0": "5",
                                    "1": "Inflacja w krajach Europy Srodkowo-Wschodniej",
                                    "2": "LICENCJACKIE",
                                    "3": "EKONOMII I ADMINISTRACJI",
                                    "4": "2018-12-21 00:00:00.000",
                                    "5": "3,0",
                                    "6": "413       ",
                                    "7": "3,5"
                                },
                                {
                                    "0": "2",
                                    "1": "Opieka nad pacjentami z choroba Crohna",
                                    "2": "LICENCJACKIE",
                                    "3": "NAUK O ZDROWIU",
                                    "4": "2021-03-12 00:00:00.000",
                                    "5": "3,0",
                                    "6": "8747      ",
                                    "7": "4,5"
                                },
                                {
                                    "0": "8",
                                    "1": "Elektrochemia kardiomiocytów",
                                    "2": "MAGISTERSKIE",
                                    "3": "CHEMII",
                                    "4": "2020-02-12 00:00:00.000",
                                    "5": "3,0",
                                    "6": "987       ",
                                    "7": "4,0"
                                }
                            ]
                        },
                        "text/html": [
                            "<table>",
                            "<tr><th>id_praca</th><th>tytul</th><th>grupaRodzaj</th><th>wydzial</th><th>dataObrony</th><th>ocenaKoncowa</th><th>id_student</th><th>ocena</th></tr>",
                            "<tr><td>2</td><td>Opieka nad pacjentami z choroba Crohna</td><td>LICENCJACKIE</td><td>NAUK O ZDROWIU</td><td>2021-03-12 00:00:00.000</td><td>3,0</td><td>1123      </td><td>3,5</td></tr>",
                            "<tr><td>3</td><td>Kwantowa teoria pola w czarnych dziurach</td><td>DOKTORANCKIE</td><td>FIZYKI</td><td>2019-06-11 00:00:00.000</td><td>3,0</td><td>11234     </td><td>3,5</td></tr>",
                            "<tr><td>7</td><td>Zastosowania kryptografii na stronach rzadowych</td><td>INZYNIERSKIE</td><td>ELEKTRYCZNY</td><td>2020-01-10 00:00:00.000</td><td>3,0</td><td>135       </td><td>5,0</td></tr>",
                            "<tr><td>1</td><td>Nitrozaminy w komórkach ludzkich</td><td>MAGISTERSKIE</td><td>CHEMII</td><td>2020-03-12 00:00:00.000</td><td>3,0</td><td>138       </td><td>4,0</td></tr>",
                            "<tr><td>6</td><td>Pomiary napiecia w procesorach x86</td><td>INZYNIERSKIE</td><td>ELEKTRYCZNY</td><td>2020-01-10 00:00:00.000</td><td>3,0</td><td>138       </td><td>3,5</td></tr>",
                            "<tr><td>3</td><td>Kwantowa teoria pola w czarnych dziurach</td><td>DOKTORANCKIE</td><td>FIZYKI</td><td>2019-06-11 00:00:00.000</td><td>3,0</td><td>1563      </td><td>3,5</td></tr>",
                            "<tr><td>4</td><td>Sily odsrodkowe w autobusach</td><td>LICENCJACKIE</td><td>FIZYKI</td><td>2021-06-21 00:00:00.000</td><td>3,0</td><td>256       </td><td>3,5</td></tr>",
                            "<tr><td>2</td><td>Opieka nad pacjentami z choroba Crohna</td><td>LICENCJACKIE</td><td>NAUK O ZDROWIU</td><td>2021-03-12 00:00:00.000</td><td>3,0</td><td>35672     </td><td>3,5</td></tr>",
                            "<tr><td>5</td><td>Inflacja w krajach Europy Srodkowo-Wschodniej</td><td>LICENCJACKIE</td><td>EKONOMII I ADMINISTRACJI</td><td>2018-12-21 00:00:00.000</td><td>3,0</td><td>413       </td><td>3,5</td></tr>",
                            "<tr><td>2</td><td>Opieka nad pacjentami z choroba Crohna</td><td>LICENCJACKIE</td><td>NAUK O ZDROWIU</td><td>2021-03-12 00:00:00.000</td><td>3,0</td><td>8747      </td><td>4,5</td></tr>",
                            "<tr><td>8</td><td>Elektrochemia kardiomiocytów</td><td>MAGISTERSKIE</td><td>CHEMII</td><td>2020-02-12 00:00:00.000</td><td>3,0</td><td>987       </td><td>4,0</td></tr>",
                            "</table>"
                        ]
                    }
                }
            ],
            "execution_count": 44
        },
        {
            "cell_type": "code",
            "source": [
                "--procedura wstawiania pracy przez studenta\r\n",
                "CREATE PROCEDURE sp_DodawaniePracyPrzezStudenta @p_idstudent char(10), @p_idstudentstudia int, @p_tytul varchar(100), @p_liczbaRobotnikow tinyint, @p_wydzial varchar(100), @p_grupaRodzaj varchar(50)\r\n",
                "AS\r\n",
                "BEGIN\r\n",
                "DECLARE @v_idpraca int;\r\n",
                "DECLARE @v_ileJuzWpisal int;\r\n",
                "BEGIN TRY\r\n",
                "    BEGIN TRANSACTION WPROWADZANIEPRACY\r\n",
                "    --zabezpieczenie przed dodawaniem prac bez limitu przez złośliwego studenta (buffer overflow)\r\n",
                "    SELECT @v_ileJuzWpisal = COUNT(*) FROM StudenciPrace WHERE (id_student = @p_idstudent AND id_student_studia = @p_idstudentstudia)\r\n",
                "    IF @v_ileJuzWpisal > 4\r\n",
                "    BEGIN;\r\n",
                "        THROW 51000, 'Blad', 1\r\n",
                "        ROLLBACK TRANSACTION WPROWADZANIEPRACY\r\n",
                "    END\r\n",
                "    INSERT INTO Prace (tytul,liczbaRobotnikow,wydzial,grupaRodzaj) VALUES (\r\n",
                "        @p_tytul,\r\n",
                "        @p_liczbaRobotnikow,\r\n",
                "        @p_wydzial,\r\n",
                "        @p_grupaRodzaj\r\n",
                "    )\r\n",
                "    SELECT @v_idpraca = SCOPE_IDENTITY()\r\n",
                "    INSERT INTO StudenciPrace (id_student,id_praca,id_student_studia) VALUES (\r\n",
                "        @p_idstudent,\r\n",
                "        @v_idpraca,\r\n",
                "        @p_idstudentstudia\r\n",
                "    )\r\n",
                "    COMMIT TRANSACTION WPROWADZANIEPRACY\r\n",
                "    SELECT Concat('Twój numer pracy to: ',@v_idpraca,'. Przekaż go swoim współautorom aby mogli dodać się jako współautorzy')\r\n",
                "END TRY\r\n",
                "BEGIN CATCH\r\n",
                "    SELECT 'Wystapil blad dodawania pracy' AS 'BLAD'\r\n",
                "    ROLLBACK TRANSACTION WPROWADZANIEPRACY\r\n",
                "END CATCH;\r\n",
                "END"
            ],
            "metadata": {
                "azdata_cell_guid": "1c5995c0-4c2e-41e6-9c54-94975dedb433",
                "tags": []
            },
            "outputs": [
                {
                    "output_type": "display_data",
                    "data": {
                        "text/html": "Commands completed successfully."
                    },
                    "metadata": {}
                },
                {
                    "output_type": "display_data",
                    "data": {
                        "text/html": "Total execution time: 00:00:00.058"
                    },
                    "metadata": {}
                }
            ],
            "execution_count": 45
        },
        {
            "cell_type": "code",
            "source": [
                "--widok dla zarządzającego na prace z przydzielonymi i nieprzydzielonymi promotorami\r\n",
                "CREATE VIEW vw_Zarzadzajacy_PrzydzialPromotorowISzefow AS\r\n",
                "SELECT\r\n",
                "    Prace.id_praca, Prace.tytul, Prace.id_promotor, Prace.id_szefObrony, Prace.dataObrony,\r\n",
                "    StudenciPrace.id_student\r\n",
                "FROM Prace\r\n",
                "INNER JOIN StudenciPrace ON Prace.id_praca = StudenciPrace.id_praca;"
            ],
            "metadata": {
                "azdata_cell_guid": "8bf3e5da-922d-4ef1-b570-b76192b74bda",
                "tags": []
            },
            "outputs": [
                {
                    "output_type": "display_data",
                    "data": {
                        "text/html": "Commands completed successfully."
                    },
                    "metadata": {}
                },
                {
                    "output_type": "display_data",
                    "data": {
                        "text/html": "Total execution time: 00:00:00.051"
                    },
                    "metadata": {}
                }
            ],
            "execution_count": 46
        },
        {
            "cell_type": "code",
            "source": [
                "--procedura dodawania sie jako wspolautor\r\n",
                "CREATE PROCEDURE sp_DodawanieSieJakoWspolautor @p_idstudent char(10), @p_idstudentstudia int, @p_idpraca int \r\n",
                "AS\r\n",
                "BEGIN\r\n",
                "DECLARE @v_ileRobotnikow tinyint;\r\n",
                "DECLARE @v_ileJuzSieDodalo tinyint;\r\n",
                "BEGIN TRY\r\n",
                "    BEGIN TRANSACTION DODAJSIEJAKOWSPOLAUTOR\r\n",
                "    SELECT @v_ileJuzSieDodalo = COUNT(*) FROM StudenciPrace WHERE id_praca = @p_idpraca\r\n",
                "    SELECT @v_ileRobotnikow = liczbaRobotnikow FROM Prace WHERE id_praca = @p_idpraca\r\n",
                "    IF @v_ileRobotnikow <= @v_ileJuzSieDodalo\r\n",
                "    BEGIN;\r\n",
                "        THROW 51000, 'Blad', 1\r\n",
                "        ROLLBACK TRANSACTION DODAJSIEJAKOWSPOLAUTOR\r\n",
                "    END\r\n",
                "    INSERT INTO StudenciPrace (id_student,id_praca,id_student_studia) VALUES (\r\n",
                "        @p_idstudent,\r\n",
                "        @p_idpraca,\r\n",
                "        @p_idstudentstudia\r\n",
                "    )\r\n",
                "    COMMIT TRANSACTION DODAJSIEJAKOWSPOLAUTOR\r\n",
                "    SELECT 'Poprawnie dodano studenta jako wspolautora'\r\n",
                "END TRY\r\n",
                "BEGIN CATCH\r\n",
                "    SELECT 'Wystapil blad dodawania wspolautora'\r\n",
                "    ROLLBACK TRANSACTION DODAJSIEJAKOWSPOLAUTOR\r\n",
                "END CATCH;\r\n",
                "END"
            ],
            "metadata": {
                "azdata_cell_guid": "d655e18c-ebef-408a-b6b0-16d040a2853a",
                "tags": []
            },
            "outputs": [
                {
                    "output_type": "display_data",
                    "data": {
                        "text/html": "Commands completed successfully."
                    },
                    "metadata": {}
                },
                {
                    "output_type": "display_data",
                    "data": {
                        "text/html": "Total execution time: 00:00:00.048"
                    },
                    "metadata": {}
                }
            ],
            "execution_count": 47
        },
        {
            "cell_type": "code",
            "source": [
                "--procedura dodawania słów kluczowych\r\n",
                "CREATE PROCEDURE sp_DodawanieSlowKluczowych @p_idpraca int, @slowo varchar(100)\r\n",
                "AS\r\n",
                "BEGIN\r\n",
                "BEGIN TRY\r\n",
                "    BEGIN TRANSACTION DODAJSLOWO\r\n",
                "    INSERT INTO PraceSlowa VALUES (\r\n",
                "        @p_idpraca,\r\n",
                "        @slowo\r\n",
                "    )\r\n",
                "    COMMIT TRANSACTION DODAJSLOWO\r\n",
                "    SELECT 'Poprawnie dodano slowo kluczowe'\r\n",
                "END TRY\r\n",
                "BEGIN CATCH\r\n",
                "    SELECT 'Wystapil blad dodawania slowa kluczowego do pracy'\r\n",
                "    ROLLBACK TRANSACTION DODAJSLOWO\r\n",
                "END CATCH;\r\n",
                "END"
            ],
            "metadata": {
                "azdata_cell_guid": "433981c4-e152-4271-9c6d-bed2cc1eae69",
                "tags": []
            },
            "outputs": [
                {
                    "output_type": "display_data",
                    "data": {
                        "text/html": "Commands completed successfully."
                    },
                    "metadata": {}
                },
                {
                    "output_type": "display_data",
                    "data": {
                        "text/html": "Total execution time: 00:00:00.049"
                    },
                    "metadata": {}
                }
            ],
            "execution_count": 48
        },
        {
            "cell_type": "code",
            "source": [
                "--procedura przydzialu promotora przez zarządzającego\r\n",
                "CREATE PROCEDURE sp_PrzydzielaniePromotora @p_idpraca int, @p_idpromotor int\r\n",
                "AS \r\n",
                "BEGIN \r\n",
                "BEGIN TRY\r\n",
                "    BEGIN TRANSACTION PRZYDZIALPROMOTORA\r\n",
                "    UPDATE Prace SET id_promotor = @p_idpromotor WHERE id_praca = @p_idpraca\r\n",
                "    COMMIT TRANSACTION PRZYDZIALPROMOTORA\r\n",
                "    SELECT 'Poprawnie przydzielono promotora'\r\n",
                "END TRY\r\n",
                "BEGIN CATCH\r\n",
                "    SELECT 'Wystapił błąd przydzielania promotora'\r\n",
                "    ROLLBACK TRANSACTION PRZYDZIALPROMOTORA\r\n",
                "END CATCH;\r\n",
                "END"
            ],
            "metadata": {
                "azdata_cell_guid": "de0a6ee0-102a-4868-9b37-3241e051e13c",
                "tags": []
            },
            "outputs": [
                {
                    "output_type": "display_data",
                    "data": {
                        "text/html": "Commands completed successfully."
                    },
                    "metadata": {}
                },
                {
                    "output_type": "display_data",
                    "data": {
                        "text/html": "Total execution time: 00:00:00.050"
                    },
                    "metadata": {}
                }
            ],
            "execution_count": 49
        },
        {
            "cell_type": "code",
            "source": [
                "--procedura dodawania recenzenta przez promotora\r\n",
                "CREATE PROCEDURE sp_DodawanieRecenzentaDoPracy @p_idpraca int, @p_idrecenzent int \r\n",
                "AS \r\n",
                "BEGIN\r\n",
                "BEGIN TRY\r\n",
                "    BEGIN TRANSACTION DODAWANIERECENZENTA\r\n",
                "    INSERT INTO PraceRecenzenci (id_praca,id_recenzent) VALUES (\r\n",
                "        @p_idpraca,\r\n",
                "        @p_idrecenzent\r\n",
                "    )\r\n",
                "    COMMIT TRANSACTION DODAWANIERECENZENTA\r\n",
                "    SELECT 'Poprawnie dodano recenzenta do zrecenzowania niezrecenzowanej przez niego pracy'\r\n",
                "END TRY\r\n",
                "BEGIN CATCH\r\n",
                "    SELECT 'Wystapil blad dodawania recenzenta'\r\n",
                "    ROLLBACK TRANSACTION DODAWANIERECENZENTA\r\n",
                "END CATCH;\r\n",
                "END"
            ],
            "metadata": {
                "azdata_cell_guid": "8461952b-3b68-4aa2-aba3-3b17ba93480d",
                "tags": []
            },
            "outputs": [
                {
                    "output_type": "display_data",
                    "data": {
                        "text/html": "Commands completed successfully."
                    },
                    "metadata": {}
                },
                {
                    "output_type": "display_data",
                    "data": {
                        "text/html": "Total execution time: 00:00:00.051"
                    },
                    "metadata": {}
                }
            ],
            "execution_count": 50
        },
        {
            "cell_type": "code",
            "source": [
                "--procedura oceniania pracy przez recenzenta\r\n",
                "CREATE PROCEDURE sp_OcenianiePracyPrzezRecenzenta @p_idpraca int, @p_idrecenzent int, @p_ocena decimal(2,1) \r\n",
                "AS \r\n",
                "BEGIN\r\n",
                "BEGIN TRY\r\n",
                "    BEGIN TRANSACTION AAA\r\n",
                "    UPDATE PraceRecenzenci SET ocena = @p_ocena WHERE (id_praca = @p_idpraca AND id_recenzent = @p_idrecenzent)\r\n",
                "    COMMIT TRANSACTION AAA\r\n",
                "    SELECT 'Poprawnie dodano ocene'\r\n",
                "END TRY\r\n",
                "BEGIN CATCH\r\n",
                "    SELECT 'Wystapil blad dodawania oceny'\r\n",
                "    ROLLBACK TRANSACTION AAA\r\n",
                "END CATCH;\r\n",
                "END"
            ],
            "metadata": {
                "azdata_cell_guid": "f98cc9e4-99d0-4eb2-a88c-1e6928596a18",
                "tags": []
            },
            "outputs": [
                {
                    "output_type": "display_data",
                    "data": {
                        "text/html": "Commands completed successfully."
                    },
                    "metadata": {}
                },
                {
                    "output_type": "display_data",
                    "data": {
                        "text/html": "Total execution time: 00:00:00.047"
                    },
                    "metadata": {}
                }
            ],
            "execution_count": 51
        },
        {
            "cell_type": "code",
            "source": [
                "--procedura oceniania pracy przez promotor\r\n",
                "CREATE PROCEDURE sp_OcenianiePracyPrzezPromotora @p_idpraca int, @p_ocena decimal(2,1) \r\n",
                "AS \r\n",
                "BEGIN\r\n",
                "BEGIN TRY\r\n",
                "    BEGIN TRANSACTION AAA\r\n",
                "    UPDATE Prace SET ocenaPromotora = @p_ocena WHERE (id_praca = @p_idpraca)\r\n",
                "    COMMIT TRANSACTION AAA\r\n",
                "    SELECT 'Poprawnie dodano ocene'\r\n",
                "END TRY\r\n",
                "BEGIN CATCH\r\n",
                "    SELECT 'Wystapil blad dodawania oceny'\r\n",
                "    ROLLBACK TRANSACTION AAA\r\n",
                "END CATCH;\r\n",
                "END"
            ],
            "metadata": {
                "azdata_cell_guid": "117e05ff-a902-4b4e-9450-b016810f1e14",
                "tags": []
            },
            "outputs": [
                {
                    "output_type": "display_data",
                    "data": {
                        "text/html": "Commands completed successfully."
                    },
                    "metadata": {}
                },
                {
                    "output_type": "display_data",
                    "data": {
                        "text/html": "Total execution time: 00:00:00.047"
                    },
                    "metadata": {}
                }
            ],
            "execution_count": 52
        },
        {
            "cell_type": "code",
            "source": [
                "--procedura dodawania daty obrony i szefa obrony przez zarządzającego\r\n",
                "CREATE PROCEDURE sp_DodajDateISzefaObrony @p_data datetime, @p_idpraca int, @p_idszefobrony int\r\n",
                "AS \r\n",
                "BEGIN\r\n",
                "BEGIN TRY\r\n",
                "    BEGIN TRANSACTION AAA\r\n",
                "    UPDATE Prace SET dataObrony = @p_data WHERE (id_praca = @p_idpraca)\r\n",
                "    UPDATE Prace SET id_szefObrony = @p_idszefobrony WHERE (id_praca = @p_idpraca)\r\n",
                "    COMMIT TRANSACTION AAA\r\n",
                "    SELECT 'Poprawnie dodano date i szefa obrony'\r\n",
                "END TRY\r\n",
                "BEGIN CATCH\r\n",
                "    SELECT 'Wystapil blad dodawania daty i szefa obrony'\r\n",
                "    ROLLBACK TRANSACTION AAA\r\n",
                "END CATCH;\r\n",
                "END"
            ],
            "metadata": {
                "azdata_cell_guid": "947cfaa5-c852-46a6-aba0-266a10e6e7d2",
                "tags": []
            },
            "outputs": [
                {
                    "output_type": "display_data",
                    "data": {
                        "text/html": "Commands completed successfully."
                    },
                    "metadata": {}
                },
                {
                    "output_type": "display_data",
                    "data": {
                        "text/html": "Total execution time: 00:00:00.048"
                    },
                    "metadata": {}
                }
            ],
            "execution_count": 53
        },
        {
            "cell_type": "code",
            "source": [
                "--procedura oceniania studenta przez szefa obrony\r\n",
                "CREATE PROCEDURE sp_OcenianieStudenta @p_idpraca int, @p_idstudent char(10), @p_ocena decimal(2,1) \r\n",
                "AS \r\n",
                "BEGIN\r\n",
                "BEGIN TRY\r\n",
                "    BEGIN TRANSACTION AAA\r\n",
                "    UPDATE StudenciPrace SET ocena = @p_ocena WHERE (id_praca = @p_idpraca AND id_student = @p_idstudent)\r\n",
                "    COMMIT TRANSACTION AAA\r\n",
                "    SELECT 'Poprawnie dodano ocene'\r\n",
                "END TRY\r\n",
                "BEGIN CATCH\r\n",
                "    SELECT 'Wystapil blad dodawania oceny'\r\n",
                "    ROLLBACK TRANSACTION AAA\r\n",
                "END CATCH;\r\n",
                "END"
            ],
            "metadata": {
                "azdata_cell_guid": "31322e8d-7161-47d9-ae36-e4c3e88e1a1b",
                "tags": []
            },
            "outputs": [
                {
                    "output_type": "display_data",
                    "data": {
                        "text/html": "Commands completed successfully."
                    },
                    "metadata": {}
                },
                {
                    "output_type": "display_data",
                    "data": {
                        "text/html": "Total execution time: 00:00:00.048"
                    },
                    "metadata": {}
                }
            ],
            "execution_count": 54
        },
        {
            "cell_type": "code",
            "source": [
                "--procedura wprowadzająca ocenę końcową pracy przez zarządzającego\n",
                "CREATE PROCEDURE sp_WstawianieOcenyKoncowej @p_idpraca int, @p_ocena decimal(2,1) \n",
                "AS \n",
                "BEGIN\n",
                "BEGIN TRY\n",
                "    BEGIN TRANSACTION AAA\n",
                "    UPDATE Prace SET ocenaKoncowa = @p_ocena WHERE (id_praca = @p_idpraca)\n",
                "    COMMIT TRANSACTION AAA\n",
                "    SELECT 'Poprawnie dodano ocene'\n",
                "END TRY\n",
                "BEGIN CATCH\n",
                "    SELECT 'Wystapil blad dodawania oceny koncowej'\n",
                "    ROLLBACK TRANSACTION AAA\n",
                "END CATCH;\n",
                "END"
            ],
            "metadata": {
                "azdata_cell_guid": "90768c00-1822-4703-86bb-6e3caa5b8694"
            },
            "outputs": [
                {
                    "output_type": "display_data",
                    "data": {
                        "text/html": "Commands completed successfully."
                    },
                    "metadata": {}
                },
                {
                    "output_type": "display_data",
                    "data": {
                        "text/html": "Total execution time: 00:00:00.047"
                    },
                    "metadata": {}
                }
            ],
            "execution_count": 55
        },
        {
            "cell_type": "code",
            "source": [
                "--procedura dodajaca/updatujaca haslo przez pracownika\r\n",
                "CREATE PROCEDURE sp_DodawanieHaslaPracownik @p_idpracownik int, @p_hashhaslo varchar(256)\r\n",
                "AS \r\n",
                "BEGIN\r\n",
                "BEGIN TRY\r\n",
                "    BEGIN TRANSACTION AAA\r\n",
                "    UPDATE Pracownicy SET hash_haslo = @p_hashhaslo WHERE id_pracownik = @p_idpracownik\r\n",
                "    COMMIT TRANSACTION AAA\r\n",
                "    SELECT 'Poprawnie dodano haslo'\r\n",
                "END TRY\r\n",
                "BEGIN CATCH\r\n",
                "    SELECT 'Wystapil blad dodawania hasla'\r\n",
                "    ROLLBACK TRANSACTION AAA\r\n",
                "END CATCH;\r\n",
                "END"
            ],
            "metadata": {
                "azdata_cell_guid": "f18b2eb2-f018-4b4b-a654-589a2cbe7512",
                "tags": []
            },
            "outputs": [
                {
                    "output_type": "display_data",
                    "data": {
                        "text/html": "Commands completed successfully."
                    },
                    "metadata": {}
                },
                {
                    "output_type": "display_data",
                    "data": {
                        "text/html": "Total execution time: 00:00:00.049"
                    },
                    "metadata": {}
                }
            ],
            "execution_count": 56
        },
        {
            "cell_type": "code",
            "source": [
                "--procedura dodajaca/updatujaca haslo przez studenta\r\n",
                "CREATE PROCEDURE sp_DodawanieHaslaStudent @p_idstudent char(10), @p_hashhaslo varchar(256)\r\n",
                "AS \r\n",
                "BEGIN\r\n",
                "BEGIN TRY\r\n",
                "    BEGIN TRANSACTION AAA\r\n",
                "    UPDATE Studenci SET hash_haslo = @p_hashhaslo WHERE id_student = @p_idstudent\r\n",
                "    COMMIT TRANSACTION AAA\r\n",
                "    SELECT 'Poprawnie dodano haslo'\r\n",
                "END TRY\r\n",
                "BEGIN CATCH\r\n",
                "    SELECT 'Wystapil blad dodawania hasla'\r\n",
                "    ROLLBACK TRANSACTION AAA\r\n",
                "END CATCH;\r\n",
                "END"
            ],
            "metadata": {
                "azdata_cell_guid": "1dbf9418-d990-4d95-94dc-c3d7ce8df49c",
                "tags": []
            },
            "outputs": [
                {
                    "output_type": "display_data",
                    "data": {
                        "text/html": "Commands completed successfully."
                    },
                    "metadata": {}
                },
                {
                    "output_type": "display_data",
                    "data": {
                        "text/html": "Total execution time: 00:00:00.048"
                    },
                    "metadata": {}
                }
            ],
            "execution_count": 57
        },
        {
            "cell_type": "code",
            "source": [
                "--procedura konserwująca: usuwa prace bez promotora dodanego w ciągu 7 dni od dodania pracy\n",
                "CREATE PROCEDURE sp_Konserwacja \n",
                "AS \n",
                "BEGIN\n",
                "DECLARE @currDate datetime;\n",
                "DECLARE @v_dataDodania datetime;\n",
                "DECLARE @diff int;\n",
                "DECLARE @v_idpraca int;\n",
                "SET @currDate = GETDATE();\n",
                "BEGIN TRY\n",
                "    BEGIN TRANSACTION AAA\n",
                "    DECLARE cur CURSOR LOCAL FOR SELECT id_praca, dataDodania FROM Prace WHERE id_promotor = 1\n",
                "    OPEN cur\n",
                "    FETCH NEXT FROM cur INTO @v_idpraca, @v_dataDodania\n",
                "    WHILE @@FETCH_STATUS = 0\n",
                "    BEGIN\n",
                "    SELECT @diff = DATEDIFF(day, @v_dataDodania, @currDate)\n",
                "    IF @diff > 7\n",
                "    BEGIN\n",
                "        DELETE FROM StudenciPrace WHERE id_praca = @v_idpraca\n",
                "        DELETE FROM PraceSlowa WHERE id_praca = @v_idpraca\n",
                "        --na wszelki wypadek, choć jest to prawie niemożliwe\n",
                "        DELETE FROM PraceRecenzenci WHERE id_praca = @v_idpraca\n",
                "        --i ostatecznie\n",
                "        DELETE FROM Prace WHERE id_praca = @v_idpraca\n",
                "    END\n",
                "    FETCH  NEXT FROM cur INTO @v_idpraca, @v_dataDodania\n",
                "    END\n",
                "    CLOSE cur\n",
                "    DEALLOCATE cur\n",
                "    COMMIT TRANSACTION AAA\n",
                "    SELECT 'Poprawnie zakonserwowano'\n",
                "END TRY\n",
                "BEGIN CATCH\n",
                "    SELECT 'Wystapil blad usuwania prac bez promotora'\n",
                "    ROLLBACK TRANSACTION AAA\n",
                "END CATCH;\n",
                "END"
            ],
            "metadata": {
                "azdata_cell_guid": "ea99afb4-fd6e-44a2-b00e-6f62a2a73c4a"
            },
            "outputs": [
                {
                    "output_type": "display_data",
                    "data": {
                        "text/html": "Commands completed successfully."
                    },
                    "metadata": {}
                },
                {
                    "output_type": "display_data",
                    "data": {
                        "text/html": "Total execution time: 00:00:00.049"
                    },
                    "metadata": {}
                }
            ],
            "execution_count": 58
        },
        {
            "cell_type": "code",
            "source": [
                "EXEC sp_Konserwacja"
            ],
            "metadata": {
                "azdata_cell_guid": "7b46dcfa-6e3e-493b-9b04-acd2d632809b"
            },
            "outputs": [
                {
                    "output_type": "display_data",
                    "data": {
                        "text/html": "(1 row affected)"
                    },
                    "metadata": {}
                },
                {
                    "output_type": "display_data",
                    "data": {
                        "text/html": "Total execution time: 00:00:00.051"
                    },
                    "metadata": {}
                },
                {
                    "output_type": "execute_result",
                    "metadata": {},
                    "execution_count": 59,
                    "data": {
                        "application/vnd.dataresource+json": {
                            "schema": {
                                "fields": [
                                    {
                                        "name": "(No column name)"
                                    }
                                ]
                            },
                            "data": [
                                {
                                    "0": "Poprawnie zakonserwowano"
                                }
                            ]
                        },
                        "text/html": [
                            "<table>",
                            "<tr><th>(No column name)</th></tr>",
                            "<tr><td>Poprawnie zakonserwowano</td></tr>",
                            "</table>"
                        ]
                    }
                }
            ],
            "execution_count": 59
        },
        {
            "cell_type": "code",
            "source": [
                "--procedura dodająca studenta\n",
                "CREATE PROCEDURE sp_DodajStudenta @p_idstudent char(10), @p_imie varchar(20), @p_nazwisko varchar(20), @p_hashhaslo varchar(256)\n",
                "AS \n",
                "BEGIN\n",
                "BEGIN TRY\n",
                "    BEGIN TRANSACTION AAA\n",
                "    INSERT INTO Studenci VALUES (@p_idstudent, @p_imie, @p_nazwisko, @p_hashhaslo)\n",
                "    COMMIT TRANSACTION AAA\n",
                "    SELECT 'Poprawnie dodano studenta'\n",
                "END TRY\n",
                "BEGIN CATCH\n",
                "    SELECT 'Wystapil blad w dodawaniu studenta'\n",
                "    ROLLBACK TRANSACTION AAA\n",
                "END CATCH;\n",
                "END"
            ],
            "metadata": {
                "azdata_cell_guid": "5bf897f1-207c-4af5-a9c1-bd2e278f84bb"
            },
            "outputs": [
                {
                    "output_type": "display_data",
                    "data": {
                        "text/html": "Commands completed successfully."
                    },
                    "metadata": {}
                },
                {
                    "output_type": "display_data",
                    "data": {
                        "text/html": "Total execution time: 00:00:00.048"
                    },
                    "metadata": {}
                }
            ],
            "execution_count": 60
        },
        {
            "cell_type": "code",
            "source": [
                "--procedura dodająca studenta do studiow\n",
                "CREATE PROCEDURE sp_PrzypiszStudentaDoStudiow @p_idstudent char(10), @p_idstudia int\n",
                "AS \n",
                "BEGIN\n",
                "BEGIN TRY\n",
                "    BEGIN TRANSACTION AAA\n",
                "    INSERT INTO StudenciStudia (id_student, id_studia) VALUES (@p_idstudent, @p_idstudia)\n",
                "    COMMIT TRANSACTION AAA\n",
                "    SELECT 'Poprawnie dodano studenta do studiow'\n",
                "END TRY\n",
                "BEGIN CATCH\n",
                "    SELECT 'Wystapil blad w dodawaniu studenta do studiow'\n",
                "    ROLLBACK TRANSACTION AAA\n",
                "END CATCH;\n",
                "END"
            ],
            "metadata": {
                "azdata_cell_guid": "1727fb8e-8320-4339-802a-149ed267bdd9"
            },
            "outputs": [
                {
                    "output_type": "display_data",
                    "data": {
                        "text/html": "Commands completed successfully."
                    },
                    "metadata": {}
                },
                {
                    "output_type": "display_data",
                    "data": {
                        "text/html": "Total execution time: 00:00:00.051"
                    },
                    "metadata": {}
                }
            ],
            "execution_count": 61
        },
        {
            "cell_type": "code",
            "source": [
                "--procedura dodająca rodzaje\n",
                "CREATE PROCEDURE sp_DodajRodzaj @p_rodzaj varchar(50)\n",
                "AS \n",
                "BEGIN\n",
                "BEGIN TRY\n",
                "    BEGIN TRANSACTION AAA\n",
                "    INSERT INTO Rodzaje VALUES (@p_rodzaj)\n",
                "    COMMIT TRANSACTION AAA\n",
                "    SELECT 'Poprawnie dodano rodzaj studiow'\n",
                "END TRY\n",
                "BEGIN CATCH\n",
                "    SELECT 'Wystapil blad w dodawaniu rodzaju studiow'\n",
                "    ROLLBACK TRANSACTION AAA\n",
                "END CATCH;\n",
                "END"
            ],
            "metadata": {
                "azdata_cell_guid": "bcf90710-c355-4edc-9142-5fc1d59be7a2"
            },
            "outputs": [
                {
                    "output_type": "display_data",
                    "data": {
                        "text/html": "Commands completed successfully."
                    },
                    "metadata": {}
                },
                {
                    "output_type": "display_data",
                    "data": {
                        "text/html": "Total execution time: 00:00:00.043"
                    },
                    "metadata": {}
                }
            ],
            "execution_count": 62
        },
        {
            "cell_type": "code",
            "source": [
                "--procedura dodająca wydzialy\n",
                "CREATE PROCEDURE sp_DodajWydzial @p_wydzial varchar(100)\n",
                "AS \n",
                "BEGIN\n",
                "BEGIN TRY\n",
                "    BEGIN TRANSACTION AAA\n",
                "    INSERT INTO Wydzialy VALUES (@p_wydzial)\n",
                "    COMMIT TRANSACTION AAA\n",
                "    SELECT 'Poprawnie dodano wydzial'\n",
                "END TRY\n",
                "BEGIN CATCH\n",
                "    SELECT 'Wystapil blad w dodawaniu wydzialu'\n",
                "    ROLLBACK TRANSACTION AAA\n",
                "END CATCH;\n",
                "END"
            ],
            "metadata": {
                "azdata_cell_guid": "2b21c88b-7fd1-4fd0-8ba9-3aa203616c85"
            },
            "outputs": [
                {
                    "output_type": "display_data",
                    "data": {
                        "text/html": "Commands completed successfully."
                    },
                    "metadata": {}
                },
                {
                    "output_type": "display_data",
                    "data": {
                        "text/html": "Total execution time: 00:00:00.043"
                    },
                    "metadata": {}
                }
            ],
            "execution_count": 63
        },
        {
            "cell_type": "code",
            "source": [
                "--procedura dodająca studia (kierunki)\n",
                "CREATE PROCEDURE sp_DodajStudia @p_wydzial varchar(100), @p_kierunek varchar(100), @p_rodzaj varchar(50)\n",
                "AS \n",
                "BEGIN\n",
                "BEGIN TRY\n",
                "    BEGIN TRANSACTION AAA\n",
                "    INSERT INTO Studia (wydzial, kierunek, rodzaj) VALUES (@p_wydzial, @p_kierunek, @p_rodzaj)\n",
                "    COMMIT TRANSACTION AAA\n",
                "    SELECT 'Poprawnie dodano studia'\n",
                "END TRY\n",
                "BEGIN CATCH\n",
                "    SELECT 'Wystapil blad w dodawaniu studiow'\n",
                "    ROLLBACK TRANSACTION AAA\n",
                "END CATCH;\n",
                "END"
            ],
            "metadata": {
                "azdata_cell_guid": "796cf2a1-8e8b-452a-8288-6d836501b552"
            },
            "outputs": [
                {
                    "output_type": "display_data",
                    "data": {
                        "text/html": "Commands completed successfully."
                    },
                    "metadata": {}
                },
                {
                    "output_type": "display_data",
                    "data": {
                        "text/html": "Total execution time: 00:00:00.045"
                    },
                    "metadata": {}
                }
            ],
            "execution_count": 64
        },
        {
            "cell_type": "code",
            "source": [
                "--procedura dodająca slowa kluczowe\n",
                "CREATE PROCEDURE sp_DodajSlowo @p_slowo varchar(100)\n",
                "AS \n",
                "BEGIN\n",
                "BEGIN TRY\n",
                "    BEGIN TRANSACTION AAA\n",
                "    INSERT INTO Slowa VALUES (@p_slowo)\n",
                "    COMMIT TRANSACTION AAA\n",
                "    SELECT 'Poprawnie dodano slowo kluczowe'\n",
                "END TRY\n",
                "BEGIN CATCH\n",
                "    SELECT 'Wystapil blad w dodawaniu slowa kluczowego'\n",
                "    ROLLBACK TRANSACTION AAA\n",
                "END CATCH;\n",
                "END"
            ],
            "metadata": {
                "azdata_cell_guid": "e4428da9-4d3c-485f-aec4-c8ffee34c938"
            },
            "outputs": [
                {
                    "output_type": "display_data",
                    "data": {
                        "text/html": "Commands completed successfully."
                    },
                    "metadata": {}
                },
                {
                    "output_type": "display_data",
                    "data": {
                        "text/html": "Total execution time: 00:00:00.046"
                    },
                    "metadata": {}
                }
            ],
            "execution_count": 65
        },
        {
            "cell_type": "code",
            "source": [
                "--procedura dodająca stopnie\n",
                "CREATE PROCEDURE sp_DodajStopnie @p_stopien varchar(30)\n",
                "AS \n",
                "BEGIN\n",
                "BEGIN TRY\n",
                "    BEGIN TRANSACTION AAA\n",
                "    INSERT INTO Stopnie VALUES (@p_stopien)\n",
                "    COMMIT TRANSACTION AAA\n",
                "    SELECT 'Poprawnie dodano stopien'\n",
                "END TRY\n",
                "BEGIN CATCH\n",
                "    SELECT 'Wystapil blad w dodawaniu stopnia'\n",
                "    ROLLBACK TRANSACTION AAA\n",
                "END CATCH;\n",
                "END"
            ],
            "metadata": {
                "azdata_cell_guid": "bf9fcd33-feb3-4263-b311-04cffdc54a33"
            },
            "outputs": [
                {
                    "output_type": "display_data",
                    "data": {
                        "text/html": "Commands completed successfully."
                    },
                    "metadata": {}
                },
                {
                    "output_type": "display_data",
                    "data": {
                        "text/html": "Total execution time: 00:00:00.046"
                    },
                    "metadata": {}
                }
            ],
            "execution_count": 66
        },
        {
            "cell_type": "code",
            "source": [
                "--procedura dodająca pracownika\n",
                "CREATE PROCEDURE sp_DodajPracownika @p_imie varchar(20), @p_nazwisko varchar(20), @p_stopien varchar(30), @p_hashhaslo varchar(256)\n",
                "AS \n",
                "BEGIN\n",
                "BEGIN TRY\n",
                "    BEGIN TRANSACTION AAA\n",
                "    INSERT INTO Pracownicy (imie, nazwisko, stopien, hash_haslo) VALUES (@p_imie, @p_nazwisko, @p_stopien, @p_hashhaslo)\n",
                "    COMMIT TRANSACTION AAA\n",
                "    SELECT 'Poprawnie dodano pracownika'\n",
                "END TRY\n",
                "BEGIN CATCH\n",
                "    SELECT 'Wystapil blad w dodawaniu pracownika'\n",
                "    ROLLBACK TRANSACTION AAA\n",
                "END CATCH;\n",
                "END"
            ],
            "metadata": {
                "azdata_cell_guid": "823da473-04ca-4209-851e-d29fdd680eb8"
            },
            "outputs": [
                {
                    "output_type": "display_data",
                    "data": {
                        "text/html": "Commands completed successfully."
                    },
                    "metadata": {}
                },
                {
                    "output_type": "display_data",
                    "data": {
                        "text/html": "Total execution time: 00:00:00.051"
                    },
                    "metadata": {}
                }
            ],
            "execution_count": 67
        },
        {
            "cell_type": "code",
            "source": [
                "--tworzenie userów i nadawanie uprawnień. Hasła tylko dodane poglądowo./\r\n",
                "--UWAGA: tych loginów i haseł nie używają indywidualni ludzie, lecz są używane przez serwer pośredniczący (np. HTTPS) między/\r\n",
                "--właściwymi użytkownikami, a serwerem bazy danych.\r\n",
                "CREATE USER Administrator WITH PASSWORD = '!1zzzz2@';\r\n",
                "CREATE USER Student WITH PASSWORD = '!1yyyy2@';\r\n",
                "CREATE USER Promotor WITH PASSWORD = '!1xxxx2@';\r\n",
                "CREATE USER Recenzent WITH PASSWORD = '!1wwww2@';\r\n",
                "CREATE USER Podgladacz WITH PASSWORD = '!1vvvv2@';\r\n",
                "CREATE USER Historyk WITH PASSWORD = '!1uuuu2@';\r\n",
                "CREATE USER Zarzadzajacy WITH PASSWORD = '!1tttt2@';\r\n",
                "CREATE USER Szefobrony WITH PASSWORD = '!1ssss2@';\r\n",
                "CREATE USER Wprowadzaczsystemu WITH PASSWORD = '!1rrrr2@';\r\n",
                "CREATE USER Pracownik WITH PASSWORD = '!1pppp2@';\r\n",
                "CREATE USER Aktualizator WITH PASSWORD = '!1qqqq2@';\r\n",
                "\r\n",
                "GRANT SELECT, INSERT, UPDATE, DELETE TO Administrator;\r\n",
                "GRANT EXECUTE ON sp_PrzypiszStudentaDoStudiow TO Administrator;\r\n",
                "GRANT EXECUTE ON sp_DodajStudenta TO Administrator;\r\n",
                "GRANT EXECUTE ON sp_DodajRodzaj TO Administrator;\r\n",
                "GRANT EXECUTE ON sp_DodajWydzial TO Administrator;\r\n",
                "GRANT EXECUTE ON sp_DodajStudia TO Administrator;\r\n",
                "GRANT EXECUTE ON sp_DodajSlowo TO Administrator;\r\n",
                "GRANT EXECUTE ON sp_DodajStopnie TO Administrator;\r\n",
                "GRANT EXECUTE ON sp_DodajPracownika TO Administrator;\r\n",
                "GRANT EXECUTE ON sp_SzukajPracePoDacie TO Administrator;\r\n",
                "GRANT EXECUTE ON sp_SzukajPracePoKierunkuLubRoku TO Administrator;\r\n",
                "GRANT EXECUTE ON sp_SzukajPracePoPromotorze TO Administrator;\r\n",
                "GRANT EXECUTE ON sp_SzukajPracPoStudencie TO Administrator;\r\n",
                "GRANT EXECUTE ON sp_SzukajPraceRecenzowane TO Administrator;\r\n",
                "GRANT EXECUTE ON sp_SzukajPracePoTematyce TO Administrator;\r\n",
                "GRANT EXECUTE ON sp_SzukajPracePoRodzaju TO Administrator;\r\n",
                "GRANT EXECUTE ON sp_DodawaniePracyPrzezStudenta TO Administrator;\r\n",
                "GRANT EXECUTE ON sp_DodawanieSieJakoWspolautor TO Administrator;\r\n",
                "GRANT EXECUTE ON sp_DodawanieSlowKluczowych TO Administrator;\r\n",
                "GRANT EXECUTE ON sp_DodawanieRecenzentaDoPracy TO Administrator;\r\n",
                "GRANT EXECUTE ON sp_OcenianiePracyPrzezPromotora TO Administrator;\r\n",
                "GRANT EXECUTE ON sp_OcenianiePracyPrzezRecenzenta TO Administrator;\r\n",
                "GRANT EXECUTE ON sp_DodajDateISzefaObrony TO Administrator;\r\n",
                "GRANT EXECUTE ON sp_PrzydzielaniePromotora TO Administrator;\r\n",
                "GRANT EXECUTE ON sp_WstawianieOcenyKoncowej TO Administrator;\r\n",
                "GRANT EXECUTE ON sp_OcenianieStudenta TO Administrator;\r\n",
                "GRANT EXECUTE ON sp_DodawanieHaslaStudent TO Administrator;\r\n",
                "GRANT EXECUTE ON sp_DodawanieHaslaPracownik TO Administrator;\r\n",
                "GRANT EXECUTE ON sp_Konserwacja TO Administrator;\r\n",
                "\r\n",
                "GRANT EXECUTE ON sp_SzukajPracPoStudencie TO Student;\r\n",
                "GRANT EXECUTE ON sp_DodawaniePracyPrzezStudenta TO Student;\r\n",
                "GRANT EXECUTE ON sp_DodawanieSieJakoWspolautor TO Student;\r\n",
                "GRANT EXECUTE ON sp_DodawanieSlowKluczowych TO Student;\r\n",
                "GRANT SELECT ON Studenci TO Student;\r\n",
                "\r\n",
                "GRANT SELECT ON Pracownicy TO Pracownik;\r\n",
                "\r\n",
                "GRANT EXECUTE ON sp_SzukajPracePoPromotorze TO Promotor;\r\n",
                "GRANT EXECUTE ON sp_DodawanieRecenzentaDoPracy TO Promotor;\r\n",
                "GRANT EXECUTE ON sp_OcenianiePracyPrzezPromotora TO Promotor;\r\n",
                "\r\n",
                "GRANT SELECT ON vw_Recenzent_RecenzjePrac TO Recenzent;\r\n",
                "GRANT EXECUTE ON sp_OcenianiePracyPrzezRecenzenta TO Recenzent;\r\n",
                "\r\n",
                "GRANT SELECT ON vw_Zarzadzajacy_PrzydzialPromotorowISzefow TO Zarzadzajacy;\r\n",
                "GRANT EXECUTE ON sp_DodajDateISzefaObrony TO Zarzadzajacy;\r\n",
                "GRANT EXECUTE ON sp_PrzydzielaniePromotora TO Zarzadzajacy;\r\n",
                "GRANT EXECUTE ON sp_WstawianieOcenyKoncowej TO Zarzadzajacy;\r\n",
                "\r\n",
                "GRANT SELECT ON vw_SzefObrony_ObronyPrac TO Szefobrony;\r\n",
                "GRANT EXECUTE ON sp_OcenianieStudenta TO Szefobrony;\r\n",
                "\r\n",
                "GRANT EXECUTE ON sp_SzukajPracePoDacie TO Podgladacz;\r\n",
                "GRANT EXECUTE ON sp_SzukajPracePoKierunkuLubRoku TO Podgladacz;\r\n",
                "GRANT EXECUTE ON sp_SzukajPracePoPromotorze TO Podgladacz;\r\n",
                "GRANT EXECUTE ON sp_SzukajPracPoStudencie TO Podgladacz;\r\n",
                "GRANT EXECUTE ON sp_SzukajPraceRecenzowane TO Podgladacz;\r\n",
                "GRANT EXECUTE ON sp_SzukajPracePoTematyce TO Podgladacz;\r\n",
                "GRANT EXECUTE ON sp_SzukajPracePoRodzaju TO Podgladacz;\r\n",
                "GRANT SELECT TO Podgladacz;\r\n",
                "\r\n",
                "GRANT SELECT, INSERT, UPDATE TO Wprowadzaczsystemu;\r\n",
                "\r\n",
                "GRANT SELECT, INSERT TO Historyk;\r\n",
                "\r\n",
                "GRANT SELECT, INSERT, UPDATE TO Aktualizator;\r\n",
                "GRANT EXECUTE ON sp_PrzypiszStudentaDoStudiow TO Aktualizator;\r\n",
                "GRANT EXECUTE ON sp_DodajStudenta TO Aktualizator;\r\n",
                "GRANT EXECUTE ON sp_DodajRodzaj TO Aktualizator;\r\n",
                "GRANT EXECUTE ON sp_DodajWydzial TO Aktualizator;\r\n",
                "GRANT EXECUTE ON sp_DodajStudia TO Aktualizator;\r\n",
                "GRANT EXECUTE ON sp_DodajSlowo TO Aktualizator;\r\n",
                "GRANT EXECUTE ON sp_DodajStopnie TO Aktualizator;\r\n",
                "GRANT EXECUTE ON sp_DodajPracownika TO Aktualizator;\r\n",
                "\r\n",
                "GRANT EXECUTE ON sp_DodawanieHaslaStudent TO Student;\r\n",
                "GRANT EXECUTE ON sp_DodawanieHaslaPracownik TO Pracownik;\r\n",
                ""
            ],
            "metadata": {
                "azdata_cell_guid": "1b23df1d-672f-42a1-aa49-5fca9aeb7df4",
                "tags": []
            },
            "outputs": [
                {
                    "output_type": "display_data",
                    "data": {
                        "text/html": "Commands completed successfully."
                    },
                    "metadata": {}
                },
                {
                    "output_type": "display_data",
                    "data": {
                        "text/html": "Total execution time: 00:00:01.044"
                    },
                    "metadata": {}
                }
            ],
            "execution_count": 68
        },
        {
            "cell_type": "code",
            "source": [
                "--Realizacja innych zapytań z harmonogramu przedmiotu (zap. 7,8,13 zrealizowano powyżej)\r\n",
                "--Zapytanie 1\r\n",
                "SELECT id_student, imie, nazwisko FROM Studenci ORDER BY nazwisko;"
            ],
            "metadata": {
                "azdata_cell_guid": "be80ec32-b0ad-4365-a9e8-9ec310de3c80",
                "tags": []
            },
            "outputs": [
                {
                    "output_type": "display_data",
                    "data": {
                        "text/html": "(23 rows affected)"
                    },
                    "metadata": {}
                },
                {
                    "output_type": "display_data",
                    "data": {
                        "text/html": "Total execution time: 00:00:00.048"
                    },
                    "metadata": {}
                },
                {
                    "output_type": "execute_result",
                    "metadata": {},
                    "execution_count": 69,
                    "data": {
                        "application/vnd.dataresource+json": {
                            "schema": {
                                "fields": [
                                    {
                                        "name": "id_student"
                                    },
                                    {
                                        "name": "imie"
                                    },
                                    {
                                        "name": "nazwisko"
                                    }
                                ]
                            },
                            "data": [
                                {
                                    "0": "135       ",
                                    "1": "Anna",
                                    "2": "Andrzejewska"
                                },
                                {
                                    "0": "138       ",
                                    "1": "Bartosz",
                                    "2": "Benedyktynski"
                                },
                                {
                                    "0": "256       ",
                                    "1": "Czeslawa",
                                    "2": "Cymbalinska"
                                },
                                {
                                    "0": "413       ",
                                    "1": "Dionizy",
                                    "2": "Doglebny"
                                },
                                {
                                    "0": "1123      ",
                                    "1": "Eleonora",
                                    "2": "Elektryfikujaca"
                                },
                                {
                                    "0": "35672     ",
                                    "1": "Franciszek",
                                    "2": "Ferdynancki"
                                },
                                {
                                    "0": "1563      ",
                                    "1": "Franciszek",
                                    "2": "Frankowski"
                                },
                                {
                                    "0": "8747      ",
                                    "1": "Grzegorz",
                                    "2": "Gorycki"
                                },
                                {
                                    "0": "11234     ",
                                    "1": "Henryk",
                                    "2": "Heniawski"
                                },
                                {
                                    "0": "987       ",
                                    "1": "Ilona",
                                    "2": "Ilanicka"
                                },
                                {
                                    "0": "58321     ",
                                    "1": "Jan",
                                    "2": "Janowski"
                                },
                                {
                                    "0": "583212    ",
                                    "1": "Karol",
                                    "2": "Kowalski"
                                },
                                {
                                    "0": "583214    ",
                                    "1": "Lukasz",
                                    "2": "Lopianski"
                                },
                                {
                                    "0": "583213    ",
                                    "1": "Lucjan",
                                    "2": "Lubelski"
                                },
                                {
                                    "0": "583215    ",
                                    "1": "Mateusz",
                                    "2": "Manowski"
                                },
                                {
                                    "0": "583216    ",
                                    "1": "Nikodem",
                                    "2": "Nieznany"
                                },
                                {
                                    "0": "583217    ",
                                    "1": "Olek",
                                    "2": "Olechowski"
                                },
                                {
                                    "0": "583218    ",
                                    "1": "Piotr",
                                    "2": "Pacanowski"
                                },
                                {
                                    "0": "583219    ",
                                    "1": "Radoslwa",
                                    "2": "Rzeszowski"
                                },
                                {
                                    "0": "5832110   ",
                                    "1": "Stanislaw",
                                    "2": "Slomianski"
                                },
                                {
                                    "0": "5832111   ",
                                    "1": "Tadeusz",
                                    "2": "Tomianski"
                                },
                                {
                                    "0": "5832112   ",
                                    "1": "Urszula",
                                    "2": "Uramowska"
                                },
                                {
                                    "0": "5832113   ",
                                    "1": "Wieslawa",
                                    "2": "Witkowska"
                                }
                            ]
                        },
                        "text/html": [
                            "<table>",
                            "<tr><th>id_student</th><th>imie</th><th>nazwisko</th></tr>",
                            "<tr><td>135       </td><td>Anna</td><td>Andrzejewska</td></tr>",
                            "<tr><td>138       </td><td>Bartosz</td><td>Benedyktynski</td></tr>",
                            "<tr><td>256       </td><td>Czeslawa</td><td>Cymbalinska</td></tr>",
                            "<tr><td>413       </td><td>Dionizy</td><td>Doglebny</td></tr>",
                            "<tr><td>1123      </td><td>Eleonora</td><td>Elektryfikujaca</td></tr>",
                            "<tr><td>35672     </td><td>Franciszek</td><td>Ferdynancki</td></tr>",
                            "<tr><td>1563      </td><td>Franciszek</td><td>Frankowski</td></tr>",
                            "<tr><td>8747      </td><td>Grzegorz</td><td>Gorycki</td></tr>",
                            "<tr><td>11234     </td><td>Henryk</td><td>Heniawski</td></tr>",
                            "<tr><td>987       </td><td>Ilona</td><td>Ilanicka</td></tr>",
                            "<tr><td>58321     </td><td>Jan</td><td>Janowski</td></tr>",
                            "<tr><td>583212    </td><td>Karol</td><td>Kowalski</td></tr>",
                            "<tr><td>583214    </td><td>Lukasz</td><td>Lopianski</td></tr>",
                            "<tr><td>583213    </td><td>Lucjan</td><td>Lubelski</td></tr>",
                            "<tr><td>583215    </td><td>Mateusz</td><td>Manowski</td></tr>",
                            "<tr><td>583216    </td><td>Nikodem</td><td>Nieznany</td></tr>",
                            "<tr><td>583217    </td><td>Olek</td><td>Olechowski</td></tr>",
                            "<tr><td>583218    </td><td>Piotr</td><td>Pacanowski</td></tr>",
                            "<tr><td>583219    </td><td>Radoslwa</td><td>Rzeszowski</td></tr>",
                            "<tr><td>5832110   </td><td>Stanislaw</td><td>Slomianski</td></tr>",
                            "<tr><td>5832111   </td><td>Tadeusz</td><td>Tomianski</td></tr>",
                            "<tr><td>5832112   </td><td>Urszula</td><td>Uramowska</td></tr>",
                            "<tr><td>5832113   </td><td>Wieslawa</td><td>Witkowska</td></tr>",
                            "</table>"
                        ]
                    }
                }
            ],
            "execution_count": 69
        },
        {
            "cell_type": "code",
            "source": [
                "--Zapytanie 2\r\n",
                "SELECT stopien,imie,nazwisko FROM Pracownicy ORDER BY nazwisko;"
            ],
            "metadata": {
                "azdata_cell_guid": "9ddaf40e-231a-427a-b92e-b67cb4435448",
                "tags": []
            },
            "outputs": [
                {
                    "output_type": "display_data",
                    "data": {
                        "text/html": "(22 rows affected)"
                    },
                    "metadata": {}
                },
                {
                    "output_type": "display_data",
                    "data": {
                        "text/html": "Total execution time: 00:00:00.047"
                    },
                    "metadata": {}
                },
                {
                    "output_type": "execute_result",
                    "metadata": {},
                    "execution_count": 70,
                    "data": {
                        "application/vnd.dataresource+json": {
                            "schema": {
                                "fields": [
                                    {
                                        "name": "stopien"
                                    },
                                    {
                                        "name": "imie"
                                    },
                                    {
                                        "name": "nazwisko"
                                    }
                                ]
                            },
                            "data": [
                                {
                                    "0": "DR INZ",
                                    "1": "Marek",
                                    "2": "Moczydlowski"
                                },
                                {
                                    "0": "PROF",
                                    "1": "Marek",
                                    "2": "Moczydlowski"
                                },
                                {
                                    "0": "MGR",
                                    "1": "ImiePracownik1",
                                    "2": "NazwiskoPracownik1"
                                },
                                {
                                    "0": "DR",
                                    "1": "ImiePracownik20",
                                    "2": "NazwiskoPracownik10"
                                },
                                {
                                    "0": "MGR",
                                    "1": "ImiePracownik21",
                                    "2": "NazwiskoPracownik11"
                                },
                                {
                                    "0": "MGR",
                                    "1": "ImiePracownik22",
                                    "2": "NazwiskoPracownik12"
                                },
                                {
                                    "0": "MGR",
                                    "1": "ImiePracownik23",
                                    "2": "NazwiskoPracownik13"
                                },
                                {
                                    "0": "LIC",
                                    "1": "ImiePracownik2",
                                    "2": "NazwiskoPracownik2"
                                },
                                {
                                    "0": "DR",
                                    "1": "ImiePracownik3",
                                    "2": "NazwiskoPracownik3"
                                },
                                {
                                    "0": "PROF",
                                    "1": "ImiePracownik4",
                                    "2": "NazwiskoPracownik4"
                                },
                                {
                                    "0": "MGR",
                                    "1": "ImiePracownik5",
                                    "2": "NazwiskoPracownik5"
                                },
                                {
                                    "0": "LIC",
                                    "1": "ImiePracownik6",
                                    "2": "NazwiskoPracownik6"
                                },
                                {
                                    "0": "PROF",
                                    "1": "ImiePracownik7",
                                    "2": "NazwiskoPracownik7"
                                },
                                {
                                    "0": "DR",
                                    "1": "ImiePracownik18",
                                    "2": "NazwiskoPracownik8"
                                },
                                {
                                    "0": "DR",
                                    "1": "ImiePracownik19",
                                    "2": "NazwiskoPracownik9"
                                },
                                {
                                    "0": "INZ",
                                    "1": "Ola",
                                    "2": "Oskarska"
                                },
                                {
                                    "0": "DR HAB",
                                    "1": "Paulina",
                                    "2": "Penderecka"
                                },
                                {
                                    "0": "DR",
                                    "1": "probny",
                                    "2": "probny"
                                },
                                {
                                    "0": "PROF",
                                    "1": "Rakoczy",
                                    "2": "Rondecki"
                                },
                                {
                                    "0": "LIC",
                                    "1": "Sonia",
                                    "2": "Szarecka"
                                },
                                {
                                    "0": "MGR",
                                    "1": "Tadeusz",
                                    "2": "Tokarski"
                                },
                                {
                                    "0": "DR",
                                    "1": "Zygfryd",
                                    "2": "Zebrzanski"
                                }
                            ]
                        },
                        "text/html": [
                            "<table>",
                            "<tr><th>stopien</th><th>imie</th><th>nazwisko</th></tr>",
                            "<tr><td>DR INZ</td><td>Marek</td><td>Moczydlowski</td></tr>",
                            "<tr><td>PROF</td><td>Marek</td><td>Moczydlowski</td></tr>",
                            "<tr><td>MGR</td><td>ImiePracownik1</td><td>NazwiskoPracownik1</td></tr>",
                            "<tr><td>DR</td><td>ImiePracownik20</td><td>NazwiskoPracownik10</td></tr>",
                            "<tr><td>MGR</td><td>ImiePracownik21</td><td>NazwiskoPracownik11</td></tr>",
                            "<tr><td>MGR</td><td>ImiePracownik22</td><td>NazwiskoPracownik12</td></tr>",
                            "<tr><td>MGR</td><td>ImiePracownik23</td><td>NazwiskoPracownik13</td></tr>",
                            "<tr><td>LIC</td><td>ImiePracownik2</td><td>NazwiskoPracownik2</td></tr>",
                            "<tr><td>DR</td><td>ImiePracownik3</td><td>NazwiskoPracownik3</td></tr>",
                            "<tr><td>PROF</td><td>ImiePracownik4</td><td>NazwiskoPracownik4</td></tr>",
                            "<tr><td>MGR</td><td>ImiePracownik5</td><td>NazwiskoPracownik5</td></tr>",
                            "<tr><td>LIC</td><td>ImiePracownik6</td><td>NazwiskoPracownik6</td></tr>",
                            "<tr><td>PROF</td><td>ImiePracownik7</td><td>NazwiskoPracownik7</td></tr>",
                            "<tr><td>DR</td><td>ImiePracownik18</td><td>NazwiskoPracownik8</td></tr>",
                            "<tr><td>DR</td><td>ImiePracownik19</td><td>NazwiskoPracownik9</td></tr>",
                            "<tr><td>INZ</td><td>Ola</td><td>Oskarska</td></tr>",
                            "<tr><td>DR HAB</td><td>Paulina</td><td>Penderecka</td></tr>",
                            "<tr><td>DR</td><td>probny</td><td>probny</td></tr>",
                            "<tr><td>PROF</td><td>Rakoczy</td><td>Rondecki</td></tr>",
                            "<tr><td>LIC</td><td>Sonia</td><td>Szarecka</td></tr>",
                            "<tr><td>MGR</td><td>Tadeusz</td><td>Tokarski</td></tr>",
                            "<tr><td>DR</td><td>Zygfryd</td><td>Zebrzanski</td></tr>",
                            "</table>"
                        ]
                    }
                }
            ],
            "execution_count": 70
        },
        {
            "cell_type": "code",
            "source": [
                "--Zapytanie 3\r\n",
                "SELECT tytul FROM Prace ORDER BY tytul;"
            ],
            "metadata": {
                "azdata_cell_guid": "8a209a54-6bfc-4ce6-934f-9eed5b5e88ce",
                "tags": []
            },
            "outputs": [
                {
                    "output_type": "display_data",
                    "data": {
                        "text/html": "(8 rows affected)"
                    },
                    "metadata": {}
                },
                {
                    "output_type": "display_data",
                    "data": {
                        "text/html": "Total execution time: 00:00:00.047"
                    },
                    "metadata": {}
                },
                {
                    "output_type": "execute_result",
                    "metadata": {},
                    "execution_count": 71,
                    "data": {
                        "application/vnd.dataresource+json": {
                            "schema": {
                                "fields": [
                                    {
                                        "name": "tytul"
                                    }
                                ]
                            },
                            "data": [
                                {
                                    "0": "Elektrochemia kardiomiocytów"
                                },
                                {
                                    "0": "Inflacja w krajach Europy Srodkowo-Wschodniej"
                                },
                                {
                                    "0": "Kwantowa teoria pola w czarnych dziurach"
                                },
                                {
                                    "0": "Nitrozaminy w komórkach ludzkich"
                                },
                                {
                                    "0": "Opieka nad pacjentami z choroba Crohna"
                                },
                                {
                                    "0": "Pomiary napiecia w procesorach x86"
                                },
                                {
                                    "0": "Sily odsrodkowe w autobusach"
                                },
                                {
                                    "0": "Zastosowania kryptografii na stronach rzadowych"
                                }
                            ]
                        },
                        "text/html": [
                            "<table>",
                            "<tr><th>tytul</th></tr>",
                            "<tr><td>Elektrochemia kardiomiocytów</td></tr>",
                            "<tr><td>Inflacja w krajach Europy Srodkowo-Wschodniej</td></tr>",
                            "<tr><td>Kwantowa teoria pola w czarnych dziurach</td></tr>",
                            "<tr><td>Nitrozaminy w komórkach ludzkich</td></tr>",
                            "<tr><td>Opieka nad pacjentami z choroba Crohna</td></tr>",
                            "<tr><td>Pomiary napiecia w procesorach x86</td></tr>",
                            "<tr><td>Sily odsrodkowe w autobusach</td></tr>",
                            "<tr><td>Zastosowania kryptografii na stronach rzadowych</td></tr>",
                            "</table>"
                        ]
                    }
                }
            ],
            "execution_count": 71
        },
        {
            "cell_type": "code",
            "source": [
                "--Zapytanie 4\r\n",
                "SELECT tytul,dataObrony FROM prace ORDER BY dataObrony;"
            ],
            "metadata": {
                "azdata_cell_guid": "36ed3b62-7078-405e-aceb-ede992bc2be0",
                "tags": []
            },
            "outputs": [
                {
                    "output_type": "display_data",
                    "data": {
                        "text/html": "(8 rows affected)"
                    },
                    "metadata": {}
                },
                {
                    "output_type": "display_data",
                    "data": {
                        "text/html": "Total execution time: 00:00:02.416"
                    },
                    "metadata": {}
                },
                {
                    "output_type": "execute_result",
                    "metadata": {},
                    "execution_count": 72,
                    "data": {
                        "application/vnd.dataresource+json": {
                            "schema": {
                                "fields": [
                                    {
                                        "name": "tytul"
                                    },
                                    {
                                        "name": "dataObrony"
                                    }
                                ]
                            },
                            "data": [
                                {
                                    "0": "Inflacja w krajach Europy Srodkowo-Wschodniej",
                                    "1": "2018-12-21 00:00:00.000"
                                },
                                {
                                    "0": "Kwantowa teoria pola w czarnych dziurach",
                                    "1": "2019-06-11 00:00:00.000"
                                },
                                {
                                    "0": "Pomiary napiecia w procesorach x86",
                                    "1": "2020-01-10 00:00:00.000"
                                },
                                {
                                    "0": "Zastosowania kryptografii na stronach rzadowych",
                                    "1": "2020-01-10 00:00:00.000"
                                },
                                {
                                    "0": "Elektrochemia kardiomiocytów",
                                    "1": "2020-02-12 00:00:00.000"
                                },
                                {
                                    "0": "Nitrozaminy w komórkach ludzkich",
                                    "1": "2020-03-12 00:00:00.000"
                                },
                                {
                                    "0": "Opieka nad pacjentami z choroba Crohna",
                                    "1": "2021-03-12 00:00:00.000"
                                },
                                {
                                    "0": "Sily odsrodkowe w autobusach",
                                    "1": "2021-06-21 00:00:00.000"
                                }
                            ]
                        },
                        "text/html": [
                            "<table>",
                            "<tr><th>tytul</th><th>dataObrony</th></tr>",
                            "<tr><td>Inflacja w krajach Europy Srodkowo-Wschodniej</td><td>2018-12-21 00:00:00.000</td></tr>",
                            "<tr><td>Kwantowa teoria pola w czarnych dziurach</td><td>2019-06-11 00:00:00.000</td></tr>",
                            "<tr><td>Pomiary napiecia w procesorach x86</td><td>2020-01-10 00:00:00.000</td></tr>",
                            "<tr><td>Zastosowania kryptografii na stronach rzadowych</td><td>2020-01-10 00:00:00.000</td></tr>",
                            "<tr><td>Elektrochemia kardiomiocytów</td><td>2020-02-12 00:00:00.000</td></tr>",
                            "<tr><td>Nitrozaminy w komórkach ludzkich</td><td>2020-03-12 00:00:00.000</td></tr>",
                            "<tr><td>Opieka nad pacjentami z choroba Crohna</td><td>2021-03-12 00:00:00.000</td></tr>",
                            "<tr><td>Sily odsrodkowe w autobusach</td><td>2021-06-21 00:00:00.000</td></tr>",
                            "</table>"
                        ]
                    }
                }
            ],
            "execution_count": 72
        },
        {
            "cell_type": "code",
            "source": [
                "--Zapytanie 5\r\n",
                "SELECT tytul,ocenaKoncowa,dataObrony FROM Prace ORDER BY ocenaKoncowa,dataObrony;\r\n",
                ""
            ],
            "metadata": {
                "azdata_cell_guid": "f7b793b4-167d-4469-b6a3-c71329a4e4de",
                "tags": []
            },
            "outputs": [
                {
                    "output_type": "display_data",
                    "data": {
                        "text/html": "(8 rows affected)"
                    },
                    "metadata": {}
                },
                {
                    "output_type": "display_data",
                    "data": {
                        "text/html": "Total execution time: 00:00:00.048"
                    },
                    "metadata": {}
                },
                {
                    "output_type": "execute_result",
                    "metadata": {},
                    "execution_count": 73,
                    "data": {
                        "application/vnd.dataresource+json": {
                            "schema": {
                                "fields": [
                                    {
                                        "name": "tytul"
                                    },
                                    {
                                        "name": "ocenaKoncowa"
                                    },
                                    {
                                        "name": "dataObrony"
                                    }
                                ]
                            },
                            "data": [
                                {
                                    "0": "Inflacja w krajach Europy Srodkowo-Wschodniej",
                                    "1": "3,0",
                                    "2": "2018-12-21 00:00:00.000"
                                },
                                {
                                    "0": "Kwantowa teoria pola w czarnych dziurach",
                                    "1": "3,0",
                                    "2": "2019-06-11 00:00:00.000"
                                },
                                {
                                    "0": "Pomiary napiecia w procesorach x86",
                                    "1": "3,0",
                                    "2": "2020-01-10 00:00:00.000"
                                },
                                {
                                    "0": "Zastosowania kryptografii na stronach rzadowych",
                                    "1": "3,0",
                                    "2": "2020-01-10 00:00:00.000"
                                },
                                {
                                    "0": "Elektrochemia kardiomiocytów",
                                    "1": "3,0",
                                    "2": "2020-02-12 00:00:00.000"
                                },
                                {
                                    "0": "Nitrozaminy w komórkach ludzkich",
                                    "1": "3,0",
                                    "2": "2020-03-12 00:00:00.000"
                                },
                                {
                                    "0": "Opieka nad pacjentami z choroba Crohna",
                                    "1": "3,0",
                                    "2": "2021-03-12 00:00:00.000"
                                },
                                {
                                    "0": "Sily odsrodkowe w autobusach",
                                    "1": "3,0",
                                    "2": "2021-06-21 00:00:00.000"
                                }
                            ]
                        },
                        "text/html": [
                            "<table>",
                            "<tr><th>tytul</th><th>ocenaKoncowa</th><th>dataObrony</th></tr>",
                            "<tr><td>Inflacja w krajach Europy Srodkowo-Wschodniej</td><td>3,0</td><td>2018-12-21 00:00:00.000</td></tr>",
                            "<tr><td>Kwantowa teoria pola w czarnych dziurach</td><td>3,0</td><td>2019-06-11 00:00:00.000</td></tr>",
                            "<tr><td>Pomiary napiecia w procesorach x86</td><td>3,0</td><td>2020-01-10 00:00:00.000</td></tr>",
                            "<tr><td>Zastosowania kryptografii na stronach rzadowych</td><td>3,0</td><td>2020-01-10 00:00:00.000</td></tr>",
                            "<tr><td>Elektrochemia kardiomiocytów</td><td>3,0</td><td>2020-02-12 00:00:00.000</td></tr>",
                            "<tr><td>Nitrozaminy w komórkach ludzkich</td><td>3,0</td><td>2020-03-12 00:00:00.000</td></tr>",
                            "<tr><td>Opieka nad pacjentami z choroba Crohna</td><td>3,0</td><td>2021-03-12 00:00:00.000</td></tr>",
                            "<tr><td>Sily odsrodkowe w autobusach</td><td>3,0</td><td>2021-06-21 00:00:00.000</td></tr>",
                            "</table>"
                        ]
                    }
                }
            ],
            "execution_count": 73
        },
        {
            "cell_type": "code",
            "source": [
                "--Zapytanie 6\r\n",
                "SELECT tytul, grupaRodzaj FROM Prace GROUP BY grupaRodzaj, tytul;"
            ],
            "metadata": {
                "azdata_cell_guid": "e7d655f5-d42a-4f66-83dc-8b6bf394cff0",
                "tags": []
            },
            "outputs": [
                {
                    "output_type": "display_data",
                    "data": {
                        "text/html": "(8 rows affected)"
                    },
                    "metadata": {}
                },
                {
                    "output_type": "display_data",
                    "data": {
                        "text/html": "Total execution time: 00:00:00.989"
                    },
                    "metadata": {}
                },
                {
                    "output_type": "execute_result",
                    "metadata": {},
                    "execution_count": 74,
                    "data": {
                        "application/vnd.dataresource+json": {
                            "schema": {
                                "fields": [
                                    {
                                        "name": "tytul"
                                    },
                                    {
                                        "name": "grupaRodzaj"
                                    }
                                ]
                            },
                            "data": [
                                {
                                    "0": "Nitrozaminy w komórkach ludzkich",
                                    "1": "MAGISTERSKIE"
                                },
                                {
                                    "0": "Opieka nad pacjentami z choroba Crohna",
                                    "1": "LICENCJACKIE"
                                },
                                {
                                    "0": "Kwantowa teoria pola w czarnych dziurach",
                                    "1": "DOKTORANCKIE"
                                },
                                {
                                    "0": "Sily odsrodkowe w autobusach",
                                    "1": "LICENCJACKIE"
                                },
                                {
                                    "0": "Inflacja w krajach Europy Srodkowo-Wschodniej",
                                    "1": "LICENCJACKIE"
                                },
                                {
                                    "0": "Pomiary napiecia w procesorach x86",
                                    "1": "INZYNIERSKIE"
                                },
                                {
                                    "0": "Zastosowania kryptografii na stronach rzadowych",
                                    "1": "INZYNIERSKIE"
                                },
                                {
                                    "0": "Elektrochemia kardiomiocytów",
                                    "1": "MAGISTERSKIE"
                                }
                            ]
                        },
                        "text/html": [
                            "<table>",
                            "<tr><th>tytul</th><th>grupaRodzaj</th></tr>",
                            "<tr><td>Nitrozaminy w komórkach ludzkich</td><td>MAGISTERSKIE</td></tr>",
                            "<tr><td>Opieka nad pacjentami z choroba Crohna</td><td>LICENCJACKIE</td></tr>",
                            "<tr><td>Kwantowa teoria pola w czarnych dziurach</td><td>DOKTORANCKIE</td></tr>",
                            "<tr><td>Sily odsrodkowe w autobusach</td><td>LICENCJACKIE</td></tr>",
                            "<tr><td>Inflacja w krajach Europy Srodkowo-Wschodniej</td><td>LICENCJACKIE</td></tr>",
                            "<tr><td>Pomiary napiecia w procesorach x86</td><td>INZYNIERSKIE</td></tr>",
                            "<tr><td>Zastosowania kryptografii na stronach rzadowych</td><td>INZYNIERSKIE</td></tr>",
                            "<tr><td>Elektrochemia kardiomiocytów</td><td>MAGISTERSKIE</td></tr>",
                            "</table>"
                        ]
                    }
                }
            ],
            "execution_count": 74
        },
        {
            "cell_type": "code",
            "source": [
                "--Zapytania 7,8 było wcześniej; Zapytania 9,10,11\r\n",
                "EXEC sp_SzukajPraceRecenzowane 0,'','';"
            ],
            "metadata": {
                "azdata_cell_guid": "1f6365f7-c68e-42e6-b224-dce5073aeb37",
                "tags": []
            },
            "outputs": [
                {
                    "output_type": "display_data",
                    "data": {
                        "text/html": "Wyswietla prace recenzowane przez okreslonych pracowników uczelni"
                    },
                    "metadata": {}
                },
                {
                    "output_type": "display_data",
                    "data": {
                        "text/html": "(1 row affected)"
                    },
                    "metadata": {}
                },
                {
                    "output_type": "display_data",
                    "data": {
                        "text/html": "(1 row affected)"
                    },
                    "metadata": {}
                },
                {
                    "output_type": "display_data",
                    "data": {
                        "text/html": "(1 row affected)"
                    },
                    "metadata": {}
                },
                {
                    "output_type": "display_data",
                    "data": {
                        "text/html": "(1 row affected)"
                    },
                    "metadata": {}
                },
                {
                    "output_type": "display_data",
                    "data": {
                        "text/html": "(1 row affected)"
                    },
                    "metadata": {}
                },
                {
                    "output_type": "display_data",
                    "data": {
                        "text/html": "(1 row affected)"
                    },
                    "metadata": {}
                },
                {
                    "output_type": "display_data",
                    "data": {
                        "text/html": "(1 row affected)"
                    },
                    "metadata": {}
                },
                {
                    "output_type": "display_data",
                    "data": {
                        "text/html": "(1 row affected)"
                    },
                    "metadata": {}
                },
                {
                    "output_type": "display_data",
                    "data": {
                        "text/html": "(8 rows affected)"
                    },
                    "metadata": {}
                },
                {
                    "output_type": "display_data",
                    "data": {
                        "text/html": "Total execution time: 00:00:00.059"
                    },
                    "metadata": {}
                },
                {
                    "output_type": "execute_result",
                    "metadata": {},
                    "execution_count": 75,
                    "data": {
                        "application/vnd.dataresource+json": {
                            "schema": {
                                "fields": [
                                    {
                                        "name": "tytul"
                                    },
                                    {
                                        "name": "autorzy_i_ich_oceny"
                                    },
                                    {
                                        "name": "promotor"
                                    },
                                    {
                                        "name": "recenzenci_i_ich_oceny"
                                    },
                                    {
                                        "name": "ocena_promotora"
                                    },
                                    {
                                        "name": "data_obrony"
                                    },
                                    {
                                        "name": "wydzial"
                                    },
                                    {
                                        "name": "rodzaj_pracy"
                                    },
                                    {
                                        "name": "slowa_kluczowe"
                                    }
                                ]
                            },
                            "data": [
                                {
                                    "0": "Nitrozaminy w komórkach ludzkich",
                                    "1": "Bartosz Benedyktynski 4.0;",
                                    "2": "PROF Rakoczy Rondecki",
                                    "3": "DR Zygfryd Zebrzanski, ocena: 5.0;",
                                    "4": "3,0",
                                    "5": "2020-03-12 00:00:00.000",
                                    "6": "CHEMII",
                                    "7": "MAGISTERSKIE",
                                    "8": "KONSTRUKCJE ZELBETOWE; NITROZAMINY; PRACA DYPLOMOWA; "
                                },
                                {
                                    "0": "Opieka nad pacjentami z choroba Crohna",
                                    "1": "Eleonora Elektryfikujaca 3.5;Franciszek Ferdynancki 3.5;Grzegorz Gorycki 4.5;",
                                    "2": "DR Zygfryd Zebrzanski",
                                    "3": "PROF Rakoczy Rondecki, ocena: 4.0;DR HAB Paulina Penderecka, ocena: 3.0;",
                                    "4": "3,0",
                                    "5": "2021-03-12 00:00:00.000",
                                    "6": "NAUK O ZDROWIU",
                                    "7": "LICENCJACKIE",
                                    "8": "NITROZAMINY; PRACA DYPLOMOWA; "
                                },
                                {
                                    "0": "Kwantowa teoria pola w czarnych dziurach",
                                    "1": "Henryk Heniawski 3.5;Franciszek Frankowski 3.5;",
                                    "2": "PROF Rakoczy Rondecki",
                                    "3": "DR HAB Paulina Penderecka, ocena: 5.0;",
                                    "4": "4,0",
                                    "5": "2019-06-11 00:00:00.000",
                                    "6": "FIZYKI",
                                    "7": "DOKTORANCKIE",
                                    "8": "NEUROLEPTYKI; PRACA DYPLOMOWA; "
                                },
                                {
                                    "0": "Sily odsrodkowe w autobusach",
                                    "1": "Czeslawa Cymbalinska 3.5;",
                                    "2": "DR HAB Paulina Penderecka",
                                    "3": "PROF Rakoczy Rondecki, ocena: 5.0;MGR Tadeusz Tokarski, ocena: 4.5;INZ Ola Oskarska, ocena: 3.5;",
                                    "4": "5,0",
                                    "5": "2021-06-21 00:00:00.000",
                                    "6": "FIZYKI",
                                    "7": "LICENCJACKIE",
                                    "8": "NOSOROZCE NA SAWANNIE; PRACA DYPLOMOWA; "
                                },
                                {
                                    "0": "Inflacja w krajach Europy Srodkowo-Wschodniej",
                                    "1": "Dionizy Doglebny 3.5;",
                                    "2": "DR INZ Marek Moczydlowski",
                                    "3": "PROF Rakoczy Rondecki, ocena: 3.5;",
                                    "4": "4,5",
                                    "5": "2018-12-21 00:00:00.000",
                                    "6": "EKONOMII I ADMINISTRACJI",
                                    "7": "LICENCJACKIE",
                                    "8": "NOSOROZCE NA SAWANNIE; POTENCJAL BLONOWY; PRACA DYPLOMOWA; "
                                },
                                {
                                    "0": "Pomiary napiecia w procesorach x86",
                                    "1": "Bartosz Benedyktynski 3.5;",
                                    "2": "PROF Rakoczy Rondecki",
                                    "3": "MGR Tadeusz Tokarski, ocena: 4.5;",
                                    "4": "3,5",
                                    "5": "2020-01-10 00:00:00.000",
                                    "6": "ELEKTRYCZNY",
                                    "7": "INZYNIERSKIE",
                                    "8": "PRACA DYPLOMOWA; PRAD ELEKTRYCZNY; "
                                },
                                {
                                    "0": "Zastosowania kryptografii na stronach rzadowych",
                                    "1": "Anna Andrzejewska 5.0;",
                                    "2": "DR INZ Marek Moczydlowski",
                                    "3": "MGR Tadeusz Tokarski, ocena: 3.5;",
                                    "4": "3,0",
                                    "5": "2020-01-10 00:00:00.000",
                                    "6": "ELEKTRYCZNY",
                                    "7": "INZYNIERSKIE",
                                    "8": "PRACA DYPLOMOWA; PRAD ELEKTRYCZNY; "
                                },
                                {
                                    "0": "Elektrochemia kardiomiocytów",
                                    "1": "Ilona Ilanicka 4.0;",
                                    "2": "PROF Marek Moczydlowski",
                                    "3": "LIC Sonia Szarecka, ocena: 3.5;DR INZ Marek Moczydlowski, ocena: 4.5;",
                                    "4": "5,0",
                                    "5": "2020-02-12 00:00:00.000",
                                    "6": "CHEMII",
                                    "7": "MAGISTERSKIE",
                                    "8": "PRACA DYPLOMOWA; PRAD ELEKTRYCZNY; "
                                }
                            ]
                        },
                        "text/html": [
                            "<table>",
                            "<tr><th>tytul</th><th>autorzy_i_ich_oceny</th><th>promotor</th><th>recenzenci_i_ich_oceny</th><th>ocena_promotora</th><th>data_obrony</th><th>wydzial</th><th>rodzaj_pracy</th><th>slowa_kluczowe</th></tr>",
                            "<tr><td>Nitrozaminy w komórkach ludzkich</td><td>Bartosz Benedyktynski 4.0;</td><td>PROF Rakoczy Rondecki</td><td>DR Zygfryd Zebrzanski, ocena: 5.0;</td><td>3,0</td><td>2020-03-12 00:00:00.000</td><td>CHEMII</td><td>MAGISTERSKIE</td><td>KONSTRUKCJE ZELBETOWE; NITROZAMINY; PRACA DYPLOMOWA; </td></tr>",
                            "<tr><td>Opieka nad pacjentami z choroba Crohna</td><td>Eleonora Elektryfikujaca 3.5;Franciszek Ferdynancki 3.5;Grzegorz Gorycki 4.5;</td><td>DR Zygfryd Zebrzanski</td><td>PROF Rakoczy Rondecki, ocena: 4.0;DR HAB Paulina Penderecka, ocena: 3.0;</td><td>3,0</td><td>2021-03-12 00:00:00.000</td><td>NAUK O ZDROWIU</td><td>LICENCJACKIE</td><td>NITROZAMINY; PRACA DYPLOMOWA; </td></tr>",
                            "<tr><td>Kwantowa teoria pola w czarnych dziurach</td><td>Henryk Heniawski 3.5;Franciszek Frankowski 3.5;</td><td>PROF Rakoczy Rondecki</td><td>DR HAB Paulina Penderecka, ocena: 5.0;</td><td>4,0</td><td>2019-06-11 00:00:00.000</td><td>FIZYKI</td><td>DOKTORANCKIE</td><td>NEUROLEPTYKI; PRACA DYPLOMOWA; </td></tr>",
                            "<tr><td>Sily odsrodkowe w autobusach</td><td>Czeslawa Cymbalinska 3.5;</td><td>DR HAB Paulina Penderecka</td><td>PROF Rakoczy Rondecki, ocena: 5.0;MGR Tadeusz Tokarski, ocena: 4.5;INZ Ola Oskarska, ocena: 3.5;</td><td>5,0</td><td>2021-06-21 00:00:00.000</td><td>FIZYKI</td><td>LICENCJACKIE</td><td>NOSOROZCE NA SAWANNIE; PRACA DYPLOMOWA; </td></tr>",
                            "<tr><td>Inflacja w krajach Europy Srodkowo-Wschodniej</td><td>Dionizy Doglebny 3.5;</td><td>DR INZ Marek Moczydlowski</td><td>PROF Rakoczy Rondecki, ocena: 3.5;</td><td>4,5</td><td>2018-12-21 00:00:00.000</td><td>EKONOMII I ADMINISTRACJI</td><td>LICENCJACKIE</td><td>NOSOROZCE NA SAWANNIE; POTENCJAL BLONOWY; PRACA DYPLOMOWA; </td></tr>",
                            "<tr><td>Pomiary napiecia w procesorach x86</td><td>Bartosz Benedyktynski 3.5;</td><td>PROF Rakoczy Rondecki</td><td>MGR Tadeusz Tokarski, ocena: 4.5;</td><td>3,5</td><td>2020-01-10 00:00:00.000</td><td>ELEKTRYCZNY</td><td>INZYNIERSKIE</td><td>PRACA DYPLOMOWA; PRAD ELEKTRYCZNY; </td></tr>",
                            "<tr><td>Zastosowania kryptografii na stronach rzadowych</td><td>Anna Andrzejewska 5.0;</td><td>DR INZ Marek Moczydlowski</td><td>MGR Tadeusz Tokarski, ocena: 3.5;</td><td>3,0</td><td>2020-01-10 00:00:00.000</td><td>ELEKTRYCZNY</td><td>INZYNIERSKIE</td><td>PRACA DYPLOMOWA; PRAD ELEKTRYCZNY; </td></tr>",
                            "<tr><td>Elektrochemia kardiomiocytów</td><td>Ilona Ilanicka 4.0;</td><td>PROF Marek Moczydlowski</td><td>LIC Sonia Szarecka, ocena: 3.5;DR INZ Marek Moczydlowski, ocena: 4.5;</td><td>5,0</td><td>2020-02-12 00:00:00.000</td><td>CHEMII</td><td>MAGISTERSKIE</td><td>PRACA DYPLOMOWA; PRAD ELEKTRYCZNY; </td></tr>",
                            "</table>"
                        ]
                    }
                }
            ],
            "execution_count": 75
        },
        {
            "cell_type": "code",
            "source": [
                "--Zapytanie 12\r\n",
                "EXEC sp_SzukajPracPoStudencie '','Benedyktyński','Bartosz';"
            ],
            "metadata": {
                "azdata_cell_guid": "db320a63-0463-4d26-a740-cefe1addb723",
                "tags": []
            },
            "outputs": [
                {
                    "output_type": "display_data",
                    "data": {
                        "text/html": "Wyswietla prace studentów o imionach i nazwiskach: Bartosz Benedyktynski"
                    },
                    "metadata": {}
                },
                {
                    "output_type": "display_data",
                    "data": {
                        "text/html": "(1 row affected)"
                    },
                    "metadata": {}
                },
                {
                    "output_type": "display_data",
                    "data": {
                        "text/html": "(1 row affected)"
                    },
                    "metadata": {}
                },
                {
                    "output_type": "display_data",
                    "data": {
                        "text/html": "(2 rows affected)"
                    },
                    "metadata": {}
                },
                {
                    "output_type": "display_data",
                    "data": {
                        "text/html": "Total execution time: 00:00:00.056"
                    },
                    "metadata": {}
                },
                {
                    "output_type": "execute_result",
                    "metadata": {},
                    "execution_count": 76,
                    "data": {
                        "application/vnd.dataresource+json": {
                            "schema": {
                                "fields": [
                                    {
                                        "name": "tytul"
                                    },
                                    {
                                        "name": "wspolautorzy"
                                    },
                                    {
                                        "name": "promotor"
                                    },
                                    {
                                        "name": "recenzenci_i_ich_oceny"
                                    },
                                    {
                                        "name": "ocena_promotora"
                                    },
                                    {
                                        "name": "ocena_koncowa"
                                    },
                                    {
                                        "name": "data_obrony"
                                    },
                                    {
                                        "name": "wydzial"
                                    },
                                    {
                                        "name": "rodzaj_pracy"
                                    },
                                    {
                                        "name": "slowa_kluczowe"
                                    }
                                ]
                            },
                            "data": [
                                {
                                    "0": "Nitrozaminy w komórkach ludzkich",
                                    "1": "BRAK",
                                    "2": "PROF Rakoczy Rondecki",
                                    "3": "DR Zygfryd Zebrzanski, ocena: 5.0;",
                                    "4": "3,0",
                                    "5": "4,0",
                                    "6": "2020-03-12 00:00:00.000",
                                    "7": "CHEMII",
                                    "8": "MAGISTERSKIE",
                                    "9": "KONSTRUKCJE ZELBETOWE; NITROZAMINY; PRACA DYPLOMOWA; "
                                },
                                {
                                    "0": "Pomiary napiecia w procesorach x86",
                                    "1": "BRAK",
                                    "2": "PROF Rakoczy Rondecki",
                                    "3": "MGR Tadeusz Tokarski, ocena: 4.5;",
                                    "4": "3,5",
                                    "5": "3,5",
                                    "6": "2020-01-10 00:00:00.000",
                                    "7": "ELEKTRYCZNY",
                                    "8": "INZYNIERSKIE",
                                    "9": "PRACA DYPLOMOWA; PRAD ELEKTRYCZNY; "
                                }
                            ]
                        },
                        "text/html": [
                            "<table>",
                            "<tr><th>tytul</th><th>wspolautorzy</th><th>promotor</th><th>recenzenci_i_ich_oceny</th><th>ocena_promotora</th><th>ocena_koncowa</th><th>data_obrony</th><th>wydzial</th><th>rodzaj_pracy</th><th>slowa_kluczowe</th></tr>",
                            "<tr><td>Nitrozaminy w komórkach ludzkich</td><td>BRAK</td><td>PROF Rakoczy Rondecki</td><td>DR Zygfryd Zebrzanski, ocena: 5.0;</td><td>3,0</td><td>4,0</td><td>2020-03-12 00:00:00.000</td><td>CHEMII</td><td>MAGISTERSKIE</td><td>KONSTRUKCJE ZELBETOWE; NITROZAMINY; PRACA DYPLOMOWA; </td></tr>",
                            "<tr><td>Pomiary napiecia w procesorach x86</td><td>BRAK</td><td>PROF Rakoczy Rondecki</td><td>MGR Tadeusz Tokarski, ocena: 4.5;</td><td>3,5</td><td>3,5</td><td>2020-01-10 00:00:00.000</td><td>ELEKTRYCZNY</td><td>INZYNIERSKIE</td><td>PRACA DYPLOMOWA; PRAD ELEKTRYCZNY; </td></tr>",
                            "</table>"
                        ]
                    }
                }
            ],
            "execution_count": 76
        },
        {
            "cell_type": "code",
            "source": [
                "--Zapytanie 13 było uprzednio; Zapytanie 14\r\n",
                "EXEC sp_SzukajPracePoRodzaju 'MAGISTERSKIE';"
            ],
            "metadata": {
                "azdata_cell_guid": "e8370f1a-be83-4092-878c-53b2a37e4ea4",
                "tags": []
            },
            "outputs": [
                {
                    "output_type": "display_data",
                    "data": {
                        "text/html": "Wyswietla prace okreslonego rodzaju"
                    },
                    "metadata": {}
                },
                {
                    "output_type": "display_data",
                    "data": {
                        "text/html": "(1 row affected)"
                    },
                    "metadata": {}
                },
                {
                    "output_type": "display_data",
                    "data": {
                        "text/html": "(1 row affected)"
                    },
                    "metadata": {}
                },
                {
                    "output_type": "display_data",
                    "data": {
                        "text/html": "(2 rows affected)"
                    },
                    "metadata": {}
                },
                {
                    "output_type": "display_data",
                    "data": {
                        "text/html": "Total execution time: 00:00:00.048"
                    },
                    "metadata": {}
                },
                {
                    "output_type": "execute_result",
                    "metadata": {},
                    "execution_count": 77,
                    "data": {
                        "application/vnd.dataresource+json": {
                            "schema": {
                                "fields": [
                                    {
                                        "name": "tytul"
                                    },
                                    {
                                        "name": "autorzy"
                                    },
                                    {
                                        "name": "promotor"
                                    },
                                    {
                                        "name": "recenzenci_i_ich_oceny"
                                    },
                                    {
                                        "name": "ocena_promotora"
                                    },
                                    {
                                        "name": "data_obrony"
                                    },
                                    {
                                        "name": "wydzial"
                                    },
                                    {
                                        "name": "rodzaj_pracy"
                                    },
                                    {
                                        "name": "slowa_kluczowe"
                                    }
                                ]
                            },
                            "data": [
                                {
                                    "0": "Nitrozaminy w komórkach ludzkich",
                                    "1": "Bartosz Benedyktynski;",
                                    "2": "PROF Rakoczy Rondecki",
                                    "3": "DR Zygfryd Zebrzanski, ocena: 5.0;",
                                    "4": "3,0",
                                    "5": "2020-03-12 00:00:00.000",
                                    "6": "CHEMII",
                                    "7": "MAGISTERSKIE",
                                    "8": "KONSTRUKCJE ZELBETOWE; NITROZAMINY; PRACA DYPLOMOWA; "
                                },
                                {
                                    "0": "Elektrochemia kardiomiocytów",
                                    "1": "Ilona Ilanicka;",
                                    "2": "PROF Marek Moczydlowski",
                                    "3": "LIC Sonia Szarecka, ocena: 3.5;DR INZ Marek Moczydlowski, ocena: 4.5;",
                                    "4": "5,0",
                                    "5": "2020-02-12 00:00:00.000",
                                    "6": "CHEMII",
                                    "7": "MAGISTERSKIE",
                                    "8": "PRACA DYPLOMOWA; PRAD ELEKTRYCZNY; "
                                }
                            ]
                        },
                        "text/html": [
                            "<table>",
                            "<tr><th>tytul</th><th>autorzy</th><th>promotor</th><th>recenzenci_i_ich_oceny</th><th>ocena_promotora</th><th>data_obrony</th><th>wydzial</th><th>rodzaj_pracy</th><th>slowa_kluczowe</th></tr>",
                            "<tr><td>Nitrozaminy w komórkach ludzkich</td><td>Bartosz Benedyktynski;</td><td>PROF Rakoczy Rondecki</td><td>DR Zygfryd Zebrzanski, ocena: 5.0;</td><td>3,0</td><td>2020-03-12 00:00:00.000</td><td>CHEMII</td><td>MAGISTERSKIE</td><td>KONSTRUKCJE ZELBETOWE; NITROZAMINY; PRACA DYPLOMOWA; </td></tr>",
                            "<tr><td>Elektrochemia kardiomiocytów</td><td>Ilona Ilanicka;</td><td>PROF Marek Moczydlowski</td><td>LIC Sonia Szarecka, ocena: 3.5;DR INZ Marek Moczydlowski, ocena: 4.5;</td><td>5,0</td><td>2020-02-12 00:00:00.000</td><td>CHEMII</td><td>MAGISTERSKIE</td><td>PRACA DYPLOMOWA; PRAD ELEKTRYCZNY; </td></tr>",
                            "</table>"
                        ]
                    }
                }
            ],
            "execution_count": 77
        }
    ]
}